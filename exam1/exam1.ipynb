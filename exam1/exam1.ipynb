{
  "nbformat": 4,
  "nbformat_minor": 0,
  "metadata": {
    "colab": {
      "name": "exam1.ipynb",
      "provenance": [],
      "collapsed_sections": [],
      "authorship_tag": "ABX9TyMkeO7YkB3FzXnvPbD7xmXf",
      "include_colab_link": true
    },
    "kernelspec": {
      "name": "python3",
      "display_name": "Python 3"
    }
  },
  "cells": [
    {
      "cell_type": "markdown",
      "metadata": {
        "id": "view-in-github",
        "colab_type": "text"
      },
      "source": [
        "<a href=\"https://colab.research.google.com/github/bhagirathtallapragada/T-Natural-Language-Processing-CSC8980/blob/main/exam1/exam1.ipynb\" target=\"_parent\"><img src=\"https://colab.research.google.com/assets/colab-badge.svg\" alt=\"Open In Colab\"/></a>"
      ]
    },
    {
      "cell_type": "markdown",
      "metadata": {
        "id": "yaGNIgIfKbug"
      },
      "source": [
        "Bhagirath Tallapragada Panther id: 002575358"
      ]
    },
    {
      "cell_type": "markdown",
      "metadata": {
        "id": "4YntX4tcKjBs"
      },
      "source": [
        "Question 1) (20 points) Write a generic function that takes: Classification algorithm name,\r\n",
        "vectorization method name, training set with labels as parameters (total of 3 parameters should\r\n",
        "be passed). The function should take the classification algorithm name, the vectorization\r\n",
        "method’s name, and the training set and train the desired model. Use the default training\r\n",
        "parameters for the models we have seen in class. This function should return the trained model."
      ]
    },
    {
      "cell_type": "code",
      "metadata": {
        "id": "5tKVAdqVKbJW"
      },
      "source": [
        "import os\r\n",
        "import pandas as pd\r\n",
        "import numpy as np\r\n",
        "\r\n",
        "import sklearn\r\n",
        "from sklearn.feature_extraction.text import TfidfVectorizer\r\n",
        "from sklearn.feature_extraction.text import CountVectorizer\r\n",
        "from sklearn.metrics.pairwise import cosine_similarity\r\n",
        "from sklearn.naive_bayes import MultinomialNB\r\n",
        "from sklearn.ensemble import RandomForestClassifier\r\n",
        "from sklearn.svm import SVC\r\n",
        "from sklearn.pipeline import make_pipeline\r\n",
        "from sklearn.model_selection import train_test_split\r\n",
        "\r\n",
        "import matplotlib.pyplot as plt\r\n",
        "import seaborn as sns; sns.set()\r\n",
        "\r\n",
        "import spacy"
      ],
      "execution_count": 1,
      "outputs": []
    },
    {
      "cell_type": "code",
      "metadata": {
        "id": "i53ruSaqLjAW"
      },
      "source": [
        "#Loading and unzipping the dataset\r\n",
        "\r\n",
        "!unzip /content/sample_data/exam1_dataset.zip -d /content/sample_data/"
      ],
      "execution_count": null,
      "outputs": []
    },
    {
      "cell_type": "code",
      "metadata": {
        "id": "oinVDItFQIoP"
      },
      "source": [
        "# ! rm -rf /content/exam1_dataset"
      ],
      "execution_count": 4,
      "outputs": []
    },
    {
      "cell_type": "code",
      "metadata": {
        "colab": {
          "base_uri": "https://localhost:8080/"
        },
        "id": "fYDPb9CIMuZy",
        "outputId": "7d719ce6-19a4-432a-936e-db9e9afc9234"
      },
      "source": [
        "directory='/content/sample_data/exam1_dataset/TRAINING'\r\n",
        "collection=[]\r\n",
        "doc_name=[]\r\n",
        "label=[]\r\n",
        "for dir in os.listdir(directory):\r\n",
        "  print(dir)\r\n",
        "  if (dir == \"negative\"):\r\n",
        "    dir1=directory+'/negative/'\r\n",
        "    print(dir1)\r\n",
        "    for filename in os.listdir(dir1):\r\n",
        "      if (filename.endswith('.txt')):\r\n",
        "        string1=(open(os.path.join(dir1, filename)))\r\n",
        "        collection.append(string1.read())\r\n",
        "        doc_name.append(filename.rstrip('.txt'))\r\n",
        "        label.append(0)\r\n",
        "  elif (dir == \"positive\"):\r\n",
        "    dir1=directory+'/positive/'\r\n",
        "    print(dir1)\r\n",
        "    for filename in os.listdir(dir1):\r\n",
        "      if (filename.endswith('.txt')):\r\n",
        "        string1=(open(os.path.join(dir1, filename)))\r\n",
        "        collection.append(string1.read())\r\n",
        "        doc_name.append(filename.rstrip('.txt'))\r\n",
        "        label.append(1)\r\n"
      ],
      "execution_count": 5,
      "outputs": [
        {
          "output_type": "stream",
          "text": [
            "negative\n",
            "/content/sample_data/exam1_dataset/TRAINING/negative/\n",
            "positive\n",
            "/content/sample_data/exam1_dataset/TRAINING/positive/\n"
          ],
          "name": "stdout"
        }
      ]
    },
    {
      "cell_type": "code",
      "metadata": {
        "colab": {
          "base_uri": "https://localhost:8080/"
        },
        "id": "XK2HlJ1AONWz",
        "outputId": "d08e6594-4cdc-4f1b-eb85-23642c57ee89"
      },
      "source": [
        "print(len(label))"
      ],
      "execution_count": 6,
      "outputs": [
        {
          "output_type": "stream",
          "text": [
            "25000\n"
          ],
          "name": "stdout"
        }
      ]
    },
    {
      "cell_type": "code",
      "metadata": {
        "id": "1GGAte-tTLHr"
      },
      "source": [
        "#create a dataframe to store these values together for convenience\r\n",
        "\r\n",
        "training_set=pd.DataFrame(list(zip(doc_name, collection, label)), columns =['doc_name', 'text', 'label'])"
      ],
      "execution_count": 7,
      "outputs": []
    },
    {
      "cell_type": "code",
      "metadata": {
        "colab": {
          "base_uri": "https://localhost:8080/"
        },
        "id": "MN6Ck15AT1nh",
        "outputId": "054d4149-157a-487b-8886-238fdc62f078"
      },
      "source": [
        "# training_set.head() #labels:{positive=1, negative=0} \r\n",
        "training_set['text']"
      ],
      "execution_count": 8,
      "outputs": [
        {
          "output_type": "execute_result",
          "data": {
            "text/plain": [
              "0        I've seen about four other Japanese horror fil...\n",
              "1        \"54\" is a film based on the infamous \"Studio 5...\n",
              "2        I really wish that when making a comedy, the p...\n",
              "3        The only film I've ever walked out on. Amazing...\n",
              "4        Trying to cash in on the success of Deal Or No...\n",
              "                               ...                        \n",
              "24995    Skippy from Family Ties goes from clean-cut to...\n",
              "24996    This is how i felt while watching this film. I...\n",
              "24997    Very rarely does one come across an indie come...\n",
              "24998    I didn't at all think of it this way, but my f...\n",
              "24999    My goodness. This movie really really shows th...\n",
              "Name: text, Length: 25000, dtype: object"
            ]
          },
          "metadata": {
            "tags": []
          },
          "execution_count": 8
        }
      ]
    },
    {
      "cell_type": "code",
      "metadata": {
        "id": "X6SAMSl9VQZT"
      },
      "source": [
        "# Function to return the trained model\r\n",
        "\r\n",
        "def model_trainer(algo, vm, training_set):\r\n",
        "  model = make_pipeline(vm, algo)\r\n",
        "  model.fit(training_set['text'],training_set['label'])\r\n",
        "\r\n",
        "  return model"
      ],
      "execution_count": 9,
      "outputs": []
    },
    {
      "cell_type": "markdown",
      "metadata": {
        "id": "ZKsE70eIZoUl"
      },
      "source": [
        "Question 2) (30 points) Using the function from question 1 to build the following models:\r\n",
        "a) Model a: Naive Bayes, Vectorizer: TFIDF and Bag of Words, Training set should be 75%\r\n",
        "of the provided dataset. Leaving the remaining 25% for testing.\r\n",
        "b) Model b: RandomForest, Vectorizer: TFIDF and Bag of Words, Training set should be\r\n",
        "70% of the provided dataset. Leaving the remaining 30% for testing.\r\n",
        "c) Model c: Support Vector Machines (SVC in sklearn), Vectorizer: TFIDF and Bag of\r\n",
        "Words, Training set should be 60% of the provided dataset. Leaving the remaining 40%\r\n",
        "for testing.\r\n",
        "NOTE: Set the random seed to: 12345. This needs to be consistently set to train the model\r\n",
        "AND split the data in test and train. If this is not done correctly, you will lose points as your\r\n",
        "answers will not be comparable with the grading key"
      ]
    },
    {
      "cell_type": "markdown",
      "metadata": {
        "id": "DJJTB76QfyI1"
      },
      "source": [
        "a. Naive Bayes, TFIDF and bag of words"
      ]
    },
    {
      "cell_type": "code",
      "metadata": {
        "id": "iZmj0z5HZ0ws"
      },
      "source": [
        "#splitting 75% training and 25% test\r\n",
        "train_a, test_a = train_test_split(training_set, test_size=0.25, random_state=12345)"
      ],
      "execution_count": 10,
      "outputs": []
    },
    {
      "cell_type": "code",
      "metadata": {
        "colab": {
          "base_uri": "https://localhost:8080/"
        },
        "id": "ac_6J6Kcb9AX",
        "outputId": "2d303122-bc45-48ad-d878-076a4f388c7e"
      },
      "source": [
        "train_a.shape"
      ],
      "execution_count": 11,
      "outputs": [
        {
          "output_type": "execute_result",
          "data": {
            "text/plain": [
              "(18750, 3)"
            ]
          },
          "metadata": {
            "tags": []
          },
          "execution_count": 11
        }
      ]
    },
    {
      "cell_type": "code",
      "metadata": {
        "id": "0IbaQz_DcKHX"
      },
      "source": [
        "# a. Naive Bayes, TFIDF\r\n",
        "model_a_tf=model_trainer(MultinomialNB(),TfidfVectorizer(), train_a)"
      ],
      "execution_count": 12,
      "outputs": []
    },
    {
      "cell_type": "code",
      "metadata": {
        "id": "arGsNJvIdjep"
      },
      "source": [
        "labels_a_tf = model_a_tf.predict(test_a['text'])"
      ],
      "execution_count": 13,
      "outputs": []
    },
    {
      "cell_type": "code",
      "metadata": {
        "id": "PdLfqRzRgD3r"
      },
      "source": [
        "# # a. Naive Bayes, Bag of words\r\n",
        "model_a_cv=model_trainer(MultinomialNB(),CountVectorizer(), train_a)"
      ],
      "execution_count": 14,
      "outputs": []
    },
    {
      "cell_type": "code",
      "metadata": {
        "id": "Pzr33cDwj6t4"
      },
      "source": [
        "labels_a_cv = model_a_cv.predict(test_a['text'])"
      ],
      "execution_count": 15,
      "outputs": []
    },
    {
      "cell_type": "markdown",
      "metadata": {
        "id": "U-NUEI-ekdnP"
      },
      "source": [
        "b. RandomForest, TFIDF and bag of words"
      ]
    },
    {
      "cell_type": "code",
      "metadata": {
        "id": "AZEYdP5xkdS8"
      },
      "source": [
        "#splitting 70% training and 30% test\r\n",
        "train_b, test_b = train_test_split(training_set, test_size=0.3, random_state=12345)"
      ],
      "execution_count": 16,
      "outputs": []
    },
    {
      "cell_type": "code",
      "metadata": {
        "id": "kT3jfUkElQzz"
      },
      "source": [
        "model_b_tf=model_trainer(RandomForestClassifier(),TfidfVectorizer(), train_b)"
      ],
      "execution_count": 17,
      "outputs": []
    },
    {
      "cell_type": "code",
      "metadata": {
        "id": "m6NfHvx6leO_"
      },
      "source": [
        "labels_b_tf = model_b_tf.predict(test_b['text'])"
      ],
      "execution_count": 18,
      "outputs": []
    },
    {
      "cell_type": "code",
      "metadata": {
        "id": "hVXV4cZlmEtp"
      },
      "source": [
        "model_b_cv=model_trainer(RandomForestClassifier(),CountVectorizer(), train_b)"
      ],
      "execution_count": 19,
      "outputs": []
    },
    {
      "cell_type": "code",
      "metadata": {
        "id": "yPHoyJwBmKUd"
      },
      "source": [
        "labels_b_cv = model_b_cv.predict(test_b['text'])"
      ],
      "execution_count": 20,
      "outputs": []
    },
    {
      "cell_type": "markdown",
      "metadata": {
        "id": "3LmEgILIlr3h"
      },
      "source": [
        "c. SVM, TFIDF and bag of words"
      ]
    },
    {
      "cell_type": "code",
      "metadata": {
        "id": "qVoo3vsSl4Ro"
      },
      "source": [
        "#splitting 60% training and 40% test\r\n",
        "train_c, test_c = train_test_split(training_set, test_size=0.4, random_state=12345)"
      ],
      "execution_count": 21,
      "outputs": []
    },
    {
      "cell_type": "code",
      "metadata": {
        "id": "mUT6mUBdl79b"
      },
      "source": [
        "model_c_tf=model_trainer(SVC(),TfidfVectorizer(), train_c)"
      ],
      "execution_count": 22,
      "outputs": []
    },
    {
      "cell_type": "code",
      "metadata": {
        "id": "4p_JKSpFmgsQ"
      },
      "source": [
        "labels_c_tf = model_c_tf.predict(test_c['text'])"
      ],
      "execution_count": 23,
      "outputs": []
    },
    {
      "cell_type": "code",
      "metadata": {
        "id": "qDq95-xpmAxj"
      },
      "source": [
        "model_c_cv=model_trainer(SVC(),CountVectorizer(), train_c)"
      ],
      "execution_count": 24,
      "outputs": []
    },
    {
      "cell_type": "code",
      "metadata": {
        "id": "48waf_d3mkA1"
      },
      "source": [
        "labels_c_cv = model_c_cv.predict(test_c['text'])"
      ],
      "execution_count": 25,
      "outputs": []
    },
    {
      "cell_type": "markdown",
      "metadata": {
        "id": "eX1FTgwFth68"
      },
      "source": [
        "Question 3) (30 points) Using the models from Question 2, evaluate each model with its\r\n",
        "respective training set (for model a, that set is 25% of the data, for model b, that set is 30% of\r\n",
        "the data, and for model c that set is 40% of the data. Be careful to not mix up the evaluation\r\n",
        "sets. With the predictions on the test set and show the following metrics: Accuracy, Precision,\r\n",
        "Recall, and Macro F1-score. With this in mind, please write and answer these questions in your\r\n",
        "notebook:\r\n",
        "a) What model performs the best and why? (which metrics do you base this on, and why do\r\n",
        "you think it performs better than others).\r\n",
        "b) Why is it important not to mix up the testing sets between different models? Think about\r\n",
        "this one.\r\n",
        "c) Display in a single sorted dataframe (model name, training %, test %, accuracy,\r\n",
        "precision, recall, F1-score) all performance metrics, sorted by accuracy in descending\r\n",
        "manner."
      ]
    },
    {
      "cell_type": "markdown",
      "metadata": {
        "id": "H4kOuj0a-JaJ"
      },
      "source": [
        "Evaluating each model on the respective test sets on the metrics: Accuracy, Precision, Recall, Macro F1 Score"
      ]
    },
    {
      "cell_type": "code",
      "metadata": {
        "colab": {
          "base_uri": "https://localhost:8080/"
        },
        "id": "kEZOSGXbtng2",
        "outputId": "02b2005e-60cf-4142-fa52-8d11bfbc36ce"
      },
      "source": [
        "print('*** Evaluation of Model a (tfidf) ***')\r\n",
        "print('Accuracy:', sklearn.metrics.accuracy_score(test_a['label'],labels_a_tf))\r\n",
        "print('Precision:', sklearn.metrics.precision_score(test_a['label'],labels_a_tf))\r\n",
        "print('Recall:', sklearn.metrics.recall_score(test_a['label'],labels_a_tf))\r\n",
        "print('F1 Score:', sklearn.metrics.f1_score(labels_a_tf, test_a['label'], average='macro'))\r\n",
        "print('***')\r\n",
        "\r\n",
        "print('*** Evaluation of Model a (Bag of words) ***')\r\n",
        "print('Accuracy:', sklearn.metrics.accuracy_score(test_a['label'],labels_a_cv))\r\n",
        "print('Precision:', sklearn.metrics.precision_score(test_a['label'],labels_a_cv))\r\n",
        "print('Recall:', sklearn.metrics.recall_score(test_a['label'],labels_a_cv))\r\n",
        "print('F1 Score:', sklearn.metrics.f1_score(labels_a_cv, test_a['label'], average='macro'))\r\n",
        "print('***')\r\n",
        "\r\n",
        "print('*** Evaluation of Model b (tfidf) ***')\r\n",
        "print('Accuracy:', sklearn.metrics.accuracy_score(test_b['label'],labels_b_tf))\r\n",
        "print('Precision:', sklearn.metrics.precision_score(test_b['label'],labels_b_tf))\r\n",
        "print('Recall:', sklearn.metrics.recall_score(test_b['label'],labels_b_tf))\r\n",
        "print('F1 Score:', sklearn.metrics.f1_score(labels_b_tf, test_b['label'], average='macro'))\r\n",
        "print('***')\r\n",
        "\r\n",
        "print('*** Evaluation of Model b (Bag of words) ***')\r\n",
        "print('Accuracy:', sklearn.metrics.accuracy_score(test_b['label'],labels_b_cv))\r\n",
        "print('Precision:', sklearn.metrics.precision_score(test_b['label'],labels_b_cv))\r\n",
        "print('Recall:', sklearn.metrics.recall_score(test_b['label'],labels_b_cv))\r\n",
        "print('F1 Score:', sklearn.metrics.f1_score(labels_b_cv, test_b['label'], average='macro'))\r\n",
        "print('***')\r\n",
        "\r\n",
        "print('*** Evaluation of Model c (tfidf) ***')\r\n",
        "print('Accuracy:', sklearn.metrics.accuracy_score(test_c['label'],labels_c_tf))\r\n",
        "print('Precision:', sklearn.metrics.precision_score(test_c['label'],labels_c_tf))\r\n",
        "print('Recall:', sklearn.metrics.recall_score(test_c['label'],labels_c_tf))\r\n",
        "print('F1 Score:', sklearn.metrics.f1_score(labels_c_tf, test_c['label'], average='macro'))\r\n",
        "print('***')\r\n",
        "\r\n",
        "print('*** Evaluation of Model c (Bag of words) ***')\r\n",
        "print('Accuracy:', sklearn.metrics.accuracy_score(test_c['label'],labels_c_cv))\r\n",
        "print('Precision:', sklearn.metrics.precision_score(test_c['label'],labels_c_cv))\r\n",
        "print('Recall:', sklearn.metrics.recall_score(test_c['label'],labels_c_cv))\r\n",
        "print('F1 Score:', sklearn.metrics.f1_score(labels_c_cv, test_c['label'], average='macro'))\r\n",
        "print('***')"
      ],
      "execution_count": 26,
      "outputs": [
        {
          "output_type": "stream",
          "text": [
            "*** Evaluation of Model a (tfidf) ***\n",
            "Accuracy: 0.8624\n",
            "Precision: 0.8710659898477158\n",
            "Recall: 0.8431051424828038\n",
            "F1 Score: 0.8621933950460794\n",
            "***\n",
            "*** Evaluation of Model a (Bag of words) ***\n",
            "Accuracy: 0.84688\n",
            "Precision: 0.8672039243167484\n",
            "Recall: 0.8106780216180806\n",
            "F1 Score: 0.8464174378276605\n",
            "***\n",
            "*** Evaluation of Model b (tfidf) ***\n",
            "Accuracy: 0.8404\n",
            "Precision: 0.8348202216815356\n",
            "Recall: 0.8405008165487208\n",
            "F1 Score: 0.8403542235248219\n",
            "***\n",
            "*** Evaluation of Model b (Bag of words) ***\n",
            "Accuracy: 0.8378666666666666\n",
            "Precision: 0.8251322751322752\n",
            "Recall: 0.8489384866630375\n",
            "F1 Score: 0.8378605673415198\n",
            "***\n",
            "*** Evaluation of Model c (tfidf) ***\n",
            "Accuracy: 0.8931\n",
            "Precision: 0.8858447488584474\n",
            "Recall: 0.9003228410008071\n",
            "F1 Score: 0.8930999476189743\n",
            "***\n",
            "*** Evaluation of Model c (Bag of words) ***\n",
            "Accuracy: 0.851\n",
            "Precision: 0.8400706436420722\n",
            "Recall: 0.8638014527845036\n",
            "F1 Score: 0.850995970931054\n",
            "***\n"
          ],
          "name": "stdout"
        }
      ]
    },
    {
      "cell_type": "markdown",
      "metadata": {
        "id": "2W_MIYBR-aY9"
      },
      "source": [
        "a. What model performs the best and why? (which metrics do you base this on, and why do you think it performs better than others)"
      ]
    },
    {
      "cell_type": "markdown",
      "metadata": {
        "id": "Z6PrYLQC-qbc"
      },
      "source": [
        "Ans. Approaching this question from the context of domain, since the dataset is a movie review dataset, relying simply on accuracy is not advisable as we need to appreciate what is the actual cost of having misclassified reviews.\r\n",
        "\r\n",
        "In the case of movie reviews, both false-positives and false-negatives seem to have a similar impact on the end result. A positive review classified as a negative can lead to equal disappointment for the end user as a negative review misclassfied as positive (if used in a generic scenario like a movie recommender, let's say). The risk is localized to the individual, therefore has equal priority for both errors in classification.\r\n",
        "\r\n",
        "We can juxtapose this with another classification scenario such as classifying if a candidate is a criminal or not. A real criminal misclassified as innocent has significantly higher risk to a larger population, than the opposite case.\r\n",
        "\r\n",
        "Bearing the above in mind, I would consider a balance between precision and recall to be of high importance in evaluating the given models. Therefore, I elect to consider a good score for precision, recall and F1 score (in the same order of precedence) as good metrics to evaluate the models.\r\n",
        "\r\n",
        "Therefore, the SVM model using the tfidf vectorizer is the best performing model with precision of 0.88, recall of 0.90 and a F1 score of 0.89."
      ]
    },
    {
      "cell_type": "markdown",
      "metadata": {
        "id": "zoBjnS8M-iKM"
      },
      "source": [
        "b. Why is it important not to mix up the testing sets between different models? Think about this one."
      ]
    },
    {
      "cell_type": "markdown",
      "metadata": {
        "id": "Dn8bIL5f-uop"
      },
      "source": [
        "Ans. It is important to not mix up the testing sets between different models due to the fact that we are using different split percentage of training and test data to train various models. \r\n",
        "\r\n",
        "Due to this, mixing the test sets can result in a mix up of samples from the training data creeping into the test set for certain models.\r\n",
        "\r\n",
        "For example: the SVM model only uses 60% of data for training. So if the test set of this model is used to evaluate another model like Naive Bayes where the training data is 75%, a lot of samples of the test set of SVM will already be existing in the training set of Naive Bayes model.\r\n",
        "\r\n",
        "This can result in problems like overfitting and erroneous evaluation of Naive Bayes model's performance in the above example."
      ]
    },
    {
      "cell_type": "markdown",
      "metadata": {
        "id": "urabmin2y0oj"
      },
      "source": [
        "c. Sorted dataframe with the metrics in descending order based on accuracy "
      ]
    },
    {
      "cell_type": "code",
      "metadata": {
        "id": "EkM7fSMqzAFM"
      },
      "source": [
        "# prepare data to insert into the columns of the dataframe\r\n",
        "\r\n",
        "lacc=[sklearn.metrics.accuracy_score(test_a['label'],labels_a_tf),\r\n",
        "sklearn.metrics.accuracy_score(test_a['label'],labels_a_cv),\r\n",
        "sklearn.metrics.accuracy_score(test_b['label'],labels_b_tf),\r\n",
        "sklearn.metrics.accuracy_score(test_b['label'],labels_b_cv),\r\n",
        "sklearn.metrics.accuracy_score(test_c['label'],labels_c_tf),\r\n",
        "sklearn.metrics.accuracy_score(test_c['label'],labels_c_cv)]\r\n",
        "\r\n",
        "lpre=[\r\n",
        "sklearn.metrics.precision_score(test_a['label'],labels_a_tf),\r\n",
        "sklearn.metrics.precision_score(test_a['label'],labels_a_cv),\r\n",
        "sklearn.metrics.precision_score(test_b['label'],labels_b_tf),\r\n",
        "sklearn.metrics.precision_score(test_b['label'],labels_b_cv),\r\n",
        "sklearn.metrics.precision_score(test_c['label'],labels_c_tf),\r\n",
        "sklearn.metrics.precision_score(test_c['label'],labels_c_cv)]\r\n",
        "\r\n",
        "lre=[sklearn.metrics.recall_score(test_a['label'],labels_a_tf),\r\n",
        "sklearn.metrics.recall_score(test_a['label'],labels_a_cv),\r\n",
        "sklearn.metrics.recall_score(test_b['label'],labels_b_tf),\r\n",
        "sklearn.metrics.recall_score(test_b['label'],labels_b_cv),\r\n",
        "sklearn.metrics.recall_score(test_c['label'],labels_c_tf),\r\n",
        "sklearn.metrics.recall_score(test_c['label'],labels_c_cv)]\r\n",
        "\r\n",
        "lf1=[sklearn.metrics.f1_score(labels_a_tf, test_a['label'], average='macro'),\r\n",
        "sklearn.metrics.f1_score(labels_a_cv, test_a['label'], average='macro'),\r\n",
        "sklearn.metrics.f1_score(labels_b_tf, test_b['label'], average='macro'),\r\n",
        "sklearn.metrics.f1_score(labels_b_cv, test_b['label'], average='macro'),\r\n",
        "sklearn.metrics.f1_score(labels_c_tf, test_c['label'], average='macro'),\r\n",
        "sklearn.metrics.f1_score(labels_c_cv, test_c['label'], average='macro')]\r\n",
        "\r\n",
        "lmod=['Naive Bayes_BoW','Naive Bayes_BoW','RandomForestClassifier_tfidf','RandomForestClassifier_BoW','SVM_tfidf','SVM_BoW']\r\n",
        "ltr=['75%', '75%', '70%', '70%','60%', '60%']\r\n",
        "ltest=['25%', '25%', '30%','30%','40%', '40%']"
      ],
      "execution_count": 27,
      "outputs": []
    },
    {
      "cell_type": "code",
      "metadata": {
        "id": "yOEl2AV84iQq"
      },
      "source": [
        "# Creating a dataframe\r\n",
        "metrics_df=pd.DataFrame({'Training %':ltr, 'Test %':ltest, 'Accuracy':lacc, 'Precision':lpre, 'Recall':lre, 'F1 Score':lf1}, index=lmod)"
      ],
      "execution_count": 28,
      "outputs": []
    },
    {
      "cell_type": "code",
      "metadata": {
        "colab": {
          "base_uri": "https://localhost:8080/",
          "height": 225
        },
        "id": "osSc8xbO5ngJ",
        "outputId": "6956d071-7cb9-49f3-ca13-c9abe0fc17ae"
      },
      "source": [
        "#sorting the values based on Accuracy score\r\n",
        "metrics_df.sort_values(by='Accuracy', ascending=False)"
      ],
      "execution_count": 29,
      "outputs": [
        {
          "output_type": "execute_result",
          "data": {
            "text/html": [
              "<div>\n",
              "<style scoped>\n",
              "    .dataframe tbody tr th:only-of-type {\n",
              "        vertical-align: middle;\n",
              "    }\n",
              "\n",
              "    .dataframe tbody tr th {\n",
              "        vertical-align: top;\n",
              "    }\n",
              "\n",
              "    .dataframe thead th {\n",
              "        text-align: right;\n",
              "    }\n",
              "</style>\n",
              "<table border=\"1\" class=\"dataframe\">\n",
              "  <thead>\n",
              "    <tr style=\"text-align: right;\">\n",
              "      <th></th>\n",
              "      <th>Training %</th>\n",
              "      <th>Test %</th>\n",
              "      <th>Accuracy</th>\n",
              "      <th>Precision</th>\n",
              "      <th>Recall</th>\n",
              "      <th>F1 Score</th>\n",
              "    </tr>\n",
              "  </thead>\n",
              "  <tbody>\n",
              "    <tr>\n",
              "      <th>SVM_tfidf</th>\n",
              "      <td>60%</td>\n",
              "      <td>40%</td>\n",
              "      <td>0.893100</td>\n",
              "      <td>0.885845</td>\n",
              "      <td>0.900323</td>\n",
              "      <td>0.893100</td>\n",
              "    </tr>\n",
              "    <tr>\n",
              "      <th>Naive Bayes_BoW</th>\n",
              "      <td>75%</td>\n",
              "      <td>25%</td>\n",
              "      <td>0.862400</td>\n",
              "      <td>0.871066</td>\n",
              "      <td>0.843105</td>\n",
              "      <td>0.862193</td>\n",
              "    </tr>\n",
              "    <tr>\n",
              "      <th>SVM_BoW</th>\n",
              "      <td>60%</td>\n",
              "      <td>40%</td>\n",
              "      <td>0.851000</td>\n",
              "      <td>0.840071</td>\n",
              "      <td>0.863801</td>\n",
              "      <td>0.850996</td>\n",
              "    </tr>\n",
              "    <tr>\n",
              "      <th>Naive Bayes_BoW</th>\n",
              "      <td>75%</td>\n",
              "      <td>25%</td>\n",
              "      <td>0.846880</td>\n",
              "      <td>0.867204</td>\n",
              "      <td>0.810678</td>\n",
              "      <td>0.846417</td>\n",
              "    </tr>\n",
              "    <tr>\n",
              "      <th>RandomForestClassifier_tfidf</th>\n",
              "      <td>70%</td>\n",
              "      <td>30%</td>\n",
              "      <td>0.840400</td>\n",
              "      <td>0.834820</td>\n",
              "      <td>0.840501</td>\n",
              "      <td>0.840354</td>\n",
              "    </tr>\n",
              "    <tr>\n",
              "      <th>RandomForestClassifier_BoW</th>\n",
              "      <td>70%</td>\n",
              "      <td>30%</td>\n",
              "      <td>0.837867</td>\n",
              "      <td>0.825132</td>\n",
              "      <td>0.848938</td>\n",
              "      <td>0.837861</td>\n",
              "    </tr>\n",
              "  </tbody>\n",
              "</table>\n",
              "</div>"
            ],
            "text/plain": [
              "                             Training % Test %  ...    Recall  F1 Score\n",
              "SVM_tfidf                           60%    40%  ...  0.900323  0.893100\n",
              "Naive Bayes_BoW                     75%    25%  ...  0.843105  0.862193\n",
              "SVM_BoW                             60%    40%  ...  0.863801  0.850996\n",
              "Naive Bayes_BoW                     75%    25%  ...  0.810678  0.846417\n",
              "RandomForestClassifier_tfidf        70%    30%  ...  0.840501  0.840354\n",
              "RandomForestClassifier_BoW          70%    30%  ...  0.848938  0.837861\n",
              "\n",
              "[6 rows x 6 columns]"
            ]
          },
          "metadata": {
            "tags": []
          },
          "execution_count": 29
        }
      ]
    },
    {
      "cell_type": "markdown",
      "metadata": {
        "id": "JEj4473T_7lf"
      },
      "source": [
        "Question 4) (15 points) Using the documents in the folder named UNLABELED, please use\r\n",
        "your best performing trained model from question 3 to predict their labels. Please do this\r\n",
        "individually for each document. Print to the screen the following items: Document Name,\r\n",
        "Predicted Label and using a text cell, write your own opinion if the label is correct and why -\r\n",
        "note you have to read the document to make your own opinion."
      ]
    },
    {
      "cell_type": "code",
      "metadata": {
        "id": "ieKuayYSAA9v"
      },
      "source": [
        "directory='/content/sample_data/exam1_dataset/UNLABELED/'\r\n",
        "collection1=[]\r\n",
        "doc_name1=[]\r\n",
        "for filename in os.listdir(directory):\r\n",
        " if (filename.endswith('.txt')):\r\n",
        "   string2=(open(os.path.join(directory, filename)))\r\n",
        "   collection1.append(string2.read())\r\n",
        "   doc_name1.append(filename.rstrip('.txt'))"
      ],
      "execution_count": 30,
      "outputs": []
    },
    {
      "cell_type": "code",
      "metadata": {
        "id": "agLjfE24Xnfc"
      },
      "source": [
        "# Loading the unlabeled data into a dataframe\r\n",
        "t_set=pd.DataFrame(list(zip(doc_name1, collection1)), columns =['doc_name', 'text'])"
      ],
      "execution_count": 31,
      "outputs": []
    },
    {
      "cell_type": "code",
      "metadata": {
        "colab": {
          "base_uri": "https://localhost:8080/"
        },
        "id": "I1vLa71UYDSF",
        "outputId": "a6aaa3a8-674e-44a6-bacb-5d08ac22cab6"
      },
      "source": [
        "t_set.shape"
      ],
      "execution_count": 32,
      "outputs": [
        {
          "output_type": "execute_result",
          "data": {
            "text/plain": [
              "(11, 2)"
            ]
          },
          "metadata": {
            "tags": []
          },
          "execution_count": 32
        }
      ]
    },
    {
      "cell_type": "markdown",
      "metadata": {
        "id": "N5G5ZICCQdOU"
      },
      "source": [
        "Label 0 is for negative class, label 1 is for positive class"
      ]
    },
    {
      "cell_type": "code",
      "metadata": {
        "colab": {
          "base_uri": "https://localhost:8080/"
        },
        "id": "fDNeVkuPZPqR",
        "outputId": "fd266f2a-a9dc-498b-88e2-9709e5b4ce55"
      },
      "source": [
        "print('document name: {0}'.format(t_set.iloc[0,0]))\r\n",
        "# print(t_set.iloc[0,1])\r\n",
        "outcome=model_c_tf.predict([t_set.iloc[0,1]])\r\n",
        "print('Predicted label: {0}'.format(outcome))"
      ],
      "execution_count": 33,
      "outputs": [
        {
          "output_type": "stream",
          "text": [
            "document name: 46278_0\n",
            "Predicted label: [1]\n"
          ],
          "name": "stdout"
        }
      ]
    },
    {
      "cell_type": "markdown",
      "metadata": {
        "id": "AulDmIIub9t2"
      },
      "source": [
        "This is a correct label for document 0_0 as the review talks about a number of positive features about films before 1933 by singling out a few classics of the time and their qualities despite not being a huge fan pre 1933 films."
      ]
    },
    {
      "cell_type": "code",
      "metadata": {
        "colab": {
          "base_uri": "https://localhost:8080/"
        },
        "id": "u0JzzuMSdUCZ",
        "outputId": "d390158c-4bf9-4757-cc35-b340bbe0fa7d"
      },
      "source": [
        "print('document name: {0}'.format(t_set.iloc[1,0]))\r\n",
        "# print(t_set.iloc[1,1])\r\n",
        "outcome=model_c_tf.predict([t_set.iloc[1,1]])\r\n",
        "print('Predicted label: {0}'.format(outcome))"
      ],
      "execution_count": 34,
      "outputs": [
        {
          "output_type": "stream",
          "text": [
            "document name: 36517_0\n",
            "Predicted label: [0]\n"
          ],
          "name": "stdout"
        }
      ]
    },
    {
      "cell_type": "markdown",
      "metadata": {
        "id": "7dE2p9FLd1zZ"
      },
      "source": [
        "This is a correct label for document 36517_0 as the review is outright negative and full of negative comments and words. There is not one positive view in the entire document."
      ]
    },
    {
      "cell_type": "code",
      "metadata": {
        "colab": {
          "base_uri": "https://localhost:8080/"
        },
        "id": "ptBgHz7dd2Hr",
        "outputId": "dfb7f0f4-7129-41bb-ff93-2589ab36063e"
      },
      "source": [
        "print('document name: {0}'.format(t_set.iloc[2,0]))\r\n",
        "# print(t_set.iloc[2,1])\r\n",
        "outcome=model_c_tf.predict([t_set.iloc[2,1]])\r\n",
        "print('Predicted label {0}'.format(outcome))"
      ],
      "execution_count": 35,
      "outputs": [
        {
          "output_type": "stream",
          "text": [
            "document name: 24221_0\n",
            "Predicted label [0]\n"
          ],
          "name": "stdout"
        }
      ]
    },
    {
      "cell_type": "markdown",
      "metadata": {
        "id": "akhhj0f2fqCD"
      },
      "source": [
        "This is a correct label for document 46705_0 as this review is also encapsulating only the shortcomings of the 'zombie film' in both the creative and technical aspects. This is apparently despite the reviewer having high tolerance for bad films."
      ]
    },
    {
      "cell_type": "code",
      "metadata": {
        "colab": {
          "base_uri": "https://localhost:8080/"
        },
        "id": "w1ayDFYofqtj",
        "outputId": "49a41bb6-1356-4e65-b712-d0ceb292412c"
      },
      "source": [
        "print('document name: {0}'.format(t_set.iloc[3,0]))\r\n",
        "# print(t_set.iloc[3,1])\r\n",
        "outcome=model_c_tf.predict([t_set.iloc[3,1]])\r\n",
        "print('Predicted label {0}'.format(outcome))"
      ],
      "execution_count": 36,
      "outputs": [
        {
          "output_type": "stream",
          "text": [
            "document name: 46705_0\n",
            "Predicted label [0]\n"
          ],
          "name": "stdout"
        }
      ]
    },
    {
      "cell_type": "markdown",
      "metadata": {
        "id": "ImqCN8LSf_kZ"
      },
      "source": [
        "This is a correct label for document 36022_0 as this review mentions negative aspects on the technical front while commenting that the performer had better luck with another film than this one."
      ]
    },
    {
      "cell_type": "code",
      "metadata": {
        "id": "hzwnYkWTgAPl",
        "colab": {
          "base_uri": "https://localhost:8080/"
        },
        "outputId": "8568e9fd-f6bd-497c-8d17-6bb784541a25"
      },
      "source": [
        "print('document name: {0}'.format(t_set.iloc[4,0]))\r\n",
        "# print(t_set.iloc[4,1])\r\n",
        "outcome=model_c_tf.predict([t_set.iloc[4,1]])\r\n",
        "print('Predicted label {0}'.format(outcome))"
      ],
      "execution_count": 37,
      "outputs": [
        {
          "output_type": "stream",
          "text": [
            "document name: 37154_0\n",
            "Predicted label [0]\n"
          ],
          "name": "stdout"
        }
      ]
    },
    {
      "cell_type": "markdown",
      "metadata": {
        "id": "h4oAo4vzgG6C"
      },
      "source": [
        "This is a correct label for document 36149_0 as the reviewer is clearly disgusted by the filming and costumes etc."
      ]
    },
    {
      "cell_type": "code",
      "metadata": {
        "colab": {
          "base_uri": "https://localhost:8080/"
        },
        "id": "K0ODrQLLgHeo",
        "outputId": "46bf937e-ebf8-4898-db87-3a793821e585"
      },
      "source": [
        "print('document name: {0}'.format(t_set.iloc[5,0]))\r\n",
        "# print(t_set.iloc[5,1])\r\n",
        "outcome=model_c_tf.predict([t_set.iloc[5,1]])\r\n",
        "print('Predicted label {0}'.format(outcome))"
      ],
      "execution_count": 38,
      "outputs": [
        {
          "output_type": "stream",
          "text": [
            "document name: 0_0\n",
            "Predicted label [1]\n"
          ],
          "name": "stdout"
        }
      ]
    },
    {
      "cell_type": "markdown",
      "metadata": {
        "id": "XNY0PxYwgNAZ"
      },
      "source": [
        "This is a difficult choice of label for document 35968_0 as the review is both defensive of the maker of the film in comparison to his earlier works as well as disappointed by the lacklustre result in the current film. The reviewer is clearky disappointed yet passes the film as watchable 'in the moment' or as one to forget in the long run. Therefore the review is very reserved yet passes as positive."
      ]
    },
    {
      "cell_type": "code",
      "metadata": {
        "colab": {
          "base_uri": "https://localhost:8080/"
        },
        "id": "3jirvow9gNrQ",
        "outputId": "09918dec-4099-4756-8d39-1fd07ffce5af"
      },
      "source": [
        "print('document name: {0}'.format(t_set.iloc[6,0]))\r\n",
        "# print(t_set.iloc[6,1])\r\n",
        "outcome=model_c_tf.predict([t_set.iloc[6,1]])\r\n",
        "print('Predicted label {0}'.format(outcome))"
      ],
      "execution_count": 39,
      "outputs": [
        {
          "output_type": "stream",
          "text": [
            "document name: 36022_0\n",
            "Predicted label [0]\n"
          ],
          "name": "stdout"
        }
      ]
    },
    {
      "cell_type": "markdown",
      "metadata": {
        "id": "WHPTcRIxgSsr"
      },
      "source": [
        "This is a correct label for document 49990_0 as the reviewer is not impressed at all by the film. This is made evident in words like boredom, wasted hour etc. It shows the movie did not fulfil its promise."
      ]
    },
    {
      "cell_type": "code",
      "metadata": {
        "colab": {
          "base_uri": "https://localhost:8080/"
        },
        "id": "B_PThcK1gTJY",
        "outputId": "140b3e78-eb92-42d2-feb1-fbc3c40dd24f"
      },
      "source": [
        "print('document name: {0}'.format(t_set.iloc[7,0]))\r\n",
        "# print(t_set.iloc[7,1])\r\n",
        "outcome=model_c_tf.predict([t_set.iloc[7,1]])\r\n",
        "print('Predicted label {0}'.format(outcome))"
      ],
      "execution_count": 40,
      "outputs": [
        {
          "output_type": "stream",
          "text": [
            "document name: 36149_0\n",
            "Predicted label [0]\n"
          ],
          "name": "stdout"
        }
      ]
    },
    {
      "cell_type": "markdown",
      "metadata": {
        "id": "xkvbNFGNgYja"
      },
      "source": [
        "This is a correct review for document 24221_0 as the work mentioned contains a number of sub topics within and despite some of them being funny enough, all of them suffer from long and unnecessary passages for characters. The reviewer weighs the negative more over the positives."
      ]
    },
    {
      "cell_type": "code",
      "metadata": {
        "colab": {
          "base_uri": "https://localhost:8080/"
        },
        "id": "iYw-IWq1gZXi",
        "outputId": "67770d7a-5ad6-4816-9a2e-3652a35f68da"
      },
      "source": [
        "print('document name: {0}'.format(t_set.iloc[8,0]))\r\n",
        "# print(t_set.iloc[8,1])\r\n",
        "outcome=model_c_tf.predict([t_set.iloc[8,1]])\r\n",
        "print('Predicted label {0}'.format(outcome))"
      ],
      "execution_count": 41,
      "outputs": [
        {
          "output_type": "stream",
          "text": [
            "document name: 35991_0\n",
            "Predicted label [0]\n"
          ],
          "name": "stdout"
        }
      ]
    },
    {
      "cell_type": "markdown",
      "metadata": {
        "id": "dI30ciOhgd0b"
      },
      "source": [
        "This is a correct label for  35991_0 as the review has outright negative words such as bad, poor etc. This opinion does not change as the review progresses."
      ]
    },
    {
      "cell_type": "code",
      "metadata": {
        "colab": {
          "base_uri": "https://localhost:8080/"
        },
        "id": "ynNtY947ge22",
        "outputId": "844cd9e2-17c8-49ac-f63f-f24d2c1ee63d"
      },
      "source": [
        "print('document name: {0}'.format(t_set.iloc[9,0]))\r\n",
        "# print(t_set.iloc[9,1])\r\n",
        "outcome=model_c_tf.predict([t_set.iloc[9,1]])\r\n",
        "print('Predicted label {0}'.format(outcome))"
      ],
      "execution_count": 42,
      "outputs": [
        {
          "output_type": "stream",
          "text": [
            "document name: 49990_0\n",
            "Predicted label [0]\n"
          ],
          "name": "stdout"
        }
      ]
    },
    {
      "cell_type": "markdown",
      "metadata": {
        "id": "l38dUBFdgjwA"
      },
      "source": [
        "This is an interesting label choice for document 46278_0 as the review does not speak anything about the quality of the film itself. It is a neutral sentence with some personal postives for the reviewer which are not related to the film. The model does a good job in not mistaking this as a positive review "
      ]
    },
    {
      "cell_type": "code",
      "metadata": {
        "colab": {
          "base_uri": "https://localhost:8080/"
        },
        "id": "w6-9xpxngkS4",
        "outputId": "f60840ca-f2a4-4f1a-e3e1-77a834ea7ca8"
      },
      "source": [
        "print('document name: {0}'.format(t_set.iloc[10,0]))\r\n",
        "# print(t_set.iloc[10,1])\r\n",
        "outcome=model_c_tf.predict([t_set.iloc[10,1]])\r\n",
        "print('Predicted label {0}'.format(outcome))"
      ],
      "execution_count": 43,
      "outputs": [
        {
          "output_type": "stream",
          "text": [
            "document name: 35968_0\n",
            "Predicted label [0]\n"
          ],
          "name": "stdout"
        }
      ]
    },
    {
      "cell_type": "markdown",
      "metadata": {
        "id": "Hq8sDrlDgq2v"
      },
      "source": [
        "This is a correct label for document 37154 as the review expresses disappointment through words like lame, senseless etc. Even though the reviewer gives three stars, the content of the document conveys negative tone."
      ]
    },
    {
      "cell_type": "markdown",
      "metadata": {
        "id": "KjGfRNm5hWK7"
      },
      "source": [
        "Question 5) (20 points) Build a function that takes the set of documents as input and returns a\r\n",
        "cosine similarity matrix for those documents. Feed all documents in the TRAINING folder to this\r\n",
        "matrix. Instead of printing the returned cosine similarity matrix, create a heatmap plot from the\r\n",
        "returned matrix. Make sure your plot is nicely scaled, properly labeled, and uses a nice color\r\n",
        "range to show the similarity"
      ]
    },
    {
      "cell_type": "code",
      "metadata": {
        "id": "odxpDRNChZ56"
      },
      "source": [
        "# preparing the documents into a list to input to the given function\r\n",
        "directory='/content/sample_data/exam1_dataset/TRAINING'\r\n",
        "collection3=[]\r\n",
        "doc_name3=[]\r\n",
        "for dir in os.listdir(directory):\r\n",
        "  dir1=directory+'/'+dir+'/'\r\n",
        "  for filename in os.listdir(dir1):\r\n",
        "    if (filename.endswith('.txt')):\r\n",
        "      string3=(open(os.path.join(dir1, filename)))\r\n",
        "      collection3.append(string3.read())\r\n",
        "      doc_name3.append(filename.rstrip('.txt'))"
      ],
      "execution_count": 2,
      "outputs": []
    },
    {
      "cell_type": "code",
      "metadata": {
        "colab": {
          "base_uri": "https://localhost:8080/"
        },
        "id": "CiTV4GWdidmJ",
        "outputId": "50fce4e3-d0d4-4d89-e88e-109b9fc1ddeb"
      },
      "source": [
        "print(collection3[0])\r\n",
        "print(doc_name3[0])"
      ],
      "execution_count": 3,
      "outputs": [
        {
          "output_type": "stream",
          "text": [
            "I've seen about four other Japanese horror films and they weren't too impressive. However, I could sense that there was a sensible script guiding the way.<br /><br />Not here, no way. This is about a detective who is trying to tie together similar murders that have been happening. When he finds a suspect to question, the suspect freaks out because they keep seeing a ghost. Then, the ghost starts to follow the detective around FOR A REASON THAT IS NEVER EXPLAINED AND TAKES UP MORE THAN HALF OF THE MOVIE.<br /><br />Bad enough? Oh no. The film keeps switching perspectives to different characters who don't have much to do with the story. I've seen this before in other movies where it shows a different perspective. Not the case here.<br /><br />Also, whatever is happening on screen that is actually tolerable quickly ends. For example, there a few scenes with a slight instrumental score that builds up and...then it just cuts to another scene. I'm aware that this can be a dramatic effect. That's definitely not the intention here. It's just bad editing.<br /><br />Finally, there's the \"ghost\" who just screams in a way that's not scary or unintentionally funny. It's annoying and it happens a lot throughout the movie.<br /><br />All of the scares have been done before in better ways so you can see them all coming. Then after one of them, the movie is over. At that point, a wave of confusion swept over the audience as I could sense we all felt that we had wasted our time. Someone did a mock clap and laughter ensued. It was better than the whole film. Simply put, AVOID.\n",
            "12268_1\n"
          ],
          "name": "stdout"
        }
      ]
    },
    {
      "cell_type": "code",
      "metadata": {
        "id": "U8o7mQZSoym6"
      },
      "source": [
        "# defining the function to generate cosine similarity matrix\r\n",
        "# Due to the RAM constraints of Colab, to generate the cosine similarity matrix, I am reducing the precision of the numpy matrix generated \r\n",
        "# by TfidfVectorizer() to float32 instead of default float64 in the following function:\r\n",
        "\r\n",
        "def cosine_sim_creator(collection):\r\n",
        "  tfIdfVectorizer1=TfidfVectorizer()\r\n",
        "  tfIdf = tfIdfVectorizer1.fit_transform(collection)\r\n",
        "  tfIdf=tfIdf.astype(np.float32)\r\n",
        "  csmat=cosine_similarity(tfIdf)\r\n",
        "\r\n",
        "  return csmat"
      ],
      "execution_count": 4,
      "outputs": []
    },
    {
      "cell_type": "code",
      "metadata": {
        "id": "I26VzkTiqH2I"
      },
      "source": [
        "cs1=cosine_sim_creator(collection3)"
      ],
      "execution_count": 5,
      "outputs": []
    },
    {
      "cell_type": "code",
      "metadata": {
        "colab": {
          "base_uri": "https://localhost:8080/"
        },
        "id": "Vl4iH7Q_qzr6",
        "outputId": "5c872f55-2432-4fff-86fd-c95fcafb715a"
      },
      "source": [
        "print(cs1.shape)\r\n",
        "print(cs1.dtype)"
      ],
      "execution_count": 48,
      "outputs": [
        {
          "output_type": "stream",
          "text": [
            "(25000, 25000)\n",
            "float32\n"
          ],
          "name": "stdout"
        }
      ]
    },
    {
      "cell_type": "code",
      "metadata": {
        "id": "8582T3k1oCTO"
      },
      "source": [
        "# To check the values of the cosine similarity matrix: convert the retrieved numpy array into a dataframe\r\n",
        "# for better visualization\r\n",
        "\r\n",
        "# dftest=pd.DataFrame(cs1)\r\n",
        "# dftest"
      ],
      "execution_count": 49,
      "outputs": []
    },
    {
      "cell_type": "markdown",
      "metadata": {
        "id": "x0OoLn2BrJYD"
      },
      "source": [
        "Generating the heatmap for the retrieved cosine similarity matrix: "
      ]
    },
    {
      "cell_type": "code",
      "metadata": {
        "id": "anU9xlfmtxgM",
        "colab": {
          "base_uri": "https://localhost:8080/",
          "height": 272
        },
        "outputId": "c9a31621-f4f5-4133-8f85-c69f31084574"
      },
      "source": [
        "plt.imshow(cs1, cmap='hot', interpolation='nearest')\r\n",
        "plt.show()"
      ],
      "execution_count": 50,
      "outputs": [
        {
          "output_type": "display_data",
          "data": {
            "image/png": "[encoded data removed]",
            "text/plain": [
              "<Figure size 432x288 with 1 Axes>"
            ]
          },
          "metadata": {
            "tags": []
          }
        }
      ]
    },
    {
      "cell_type": "code",
      "metadata": {
        "id": "2LprgZFEb0Jj"
      },
      "source": [
        "#  dftest = pd.DataFrame(cs1)\r\n",
        "# mask = np.triu(np.ones_like(cs1))\r\n",
        "# # plotting a triangle correlation heatmap \r\n",
        "# dataplot = sns.heatmap(dftest, mask=mask) \r\n",
        "  \r\n",
        "# # displaying heatmap \r\n",
        "# plt.show() "
      ],
      "execution_count": 51,
      "outputs": []
    },
    {
      "cell_type": "code",
      "metadata": {
        "id": "5M5EkPPS5vgq"
      },
      "source": [
        "# fig, ax = plt.subplots(1, 1, figsize = (24, 18))\r\n",
        "# im = ax.imshow(cs1,cmap='hot')\r\n",
        "\r\n",
        "# ax.set_xticks(np.arange(len(doc_name3)))\r\n",
        "# ax.set_yticks(np.arange(len(doc_name3)))\r\n",
        "# ax.set_xticklabels(doc_name3)\r\n",
        "# ax.set_yticklabels(doc_name3)\r\n",
        "\r\n",
        "# # Rotate the tick labels and set their alignment.\r\n",
        "# # plt.setp(ax.get_xticklabels(), rotation=45, ha=\"right\",\r\n",
        "# #          rotation_mode=\"anchor\")\r\n",
        "\r\n",
        "\r\n",
        "# ax.set_title(\"Heatmap of cosine similarity matrix\")\r\n",
        "# # fig.tight_layout()\r\n",
        "# plt.show()"
      ],
      "execution_count": 52,
      "outputs": []
    },
    {
      "cell_type": "markdown",
      "metadata": {
        "id": "i5Gp3NIU9GAR"
      },
      "source": [
        "Question 6) (15 points) Write a function that takes a cosine similarity matrix as input and\r\n",
        "returns a list with the top n document paris and their similarity. Note that you should only keep\r\n",
        "the document pairs that are unique and remove the comparisons of the document to itself. Print\r\n",
        "the top 50 similar document pairs. Compare the assigned class for each document and answer:\r\n",
        "Do all similar documents belong to the same class? Why or why not?\r\n"
      ]
    },
    {
      "cell_type": "code",
      "metadata": {
        "id": "pgXg6ALG9G3T"
      },
      "source": [
        "# approach 1, causes colab to crash due to heavy volume of dataset\r\n",
        "\r\n",
        "def top_n_similar(input_mat,n):\r\n",
        "  #pairs=[]\r\n",
        "  #sim=[]\r\n",
        "  #top_sim=[]\r\n",
        "  fin=[]\r\n",
        "  #input_mat=np.tril(input_mat)\r\n",
        "  dim=len(input_mat)\r\n",
        "  for col in range(0,(dim-1)):\r\n",
        "    for row in range(col,dim):\r\n",
        "      if (col==row):\r\n",
        "        continue\r\n",
        "      else:\r\n",
        "        #pairs.append([d1,d2])\r\n",
        "        #sim.append(input_mat[d1][d2])\r\n",
        "        #pair=(d1,d2)\r\n",
        "        #sim=input_mat[d1][d2]\r\n",
        "        fin.append(((row,col),input_mat[row][col]))  \r\n",
        "  # fin=list(zip(pairs,sim))\r\n",
        "  sorted(fin,key=itemgetter(1), reverse=True)\r\n",
        "  return fin[:n]"
      ],
      "execution_count": 53,
      "outputs": []
    },
    {
      "cell_type": "code",
      "metadata": {
        "id": "GOg0hB3VNEH3"
      },
      "source": [
        "# d=top_n_similar(cs1,50)\r\n",
        "# d"
      ],
      "execution_count": 54,
      "outputs": []
    },
    {
      "cell_type": "code",
      "metadata": {
        "id": "QRFY-jmemj1s"
      },
      "source": [
        "# approach two: reduce the precision further to enable processing in colab, use numpy methods to sort find the n most similar indices in cs1\r\n",
        "\r\n",
        "cs2=cs1.astype(np.float16)\r\n",
        "# cs2.dtype\r\n",
        "\r\n",
        "def top_n_similar(cs,n):\r\n",
        "  np.fill_diagonal(cs,0)\r\n",
        "  largest_ind = (-1*cs.ravel()).argsort()[:n]\r\n",
        "  ind = np.unravel_index(largest_ind, cs.shape)\r\n",
        "\r\n",
        "  return list(zip(list(ind[0]),list(ind[1])))"
      ],
      "execution_count": 6,
      "outputs": []
    },
    {
      "cell_type": "code",
      "metadata": {
        "id": "3gZxX-41w4fD"
      },
      "source": [
        "ind=top_n_similar(cs2,50)"
      ],
      "execution_count": 7,
      "outputs": []
    },
    {
      "cell_type": "code",
      "metadata": {
        "colab": {
          "base_uri": "https://localhost:8080/"
        },
        "id": "3shVpzPmLpnB",
        "outputId": "56741764-25a6-4d5f-f1f2-22fb931d0231"
      },
      "source": [
        "# returning the indices of 50 most similar documents\r\n",
        "ind"
      ],
      "execution_count": 8,
      "outputs": [
        {
          "output_type": "execute_result",
          "data": {
            "text/plain": [
              "[(19348, 15972),\n",
              " (5864, 5882),\n",
              " (8493, 10413),\n",
              " (4581, 11581),\n",
              " (5882, 5864),\n",
              " (5639, 3974),\n",
              " (19262, 24555),\n",
              " (14465, 18669),\n",
              " (9212, 7609),\n",
              " (18653, 13232),\n",
              " (7987, 10938),\n",
              " (2418, 12320),\n",
              " (2239, 81),\n",
              " (14850, 17749),\n",
              " (13232, 18653),\n",
              " (6048, 4811),\n",
              " (11468, 11125),\n",
              " (12320, 2418),\n",
              " (3395, 282),\n",
              " (16102, 14934),\n",
              " (1461, 12363),\n",
              " (2241, 2216),\n",
              " (4417, 2330),\n",
              " (6711, 5498),\n",
              " (2312, 1682),\n",
              " (14510, 17958),\n",
              " (5815, 3396),\n",
              " (21543, 18041),\n",
              " (10413, 2099),\n",
              " (15972, 19348),\n",
              " (22394, 14899),\n",
              " (820, 6040),\n",
              " (9392, 1889),\n",
              " (9212, 1458),\n",
              " (7469, 4307),\n",
              " (13215, 20635),\n",
              " (2216, 2241),\n",
              " (24249, 18993),\n",
              " (12363, 1461),\n",
              " (5763, 10490),\n",
              " (9701, 11000),\n",
              " (24555, 19262),\n",
              " (4388, 2649),\n",
              " (1682, 2312),\n",
              " (592, 12272),\n",
              " (7841, 396),\n",
              " (6946, 4014),\n",
              " (1403, 10252),\n",
              " (8316, 7884),\n",
              " (1145, 10418)]"
            ]
          },
          "metadata": {
            "tags": []
          },
          "execution_count": 8
        }
      ]
    },
    {
      "cell_type": "markdown",
      "metadata": {
        "id": "diO4F97d6YeI"
      },
      "source": [
        "Question 7) (20 points) Using Spacy’s part of speech tagger, process all sentences (hint: don’t\r\n",
        "forget to split the reviews) and count how many NOUN and VERB tags are found in all the\r\n",
        "movies review (TRAINING folder) separating them by label. In other words, how many NOUN\r\n",
        "and VERB tags are found in positive reviews, and how many NOUN and VERB tags are found\r\n",
        "in negative reviews. Answer the following question: When comparing both, do you see any\r\n",
        "differences? Why do you think about the differences? Or lack of them."
      ]
    },
    {
      "cell_type": "code",
      "metadata": {
        "id": "UkySetvs6a0t"
      },
      "source": [
        "nlp = spacy.load(\"en_core_web_sm\")"
      ],
      "execution_count": 9,
      "outputs": []
    },
    {
      "cell_type": "code",
      "metadata": {
        "id": "FpPogQqF74Aj"
      },
      "source": [
        "directory='/content/sample_data/exam1_dataset/TRAINING'\r\n",
        "collection=[]\r\n",
        "doc_name=[]\r\n",
        "label=[]\r\n",
        "for dir in os.listdir(directory):\r\n",
        "  #print(dir)\r\n",
        "  if (dir == \"negative\"):\r\n",
        "    dir1=directory+'/negative/'\r\n",
        "    # print(dir1)\r\n",
        "    for filename in os.listdir(dir1):\r\n",
        "      if (filename.endswith('.txt')):\r\n",
        "        string1=(open(os.path.join(dir1, filename)))\r\n",
        "        collection.append(string1.read())\r\n",
        "        doc_name.append(filename.rstrip('.txt'))\r\n",
        "        label.append(0)\r\n",
        "  elif (dir == \"positive\"):\r\n",
        "    dir1=directory+'/positive/'\r\n",
        "    # print(dir1)\r\n",
        "    for filename in os.listdir(dir1):\r\n",
        "      if (filename.endswith('.txt')):\r\n",
        "        string1=(open(os.path.join(dir1, filename)))\r\n",
        "        collection.append(string1.read())\r\n",
        "        doc_name.append(filename.rstrip('.txt'))\r\n",
        "        label.append(1)\r\n"
      ],
      "execution_count": 10,
      "outputs": []
    },
    {
      "cell_type": "code",
      "metadata": {
        "id": "xTGaUFu1_nx3"
      },
      "source": [
        "tags=[]\r\n",
        "tagged=[]\r\n",
        "for text in collection:\r\n",
        "  doc=nlp(text)\r\n",
        "  for token in doc:\r\n",
        "    tags.append(token.pos_)\r\n",
        "  tagged.append(tags)"
      ],
      "execution_count": null,
      "outputs": []
    },
    {
      "cell_type": "code",
      "metadata": {
        "id": "N6NC14b58REm"
      },
      "source": [
        "# print(len(tagged))\r\n",
        "#create a dataframe in the same way as Q1 to store the values together for convenience\r\n",
        "training_set=pd.DataFrame(list(zip(doc_name, collection, tagged, label)), columns =['doc_name', 'text', 'tags', 'label'])"
      ],
      "execution_count": null,
      "outputs": []
    },
    {
      "cell_type": "code",
      "metadata": {
        "id": "R4Ijs0Fd9HGb"
      },
      "source": [
        "training_set.head()"
      ],
      "execution_count": null,
      "outputs": []
    },
    {
      "cell_type": "code",
      "metadata": {
        "id": "iDxNttaMFCou"
      },
      "source": [
        "# The below code took over half hour to execute over the entire dataset, hence for vaidation of logic, I am looping over first 100 samples\r\n",
        "\r\n",
        "\r\n",
        "# counting number of nouns and verbs for label 0 and 1 respectively\r\n",
        "count_n0=0\r\n",
        "count_v0=0\r\n",
        "count_n1=0\r\n",
        "count_v1=0\r\n",
        "\r\n",
        "# for i in range(len(training_set)): # changed for validation purposes\r\n",
        "for i in range(0,100):\r\n",
        "  if (training_set.iloc[i]['label'] == 0):\r\n",
        "    for j in training_set.iloc[i]['tags']:\r\n",
        "      if (j == 'NOUN'):\r\n",
        "        count_n0+=1\r\n",
        "      elif (j == 'VERB'):\r\n",
        "        count_v0+=1\r\n",
        "  elif (training_set.iloc[i]['label'] == 1):\r\n",
        "    for j in training_set.iloc[i]['tags']:\r\n",
        "      if (j == 'NOUN'):\r\n",
        "        count_n1+=1\r\n",
        "      elif (j == 'VERB'):\r\n",
        "        count_v1+=1\r\n"
      ],
      "execution_count": null,
      "outputs": []
    },
    {
      "cell_type": "code",
      "metadata": {
        "id": "NJzfhXz2XO92"
      },
      "source": [
        "print('count of nouns in label 0 {0}'.format(count_n0))\r\n",
        "print('count of verbs in label 0 {0}'.format(count_v0))\r\n",
        "print('count of nouns in label 1 {0}'.format(count_n1))\r\n",
        "print('count of verbs in label 1 {0}'.format(count_v1))"
      ],
      "execution_count": null,
      "outputs": []
    },
    {
      "cell_type": "markdown",
      "metadata": {
        "id": "qAz2yY2hXj0u"
      },
      "source": [
        ""
      ]
    },
    {
      "cell_type": "markdown",
      "metadata": {
        "id": "-fFBwFCNMJsr"
      },
      "source": [
        "Question 8) (20 points) Using the results from the PoS process in question 7, count how many\r\n",
        "different PUNCT tags are found and their respective counts from the full dataset provided (both\r\n",
        "negative and positives together). Using regex, write a set of regular expressions that generate\r\n",
        "the same counts from the dataset without using NLTK or Spacy, just regex. Can you get the\r\n",
        "same counts? If not, why do you think this is?\r\n"
      ]
    },
    {
      "cell_type": "code",
      "metadata": {
        "id": "EXGrUUx1MPxg"
      },
      "source": [
        ""
      ],
      "execution_count": null,
      "outputs": []
    },
    {
      "cell_type": "markdown",
      "metadata": {
        "id": "uUUsREzvj2nP"
      },
      "source": [
        "Bonus Question: (40 points) Using the code from Class 09 - Word Embeddings, pre-tune\r\n",
        "BERT in order to classify movie reviews. You can use the full TRAINING folder for the tuning\r\n",
        "and use the UNLABELED folder for your final classification/prediction task. Do the label\r\n",
        "predictions from BERT match what your classifier from Question 4 predicted? If they don’t, are\r\n",
        "they better? Please say why."
      ]
    },
    {
      "cell_type": "code",
      "metadata": {
        "id": "8AeSJGuxj-fT"
      },
      "source": [
        ""
      ],
      "execution_count": null,
      "outputs": []
    }
  ]
}