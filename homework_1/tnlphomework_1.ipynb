{
  "nbformat": 4,
  "nbformat_minor": 0,
  "metadata": {
    "colab": {
      "name": "tnlphomework_1.ipynb",
      "provenance": [],
      "collapsed_sections": []
    },
    "kernelspec": {
      "name": "python3",
      "display_name": "Python 3"
    }
  },
  "cells": [
    {
      "cell_type": "markdown",
      "metadata": {
        "id": "XTrdNr8JraAT"
      },
      "source": [
        "Bhagirath Tallapragada,\r\n",
        "btallapragada1@student.gsu.edu,\r\n",
        "Student ID: 002575358"
      ]
    },
    {
      "cell_type": "markdown",
      "metadata": {
        "id": "Bz8GNmvPrraD"
      },
      "source": [
        "1. . Write a piece of code using a regular expression in Python to count how many times\r\n",
        "the following name appears: CICERO, this regex needs to be case-sensitive. (10 points)"
      ]
    },
    {
      "cell_type": "code",
      "metadata": {
        "colab": {
          "base_uri": "https://localhost:8080/",
          "height": 0
        },
        "id": "hoj2RBeK8nW6",
        "outputId": "1bda9fad-0071-46a5-cb2a-ce5c1bfff6dd"
      },
      "source": [
        "import re\r\n",
        "\r\n",
        "openfile=open('/content/sample_data/hw_1-text.txt','r')\r\n",
        "strings=openfile.read()\r\n",
        "\r\n",
        "term = re.compile(\"CICERO\")\r\n",
        "m1 = re.findall(term, strings)\r\n",
        "print(len(m1))"
      ],
      "execution_count": 167,
      "outputs": [
        {
          "output_type": "stream",
          "text": [
            "7\n"
          ],
          "name": "stdout"
        }
      ]
    },
    {
      "cell_type": "markdown",
      "metadata": {
        "id": "TZBjeqIMA_IA"
      },
      "source": [
        "2. Write a regular expression in Python that finds all 6 character words found in this play.\r\n",
        "(10 points)"
      ]
    },
    {
      "cell_type": "code",
      "metadata": {
        "colab": {
          "base_uri": "https://localhost:8080/",
          "height": 0
        },
        "id": "UvYcgnCEBAWT",
        "outputId": "0c081e5d-4c68-45c2-8bab-8c627376d00e"
      },
      "source": [
        "m2 = re.findall(r'\\b\\w{6}\\b', strings)\r\n",
        "print(m2)\r\n",
        "# for str in m2:\r\n",
        "#   m_.append(str[5:])\r\n",
        "print(len(set(m2)))"
      ],
      "execution_count": 168,
      "outputs": [
        {
          "output_type": "stream",
          "text": [
            "['Julius', 'Caesar', 'street', 'Second', 'answer', 'Second', 'indeed', 'mender', 'Second', 'fellow', 'Second', 'cobble', 'Second', 'meddle', 'indeed', 'danger', 'proper', 'Second', 'myself', 'indeed', 'Caesar', 'brings', 'follow', 'wheels', 'blocks', 'stones', 'things', 'hearts', 'Pompey', 'towers', 'Pompey', 'appear', 'sounds', 'shores', 'attire', 'Pompey', 'houses', 'plague', 'lowest', 'stream', 'shores', 'Exeunt', 'basest', 'vanish', 'tongue', 'images', 'matter', 'images', 'Caesar', 'vulgar', 'Caesar', 'Exeunt', 'public', 'CAESAR', 'ANTONY', 'course', 'PORTIA', 'DECIUS', 'BRUTUS', 'CICERO', 'BRUTUS', 'CAESAR', 'Caesar', 'speaks', 'CAESAR', 'CAESAR', 'course', 'ANTONY', 'Caesar', 'CAESAR', 'Forget', 'elders', 'barren', 'ANTONY', 'Caesar', 'CAESAR', 'Caesar', 'CAESAR', 'CAESAR', 'tongue', 'Caesar', 'Caesar', 'Beware', 'CAESAR', 'BRUTUS', 'beware', 'CAESAR', 'before', 'Fellow', 'throng', 'Caesar', 'CAESAR', 'Beware', 'CAESAR', 'Sennet', 'Exeunt', 'except', 'BRUTUS', 'course', 'BRUTUS', 'BRUTUS', 'spirit', 'Antony', 'hinder', 'Brutus', 'friend', 'BRUTUS', 'Merely', 'myself', 'proper', 'myself', 'number', 'Brutus', 'Brutus', 'breast', 'buried', 'worthy', 'Brutus', 'BRUTUS', 'itself', 'things', 'Brutus', 'hidden', 'shadow', 'Except', 'Caesar', 'Brutus', 'Brutus', 'BRUTUS', 'myself', 'Brutus', 'cannot', 'gentle', 'Brutus', 'common', 'myself', 'BRUTUS', 'people', 'Choose', 'Caesar', 'BRUTUS', 'impart', 'toward', 'honour', 'honour', 'virtue', 'Brutus', 'favour', 'honour', 'cannot', 'single', 'myself', 'Caesar', 'Endure', 'winter', 'shores', 'Caesar', 'Darest', 'yonder', 'follow', 'indeed', 'buffet', 'sinews', 'hearts', 'arrive', 'Caesar', 'Aeneas', 'flames', 'Caesar', 'become', 'Caesar', 'coward', 'colour', 'lustre', 'tongue', 'Romans', 'feeble', 'temper', 'should', 'BRUTUS', 'Caesar', 'narrow', 'graves', 'Brutus', 'Brutus', 'Caesar', 'should', 'Caesar', 'should', 'become', 'Brutus', 'spirit', 'Caesar', 'Caesar', 'shamed', 'bloods', 'indeed', 'enough', 'Brutus', 'easily', 'BRUTUS', 'answer', 'things', 'friend', 'Brutus', 'rather', 'repute', 'struck', 'Brutus', 'BRUTUS', 'Caesar', 'sleeve', 'worthy', 'CAESAR', 'BRUTUS', 'Caesar', 'Cicero', 'ferret', 'matter', 'CAESAR', 'ANTONY', 'Caesar', 'CAESAR', 'headed', 'nights', 'hungry', 'thinks', 'ANTONY', 'Caesar', 'CAESAR', 'fatter', 'liable', 'should', 'Antony', 'Seldom', 'smiles', 'smiles', 'spirit', 'Whiles', 'behold', 'rather', 'always', 'Caesar', 'Sennet', 'Exeunt', 'CAESAR', 'BRUTUS', 'Caesar', 'BRUTUS', 'should', 'people', 'BRUTUS', 'second', 'thrice', 'BRUTUS', 'thrice', 'thrice', 'honest', 'Antony', 'BRUTUS', 'manner', 'gentle', 'hanged', 'manner', 'Antony', 'hooted', 'sweaty', 'breath', 'Caesar', 'almost', 'choked', 'Caesar', 'Caesar', 'swound', 'market', 'foamed', 'BRUTUS', 'Caesar', 'honest', 'Caesar', 'people', 'BRUTUS', 'before', 'common', 'throat', 'rogues', 'hearts', 'Caesar', 'BRUTUS', 'Cicero', 'effect', 'smiled', 'scarfs', 'Caesar', 'images', 'morrow', 'dinner', 'eating', 'expect', 'BRUTUS', 'fellow', 'mettle', 'school', 'digest', 'better', 'BRUTUS', 'morrow', 'please', 'BRUTUS', 'Brutus', 'cannot', 'Caesar', 'Brutus', 'Brutus', 'should', 'humour', 'Caesar', 'Caesar', 'endure', 'street', 'CICERO', 'CICERO', 'Caesar', 'Shakes', 'unfirm', 'Cicero', 'knotty', 'clouds', 'Either', 'strife', 'heaven', 'CICERO', 'common', 'twenty', 'remain', 'glared', 'market', 'things', 'CICERO', 'Indeed', 'things', 'things', 'Caesar', 'morrow', 'morrow', 'CICERO', 'Cicero', 'CICERO', 'honest', 'menace', 'faults', 'breast', 'heaven', 'myself', 'mighty', 'tokens', 'sparks', 'should', 'wonder', 'ghosts', 'beasts', 'things', 'change', 'heaven', 'graves', 'action', 'Caesar', 'Romans', 'govern', 'Indeed', 'Caesar', 'dagger', 'strong', 'defeat', 'beaten', 'strong', 'spirit', 'itself', 'cancel', 'should', 'Caesar', 'tyrant', 'Romans', 'Romans', 'mighty', 'straws', 'serves', 'matter', 'Caesar', 'Before', 'answer', 'griefs', 'minded', 'Romans', 'Pompey', 'favour', 'bloody', 'awhile', 'friend', 'Cimber', 'sights', 'Brutus', 'Brutus', 'window', 'Brutus', 'statue', 'Repair', 'Pompey', 'Decius', 'Brutus', 'Cimber', 'bestow', 'papers', 'repair', 'Pompey', 'Brutus', 'entire', 'yields', 'people', 'hearts', 'appear', 'change', 'virtue', 'Exeunt', 'BRUTUS', 'BRUTUS', 'BRUTUS', 'Lucius', 'cannot', 'Lucius', 'Lucius', 'Lucius', 'LUCIUS', 'LUCIUS', 'BRUTUS', 'Lucius', 'LUCIUS', 'BRUTUS', 'change', 'nature', 'bright', 'brings', 'craves', 'danger', 'Caesar', 'reason', 'common', 'ladder', 'upward', 'upmost', 'ladder', 'clouds', 'ascend', 'Caesar', 'colour', 'LUCIUS', 'LUCIUS', 'closet', 'window', 'letter', 'BRUTUS', 'morrow', 'LUCIUS', 'BRUTUS', 'LUCIUS', 'BRUTUS', 'letter', 'Brutus', 'strike', 'Brutus', 'strike', 'strike', 'follow', 'Brutus', 'LUCIUS', 'LUCIUS', 'wasted', 'within', 'BRUTUS', 'knocks', 'LUCIUS', 'Caesar', 'acting', 'motion', 'Genius', 'mortal', 'little', 'nature', 'LUCIUS', 'LUCIUS', 'desire', 'BRUTUS', 'LUCIUS', 'BRUTUS', 'LUCIUS', 'buried', 'cloaks', 'favour', 'BRUTUS', 'LUCIUS', 'cavern', 'enough', 'visage', 'smiles', 'native', 'Erebus', 'itself', 'enough', 'DECIUS', 'BRUTUS', 'CIMBER', 'morrow', 'Brutus', 'BRUTUS', 'BRUTUS', 'hither', 'Decius', 'Brutus', 'BRUTUS', 'Cimber', 'BRUTUS', 'BRUTUS', 'DECIUS', 'BRUTUS', 'pardon', 'clouds', 'arises', 'season', 'months', 'higher', 'toward', 'Stands', 'BRUTUS', 'BRUTUS', 'enough', 'kindle', 'valour', 'secret', 'Romans', 'palter', 'feeble', 'wrongs', 'causes', 'virtue', 'mettle', 'guilty', 'Cicero', 'strong', 'CIMBER', 'silver', 'voices', 'youths', 'appear', 'buried', 'BRUTUS', 'follow', 'Indeed', 'DECIUS', 'BRUTUS', 'Caesar', 'Decius', 'Antony', 'Caesar', 'Should', 'Caesar', 'shrewd', 'Antony', 'Caesar', 'BRUTUS', 'course', 'bloody', 'Antony', 'Caesar', 'spirit', 'Caesar', 'spirit', 'Caesar', 'spirit', 'Caesar', 'Caesar', 'gentle', 'boldly', 'hounds', 'hearts', 'subtle', 'common', 'Antony', 'Caesar', 'Caesar', 'Caesar', 'BRUTUS', 'Caesar', 'Caesar', 'should', 'sports', 'BRUTUS', 'Caesar', 'dreams', 'terror', 'DECIUS', 'BRUTUS', 'ersway', 'betray', 'humour', 'BRUTUS', 'eighth', 'CIMBER', 'Caesar', 'Pompey', 'wonder', 'BRUTUS', 'hither', 'Brutus', 'Romans', 'BRUTUS', 'actors', 'formal', 'morrow', 'Exeunt', 'BRUTUS', 'Lucius', 'asleep', 'matter', 'brains', 'PORTIA', 'PORTIA', 'Brutus', 'BRUTUS', 'Portia', 'health', 'commit', 'PORTIA', 'Brutus', 'supper', 'Musing', 'across', 'matter', 'stared', 'answer', 'withal', 'Hoping', 'effect', 'humour', 'should', 'Brutus', 'BRUTUS', 'health', 'PORTIA', 'Brutus', 'health', 'BRUTUS', 'Portia', 'PORTIA', 'Brutus', 'Brutus', 'rheumy', 'Brutus', 'within', 'virtue', 'beauty', 'unfold', 'resort', 'BRUTUS', 'gentle', 'Portia', 'PORTIA', 'should', 'gentle', 'Brutus', 'Within', 'Brutus', 'should', 'Portia', 'Brutus', 'harlot', 'BRUTUS', 'PORTIA', 'should', 'secret', 'withal', 'Brutus', 'withal', 'father', 'strong', 'Giving', 'myself', 'BRUTUS', 'Render', 'worthy', 'within', 'knocks', 'Portia', 'awhile', 'PORTIA', 'Lucius', 'knocks', 'LUCIUS', 'LUCIUS', 'BRUTUS', 'morrow', 'feeble', 'tongue', 'BRUTUS', 'Brutus', 'worthy', 'honour', 'BRUTUS', 'Romans', 'before', 'spirit', 'strive', 'things', 'better', 'BRUTUS', 'BRUTUS', 'unfold', 'follow', 'Brutus', 'BRUTUS', 'Follow', 'Exeunt', 'CAESAR', 'CAESAR', 'CAESAR', 'heaven', 'Thrice', 'murder', 'Caesar', 'within', 'CAESAR', 'Caesar', 'CAESAR', 'Caesar', 'things', 'Caesar', 'Caesar', 'fright', 'within', 'things', 'horrid', 'sights', 'graves', 'Fierce', 'fought', 'clouds', 'battle', 'Horses', 'ghosts', 'shriek', 'squeal', 'Caesar', 'things', 'beyond', 'CAESAR', 'mighty', 'Caesar', 'Caesar', 'comets', 'CAESAR', 'before', 'deaths', 'should', 'Seeing', 'within', 'CAESAR', 'Caesar', 'should', 'should', 'Caesar', 'danger', 'Caesar', 'litter', 'Caesar', 'wisdom', 'Antony', 'senate', 'CAESAR', 'Antony', 'humour', 'DECIUS', 'BRUTUS', 'Decius', 'Brutus', 'DECIUS', 'BRUTUS', 'Caesar', 'morrow', 'worthy', 'Caesar', 'senate', 'CAESAR', 'Cannot', 'falser', 'Decius', 'CAESAR', 'Caesar', 'afraid', 'Decius', 'Caesar', 'DECIUS', 'BRUTUS', 'mighty', 'Caesar', 'CAESAR', 'enough', 'senate', 'dreamt', 'statua', 'spouts', 'Romans', 'DECIUS', 'BRUTUS', 'vision', 'statue', 'Romans', 'bathed', 'stains', 'relics', 'CAESAR', 'DECIUS', 'BRUTUS', 'senate', 'mighty', 'Caesar', 'change', 'render', 'senate', 'Caesar', 'better', 'dreams', 'Caesar', 'Caesar', 'afraid', 'Pardon', 'Caesar', 'reason', 'liable', 'CAESAR', 'BRUTUS', 'morrow', 'Caesar', 'CAESAR', 'Brutus', 'morrow', 'Caesar', 'BRUTUS', 'Caesar', 'CAESAR', 'ANTONY', 'Antony', 'revels', 'nights', 'morrow', 'Antony', 'ANTONY', 'Caesar', 'CAESAR', 'within', 'waited', 'Caesar', 'CAESAR', 'BRUTUS', 'Caesar', 'Brutus', 'yearns', 'Exeunt', 'street', 'Caesar', 'beware', 'Brutus', 'Cimber', 'Decius', 'Brutus', 'Caesar', 'mighty', 'defend', 'Caesar', 'suitor', 'virtue', 'cannot', 'Caesar', 'street', 'before', 'BRUTUS', 'PORTIA', 'LUCIUS', 'PORTIA', 'senate', 'answer', 'LUCIUS', 'errand', 'PORTIA', 'strong', 'tongue', 'LUCIUS', 'should', 'return', 'PORTIA', 'sickly', 'Caesar', 'LUCIUS', 'PORTIA', 'listen', 'rumour', 'brings', 'LUCIUS', 'PORTIA', 'hither', 'fellow', 'PORTIA', 'PORTIA', 'Caesar', 'PORTIA', 'Caesar', 'please', 'Caesar', 'Caesar', 'PORTIA', 'chance', 'morrow', 'street', 'narrow', 'throng', 'Caesar', 'common', 'feeble', 'almost', 'Caesar', 'PORTIA', 'Brutus', 'Brutus', 'Caesar', 'Lucius', 'Exeunt', 'Before', 'Senate', 'people', 'CAESAR', 'BRUTUS', 'DECIUS', 'BRUTUS', 'CIMBER', 'ANTONY', 'others', 'CAESAR', 'Caesar', 'Caesar', 'DECIUS', 'BRUTUS', 'desire', 'erread', 'humble', 'Caesar', 'Caesar', 'nearer', 'Caesar', 'CAESAR', 'served', 'Caesar', 'CAESAR', 'fellow', 'Sirrah', 'street', 'CAESAR', 'Senate', 'thrive', 'CAESAR', 'BRUTUS', 'thrive', 'BRUTUS', 'Caesar', 'sudden', 'Brutus', 'Caesar', 'myself', 'BRUTUS', 'speaks', 'smiles', 'Caesar', 'change', 'Brutus', 'Antony', 'Exeunt', 'ANTONY', 'DECIUS', 'BRUTUS', 'Cimber', 'prefer', 'Caesar', 'BRUTUS', 'second', 'CAESAR', 'Caesar', 'senate', 'CIMBER', 'mighty', 'Caesar', 'Cimber', 'throws', 'before', 'humble', 'CAESAR', 'Cimber', 'decree', 'Caesar', 'decree', 'Caesar', 'CIMBER', 'worthy', 'Caesar', 'banish', 'BRUTUS', 'Caesar', 'Cimber', 'repeal', 'CAESAR', 'Brutus', 'Pardon', 'Caesar', 'Caesar', 'pardon', 'Cimber', 'fellow', 'sparks', 'number', 'motion', 'little', 'Cimber', 'should', 'banish', 'remain', 'Caesar', 'CAESAR', 'DECIUS', 'BRUTUS', 'Caesar', 'CAESAR', 'Brutus', 'BRUTUS', 'CAESAR', 'CAESAR', 'Caesar', 'common', 'BRUTUS', 'People', 'pulpit', 'Brutus', 'DECIUS', 'BRUTUS', 'BRUTUS', 'mutiny', 'CIMBER', 'friend', 'Caesar', 'Should', 'chance', 'BRUTUS', 'person', 'people', 'should', 'BRUTUS', 'Antony', 'amazed', 'BRUTUS', 'twenty', 'BRUTUS', 'Caesar', 'Romans', 'Caesar', 'elbows', 'swords', 'market', 'waving', 'states', 'unborn', 'BRUTUS', 'Caesar', 'Pompey', 'DECIUS', 'BRUTUS', 'Brutus', 'hearts', 'BRUTUS', 'friend', 'Antony', 'Brutus', 'master', 'Antony', 'Brutus', 'honest', 'Caesar', 'mighty', 'loving', 'Brutus', 'honour', 'Caesar', 'honour', 'Brutus', 'Antony', 'safely', 'Caesar', 'Antony', 'Caesar', 'Brutus', 'living', 'follow', 'Brutus', 'untrod', 'master', 'Antony', 'BRUTUS', 'master', 'please', 'honour', 'Depart', 'BRUTUS', 'friend', 'BRUTUS', 'Antony', 'ANTONY', 'Antony', 'ANTONY', 'mighty', 'Caesar', 'spoils', 'Shrunk', 'little', 'intend', 'myself', 'Caesar', 'swords', 'whilst', 'Fulfil', 'myself', 'please', 'Caesar', 'choice', 'master', 'BRUTUS', 'Antony', 'Though', 'appear', 'bloody', 'hearts', 'drives', 'Caesar', 'swords', 'leaden', 'points', 'Antony', 'malice', 'hearts', 'temper', 'strong', 'BRUTUS', 'beside', 'Caesar', 'struck', 'ANTONY', 'wisdom', 'render', 'bloody', 'Marcus', 'Brutus', 'Decius', 'Brutus', 'Though', 'credit', 'stands', 'ground', 'Either', 'coward', 'Caesar', 'spirit', 'grieve', 'dearer', 'making', 'bloody', 'wounds', 'stream', 'become', 'better', 'Pardon', 'Julius', 'forest', 'indeed', 'Antony', 'ANTONY', 'Pardon', 'Caesar', 'friend', 'Caesar', 'number', 'depend', 'ANTONY', 'indeed', 'Caesar', 'Caesar', 'BRUTUS', 'savage', 'regard', 'Antony', 'Caesar', 'should', 'ANTONY', 'suitor', 'market', 'pulpit', 'friend', 'BRUTUS', 'Antony', 'Brutus', 'BRUTUS', 'Antony', 'people', 'BRUTUS', 'pardon', 'myself', 'pulpit', 'reason', 'Caesar', 'Antony', 'speaks', 'Caesar', 'lawful', 'BRUTUS', 'Antony', 'Caesar', 'speech', 'devise', 'Caesar', 'pulpit', 'speech', 'ANTONY', 'desire', 'BRUTUS', 'follow', 'Exeunt', 'ANTONY', 'ANTONY', 'pardon', 'gentle', 'costly', 'wounds', 'mouths', 'tongue', 'fierce', 'strife', 'cumber', 'behold', 'choked', 'custom', 'Caesar', 'spirit', 'burial', 'Caesar', 'Antony', 'ANTONY', 'Caesar', 'coming', 'Caesar', 'Seeing', 'ANTONY', 'Seeing', 'sorrow', 'master', 'coming', 'within', 'ANTONY', 'safety', 'awhile', 'market', 'people', 'bloody', 'things', 'Exeunt', 'CAESAR', 'BRUTUS', 'throng', 'BRUTUS', 'follow', 'street', 'follow', 'public', 'Caesar', 'Brutus', 'Second', 'BRUTUS', 'pulpit', 'Brutus', 'BRUTUS', 'Romans', 'lovers', 'silent', 'honour', 'honour', 'wisdom', 'senses', 'better', 'friend', 'Caesar', 'Brutus', 'Caesar', 'friend', 'demand', 'Brutus', 'Caesar', 'answer', 'Caesar', 'rather', 'Caesar', 'living', 'slaves', 'Caesar', 'Caesar', 'honour', 'honour', 'valour', 'Brutus', 'BRUTUS', 'Caesar', 'Brutus', 'worthy', 'ANTONY', 'others', 'CAESAR', 'Antony', 'though', 'depart', 'dagger', 'myself', 'please', 'Brutus', 'Second', 'statue', 'Caesar', 'Fourth', 'Caesar', 'better', 'Brutus', 'shouts', 'BRUTUS', 'Second', 'Brutus', 'speaks', 'BRUTUS', 'depart', 'Antony', 'Caesar', 'corpse', 'speech', 'Caesar', 'Antony', 'depart', 'Antony', 'Antony', 'public', 'Antony', 'ANTONY', 'Brutus', 'pulpit', 'Fourth', 'Brutus', 'Brutus', 'Fourth', 'Brutus', 'Caesar', 'tyrant', 'Second', 'Antony', 'ANTONY', 'gentle', 'Romans', 'ANTONY', 'Romans', 'Caesar', 'praise', 'Caesar', 'Brutus', 'Caesar', 'Caesar', 'answer', 'Brutus', 'Brutus', 'Caesar', 'friend', 'Brutus', 'Brutus', 'Caesar', 'Caesar', 'should', 'Brutus', 'Brutus', 'thrice', 'kingly', 'thrice', 'refuse', 'Brutus', 'Brutus', 'beasts', 'reason', 'coffin', 'Caesar', 'reason', 'Second', 'matter', 'Caesar', 'Fourth', 'Second', 'nobler', 'Antony', 'Fourth', 'begins', 'ANTONY', 'Caesar', 'hearts', 'mutiny', 'should', 'Brutus', 'rather', 'choose', 'myself', 'Caesar', 'closet', 'pardon', 'Caesar', 'wounds', 'sacred', 'memory', 'within', 'legacy', 'Fourth', 'Antony', 'Caesar', 'ANTONY', 'gentle', 'Caesar', 'stones', 'Caesar', 'should', 'Fourth', 'Antony', 'Caesar', 'ANTONY', 'awhile', 'ershot', 'myself', 'Caesar', 'Fourth', 'Second', 'ANTONY', 'compel', 'corpse', 'Caesar', 'Second', 'ANTONY', 'Fourth', 'hearse', 'Second', 'Antony', 'Antony', 'ANTONY', 'ANTONY', 'mantle', 'Caesar', 'summer', 'Nervii', 'dagger', 'Brutus', 'cursed', 'Caesar', 'follow', 'Brutus', 'Brutus', 'Caesar', 'dearly', 'Caesar', 'Caesar', 'strong', 'mighty', 'mantle', 'Pompey', 'statua', 'Caesar', 'Whilst', 'bloody', 'behold', 'Caesar', 'Second', 'Caesar', 'Fourth', 'bloody', 'Second', 'ANTONY', 'Antony', 'Second', 'follow', 'ANTONY', 'sudden', 'mutiny', 'griefs', 'answer', 'hearts', 'orator', 'Brutus', 'friend', 'public', 'Action', 'speech', 'Caesar', 'wounds', 'mouths', 'Brutus', 'Brutus', 'Antony', 'Antony', 'ruffle', 'tongue', 'Caesar', 'should', 'stones', 'mutiny', 'mutiny', 'Brutus', 'ANTONY', 'Antony', 'Antony', 'ANTONY', 'Caesar', 'forgot', 'ANTONY', 'Caesar', 'Second', 'Caesar', 'Caesar', 'ANTONY', 'ANTONY', 'common', 'abroad', 'Caesar', 'brands', 'houses', 'Second', 'Fourth', 'Exeunt', 'ANTONY', 'course', 'fellow', 'ANTONY', 'Caesar', 'ANTONY', 'Brutus', 'madmen', 'ANTONY', 'Belike', 'notice', 'people', 'Exeunt', 'street', 'dreamt', 'Caesar', 'things', 'charge', 'wander', 'Second', 'Fourth', 'Second', 'Answer', 'Fourth', 'wisely', 'answer', 'wisely', 'wisely', 'Second', 'Caesar', 'friend', 'friend', 'Second', 'matter', 'Fourth', 'pieces', 'Fourth', 'verses', 'verses', 'Fourth', 'matter', 'brands', 'brands', 'Brutus', 'Decius', 'Exeunt', 'ANTONY', 'seated', 'ANTONY', 'Antony', 'sister', 'Antony', 'ANTONY', 'Caesar', 'hither', 'charge', 'ANTONY', 'slight', 'should', 'should', 'ANTONY', 'though', 'divers', 'Either', 'driven', 'having', 'ANTONY', 'motion', 'govern', 'spirit', 'taught', 'barren', 'fellow', 'staled', 'Listen', 'things', 'Brutus', 'powers', 'covert', 'perils', 'surest', 'hearts', 'Exeunt', 'Sardis', 'Before', 'BRUTUS', 'BRUTUS', 'LUCIUS', 'BRUTUS', 'BRUTUS', 'master', 'BRUTUS', 'greets', 'master', 'change', 'worthy', 'Things', 'undone', 'master', 'appear', 'regard', 'honour', 'BRUTUS', 'enough', 'BRUTUS', 'friend', 'begins', 'sicken', 'tricks', 'simple', 'hollow', 'horses', 'mettle', 'should', 'endure', 'bloody', 'crests', 'Sardis', 'BRUTUS', 'within', 'gently', 'powers', 'BRUTUS', 'Second', 'BRUTUS', 'should', 'Brutus', 'wrongs', 'BRUTUS', 'griefs', 'softly', 'Before', 'armies', 'should', 'griefs', 'little', 'ground', 'BRUTUS', 'Lucius', 'Exeunt', 'Brutus', 'BRUTUS', 'appear', 'Lucius', 'taking', 'bribes', 'BRUTUS', 'should', 'BRUTUS', 'Brutus', 'speech', 'BRUTUS', 'BRUTUS', 'Julius', 'struck', 'bribes', 'mighty', 'rather', 'Brutus', 'endure', 'forget', 'BRUTUS', 'BRUTUS', 'forget', 'myself', 'health', 'BRUTUS', 'slight', 'BRUTUS', 'choler', 'madman', 'stares', 'endure', 'BRUTUS', 'slaves', 'crouch', 'humour', 'digest', 'spleen', 'Though', 'BRUTUS', 'better', 'appear', 'please', 'Brutus', 'better', 'better', 'BRUTUS', 'Caesar', 'BRUTUS', 'BRUTUS', 'BRUTUS', 'BRUTUS', 'should', 'terror', 'strong', 'denied', 'heaven', 'rather', 'denied', 'Should', 'answer', 'Marcus', 'Brutus', 'rascal', 'pieces', 'denied', 'BRUTUS', 'answer', 'Brutus', 'friend', 'should', 'friend', 'Brutus', 'BRUTUS', 'BRUTUS', 'faults', 'faults', 'BRUTUS', 'though', 'appear', 'Antony', 'aweary', 'braved', 'Cheque', 'faults', 'spirit', 'dagger', 'breast', 'within', 'Dearer', 'Plutus', 'richer', 'denied', 'Strike', 'Caesar', 'better', 'BRUTUS', 'dagger', 'humour', 'Brutus', 'temper', 'vexeth', 'BRUTUS', 'temper', 'BRUTUS', 'Brutus', 'BRUTUS', 'matter', 'enough', 'humour', 'mother', 'BRUTUS', 'Brutus', 'mother', 'chides', 'Within', 'grudge', 'Within', 'Within', 'LUCIUS', 'matter', 'should', 'vilely', 'BRUTUS', 'sirrah', 'fellow', 'Brutus', 'BRUTUS', 'humour', 'should', 'BRUTUS', 'Exeunt', 'BRUTUS', 'Lucius', 'LUCIUS', 'BRUTUS', 'griefs', 'BRUTUS', 'sorrow', 'better', 'Portia', 'Portia', 'BRUTUS', 'scaped', 'BRUTUS', 'Antony', 'strong', 'absent', 'BRUTUS', 'LUCIUS', 'BRUTUS', 'pledge', 'Lucius', 'cannot', 'Brutus', 'BRUTUS', 'LUCIUS', 'Portia', 'BRUTUS', 'Antony', 'mighty', 'toward', 'Myself', 'BRUTUS', 'Antony', 'BRUTUS', 'Cicero', 'Cicero', 'Cicero', 'BRUTUS', 'BRUTUS', 'BRUTUS', 'BRUTUS', 'manner', 'BRUTUS', 'Portia', 'endure', 'losses', 'should', 'endure', 'nature', 'BRUTUS', 'BRUTUS', 'reason', 'better', 'whilst', 'BRUTUS', 'better', 'people', 'ground', 'forced', 'fuller', 'number', 'people', 'BRUTUS', 'pardon', 'beside', 'utmost', 'height', 'voyage', 'afloat', 'serves', 'BRUTUS', 'nature', 'little', 'morrow', 'BRUTUS', 'Lucius', 'LUCIUS', 'LUCIUS', 'repose', 'Brutus', 'BRUTUS', 'BRUTUS', 'Brutus', 'BRUTUS', 'Exeunt', 'BRUTUS', 'LUCIUS', 'LUCIUS', 'BRUTUS', 'LUCIUS', 'BRUTUS', 'please', 'BRUTUS', 'Lucius', 'sought', 'pocket', 'LUCIUS', 'BRUTUS', 'awhile', 'strain', 'LUCIUS', 'please', 'BRUTUS', 'LUCIUS', 'BRUTUS', 'should', 'bloods', 'LUCIUS', 'BRUTUS', 'sleepy', 'leaden', 'Gentle', 'CAESAR', 'shapes', 'makest', 'spirit', 'Brutus', 'BRUTUS', 'comest', 'BRUTUS', 'BRUTUS', 'spirit', 'Lucius', 'LUCIUS', 'BRUTUS', 'thinks', 'Lucius', 'LUCIUS', 'BRUTUS', 'Lucius', 'LUCIUS', 'BRUTUS', 'LUCIUS', 'BRUTUS', 'Lucius', 'Sirrah', 'Fellow', 'BRUTUS', 'BRUTUS', 'BRUTUS', 'powers', 'before', 'follow', 'Exeunt', 'plains', 'ANTONY', 'Antony', 'proves', 'before', 'demand', 'ANTONY', 'bosoms', 'places', 'fasten', 'bloody', 'battle', 'ANTONY', 'battle', 'softly', 'ANTONY', 'BRUTUS', 'others', 'BRUTUS', 'parley', 'Antony', 'battle', 'ANTONY', 'Caesar', 'answer', 'charge', 'signal', 'BRUTUS', 'before', 'better', 'BRUTUS', 'better', 'ANTONY', 'Brutus', 'Caesar', 'Crying', 'Caesar', 'Antony', 'ANTONY', 'BRUTUS', 'Antony', 'wisely', 'threat', 'before', 'ANTONY', 'Caesar', 'hounds', 'Caesar', 'Whilst', 'damned', 'behind', 'Struck', 'Caesar', 'Brutus', 'tongue', 'redder', 'Caesar', 'thirty', 'wounds', 'Caesar', 'BRUTUS', 'Caesar', 'Unless', 'Brutus', 'BRUTUS', 'strain', 'honour', 'masker', 'ANTONY', 'Antony', 'Exeunt', 'ANTONY', 'billow', 'hazard', 'BRUTUS', 'BRUTUS', 'Pompey', 'battle', 'strong', 'change', 'partly', 'credit', 'things', 'Coming', 'Sardis', 'former', 'ensign', 'mighty', 'eagles', 'steads', 'ravens', 'sickly', 'canopy', 'partly', 'spirit', 'perils', 'BRUTUS', 'Brutus', 'Lovers', 'reason', 'befall', 'battle', 'BRUTUS', 'arming', 'myself', 'powers', 'govern', 'battle', 'BRUTUS', 'Brutus', 'Brutus', 'indeed', 'BRUTUS', 'Exeunt', 'battle', 'Alarum', 'BRUTUS', 'BRUTUS', 'alarum', 'sudden', 'Exeunt', 'Myself', 'ensign', 'coward', 'Brutus', 'having', 'Whilst', 'Antony', 'Antony', 'enough', 'lovest', 'yonder', 'troops', 'troops', 'friend', 'higher', 'regard', 'notest', 'Sirrah', 'almost', 'lights', 'behold', 'coward', 'friend', 'before', 'hither', 'sirrah', 'saving', 'Caesar', 'bowels', 'search', 'answer', 'Caesar', 'change', 'Brutus', 'Antony', 'ground', 'living', 'Clouds', 'things', 'comest', 'mother', 'whilst', 'Brutus', 'report', 'Brutus', 'wreath', 'shouts', 'Brutus', 'Brutus', 'Alarum', 'BRUTUS', 'STRATO', 'BRUTUS', 'yonder', 'BRUTUS', 'upward', 'BRUTUS', 'Julius', 'Caesar', 'mighty', 'spirit', 'abroad', 'swords', 'proper', 'BRUTUS', 'Romans', 'living', 'Romans', 'Should', 'fellow', 'Thasos', 'Romans', 'second', 'Exeunt', 'Alarum', 'armies', 'BRUTUS', 'others', 'BRUTUS', 'Marcus', 'friend', 'Marcus', 'BRUTUS', 'Brutus', 'Marcus', 'Brutus', 'Brutus', 'friend', 'Brutus', 'honour', 'Brutus', 'honour', 'Second', 'Antony', 'Brutus', 'ANTONY', 'Brutus', 'Brutus', 'ANTONY', 'Antony', 'Brutus', 'enough', 'assure', 'Brutus', 'defend', 'Brutus', 'ANTONY', 'Brutus', 'friend', 'assure', 'rather', 'Brutus', 'Exeunt', 'BRUTUS', 'CLITUS', 'STRATO', 'BRUTUS', 'CLITUS', 'BRUTUS', 'Clitus', 'Clitus', 'CLITUS', 'BRUTUS', 'CLITUS', 'rather', 'myself', 'BRUTUS', 'CLITUS', 'Clitus', 'CLITUS', 'Brutus', 'Clitus', 'CLITUS', 'vessel', 'BRUTUS', 'hither', 'BRUTUS', 'Caesar', 'appear', 'Sardis', 'fields', 'BRUTUS', 'worthy', 'school', 'whilst', 'office', 'friend', 'Alarum', 'CLITUS', 'BRUTUS', 'Strato', 'asleep', 'Strato', 'losing', 'Antony', 'attain', 'Brutus', 'tongue', 'almost', 'labour', 'attain', 'Alarum', 'within', 'CLITUS', 'BRUTUS', 'follow', 'Exeunt', 'CLITUS', 'Strato', 'fellow', 'smatch', 'honour', 'Strato', 'STRATO', 'BRUTUS', 'Strato', 'Caesar', 'Alarum', 'ANTONY', 'master', 'Strato', 'master', 'STRATO', 'Brutus', 'honour', 'Brutus', 'should', 'Brutus', 'proved', 'saying', 'served', 'Brutus', 'Fellow', 'bestow', 'STRATO', 'prefer', 'master', 'Strato', 'STRATO', 'follow', 'latest', 'master', 'ANTONY', 'Caesar', 'honest', 'common', 'gentle', 'Nature', 'virtue', 'burial', 'Within', 'Exeunt']\n",
            "553\n"
          ],
          "name": "stdout"
        }
      ]
    },
    {
      "cell_type": "markdown",
      "metadata": {
        "id": "SMcv8bEoKzdr"
      },
      "source": [
        "3. Write a piece of code that uses a regular expression in Python to count how many\r\n",
        "words are capitalized in the first letter only. (20 points)"
      ]
    },
    {
      "cell_type": "code",
      "metadata": {
        "colab": {
          "base_uri": "https://localhost:8080/",
          "height": 0
        },
        "id": "6CU6BnMBK1_A",
        "outputId": "19a9221a-2977-4e7e-ad91-a34bccd52795"
      },
      "source": [
        "m3=re.findall(r'\\b[A-Z]{1}\\b|[A-Z][a-z]+',strings)\r\n",
        "print(m3)\r\n",
        "print(len(set(m3))) #finding unique words\r\n",
        "# this list includes single letter words like 'O', 'I' since they do not violate the given requirement"
      ],
      "execution_count": 170,
      "outputs": [
        {
          "output_type": "stream",
          "text": [
            "['The', 'Life', 'Death', 'Julius', 'Caesar', 'I', 'I', 'Rome', 'A', 'Enter', 'Commoners', 'Hence', 'Is', 'Being', 'Upon', 'Of', 'Speak', 'First', 'Commoner', 'Why', 'Where', 'What', 'You', 'Second', 'Commoner', 'Truly', 'I', 'But', 'Second', 'Commoner', 'A', 'I', 'I', 'What', 'Second', 'Commoner', 'Nay', 'I', 'I', 'What', 'Second', 'Commoner', 'Why', 'Thou', 'Second', 'Commoner', 'Truly', 'I', 'I', 'I', 'I', 'As', 'But', 'Why', 'Second', 'Commoner', 'Truly', 'But', 'Caesar', 'Wherefore', 'What', 'What', 'Rome', 'To', 'You', 'O', 'Rome', 'Knew', 'Pompey', 'Many', 'Have', 'To', 'Your', 'The', 'To', 'Pompey', 'Rome', 'And', 'Have', 'That', 'Tiber', 'To', 'Made', 'And', 'And', 'And', 'That', 'Pompey', 'Be', 'Run', 'Pray', 'That', 'Go', 'Assemble', 'Draw', 'Tiber', 'Into', 'Do', 'Exeunt', 'Commoners', 'See', 'They', 'Go', 'Capitol', 'This', 'I', 'If', 'May', 'You', 'Lupercal', 'It', 'Be', 'Caesar', 'I', 'And', 'So', 'These', 'Caesar', 'Will', 'Who', 'And', 'Exeunt', 'A', 'Flourish', 'Enter', 'Soothsayer', 'Calpurnia', 'Peace', 'Caesar', 'Calpurnia', 'Here', 'Stand', 'Antonius', 'When', 'Antonius', 'Caesar', 'Forget', 'Antonius', 'To', 'Calpurnia', 'The', 'Shake', 'I', 'When', 'Caesar', 'Set', 'Flourish', 'Soothsayer', 'Caesar', 'Ha', 'Bid', 'Who', 'I', 'Cry', 'Caesar', 'Speak', 'Caesar', 'Soothsayer', 'Beware', 'March', 'What', 'A', 'March', 'Set', 'Fellow', 'Caesar', 'What', 'Soothsayer', 'Beware', 'March', 'He', 'Sennet', 'Exeunt', 'Will', 'Not', 'I', 'I', 'I', 'I', 'Of', 'Antony', 'Let', 'Cassius', 'I', 'Brutus', 'I', 'I', 'And', 'I', 'You', 'Over', 'Cassius', 'Be', 'I', 'I', 'Merely', 'Vexed', 'I', 'Of', 'Conceptions', 'Which', 'But', 'Among', 'Cassius', 'Nor', 'Than', 'Brutus', 'Forgets', 'Then', 'Brutus', 'I', 'By', 'Thoughts', 'Tell', 'Brutus', 'No', 'Cassius', 'But', 'Tis', 'And', 'Brutus', 'That', 'Your', 'That', 'I', 'Where', 'Rome', 'Except', 'Caesar', 'Brutus', 'And', 'Have', 'Brutus', 'Into', 'Cassius', 'That', 'For', 'Therefore', 'Brutus', 'And', 'So', 'I', 'Will', 'That', 'And', 'Brutus', 'Were', 'I', 'To', 'To', 'That', 'I', 'And', 'That', 'I', 'To', 'Flourish', 'What', 'I', 'Choose', 'Caesar', 'Ay', 'Then', 'I', 'I', 'Cassius', 'I', 'But', 'What', 'If', 'Set', 'And', 'I', 'For', 'I', 'The', 'I', 'I', 'Brutus', 'As', 'I', 'Well', 'I', 'Think', 'I', 'In', 'I', 'I', 'Caesar', 'We', 'Endure', 'For', 'The', 'Tiber', 'Caesar', 'Darest', 'Cassius', 'Leap', 'And', 'Upon', 'Accoutred', 'I', 'I', 'And', 'The', 'With', 'And', 'But', 'Caesar', 'Help', 'Cassius', 'I', 'I', 'Aeneas', 'Did', 'Troy', 'The', 'Anchises', 'Tiber', 'Did', 'I', 'Caesar', 'And', 'Is', 'Cassius', 'A', 'If', 'Caesar', 'He', 'Spain', 'And', 'I', 'How', 'His', 'And', 'Did', 'I', 'Ay', 'Romans', 'Mark', 'Alas', 'Give', 'Titinius', 'As', 'Ye', 'A', 'So', 'And', 'Shout', 'Flourish', 'Another', 'I', 'For', 'Caesar', 'Why', 'Like', 'Colossus', 'Walk', 'To', 'Men', 'The', 'Brutus', 'But', 'Brutus', 'Caesar', 'Caesar', 'Why', 'Write', 'Sound', 'Weigh', 'Brutus', 'Caesar', 'Now', 'Upon', 'Caesar', 'That', 'Age', 'Rome', 'When', 'But', 'When', 'Rome', 'That', 'Now', 'Rome', 'When', 'O', 'I', 'There', 'Brutus', 'The', 'Rome', 'As', 'That', 'I', 'What', 'I', 'How', 'I', 'I', 'I', 'I', 'Be', 'What', 'I', 'I', 'Both', 'Till', 'Brutus', 'Than', 'Rome', 'Under', 'Is', 'I', 'Have', 'Brutus', 'The', 'Caesar', 'As', 'Casca', 'And', 'What', 'Re', 'Train', 'I', 'But', 'Cassius', 'The', 'Caesar', 'And', 'Calpurnia', 'Cicero', 'Looks', 'As', 'Capitol', 'Being', 'Casca', 'Antonius', 'Caesar', 'Let', 'Sleek', 'Yond', 'Cassius', 'He', 'Fear', 'Caesar', 'He', 'Roman', 'Would', 'But', 'I', 'Yet', 'I', 'I', 'So', 'Cassius', 'He', 'He', 'Quite', 'As', 'Antony', 'Seldom', 'As', 'That', 'Such', 'Whiles', 'And', 'I', 'Than', 'I', 'I', 'Caesar', 'Come', 'And', 'Sennet', 'Exeunt', 'Train', 'You', 'Ay', 'Casca', 'That', 'Caesar', 'Why', 'I', 'Casca', 'Why', 'What', 'Why', 'They', 'Why', 'Was', 'Ay', 'Who', 'Why', 'Antony', 'Tell', 'Casca', 'I', 'I', 'I', 'Mark', 'Antony', 'I', 'Then', 'And', 'Caesar', 'Caesar', 'I', 'But', 'I', 'Caesar', 'He', 'Tis', 'No', 'Caesar', 'I', 'And', 'Casca', 'I', 'I', 'Caesar', 'If', 'I', 'What', 'Marry', 'An', 'I', 'I', 'I', 'I', 'And', 'When', 'If', 'Three', 'I', 'Alas', 'Caesar', 'And', 'Ay', 'Did', 'Cicero', 'Ay', 'Greek', 'To', 'Nay', 'I', 'Ill', 'Greek', 'I', 'Marullus', 'Flavius', 'Caesar', 'Fare', 'There', 'I', 'Will', 'Casca', 'No', 'I', 'Will', 'Ay', 'I', 'Good', 'I', 'Do', 'Farewell', 'Exit', 'What', 'He', 'So', 'Of', 'However', 'This', 'Which', 'With', 'And', 'For', 'I', 'To', 'I', 'Come', 'I', 'I', 'Exit', 'Well', 'Brutus', 'I', 'Thy', 'From', 'That', 'For', 'Caesar', 'Brutus', 'If', 'I', 'Brutus', 'Cassius', 'He', 'I', 'In', 'As', 'Writings', 'That', 'Rome', 'Caesar', 'And', 'Caesar', 'For', 'Exit', 'The', 'A', 'Thunder', 'Enter', 'Good', 'Casca', 'Caesar', 'Why', 'Are', 'Shakes', 'O', 'Cicero', 'I', 'Have', 'I', 'The', 'To', 'But', 'Did', 'I', 'Either', 'Or', 'Incenses', 'Why', 'A', 'Held', 'Like', 'Not', 'Besides', 'I', 'Against', 'Capitol', 'I', 'Who', 'Without', 'Upon', 'Transformed', 'Men', 'And', 'Even', 'Hooting', 'When', 'Do', 'These', 'For', 'I', 'Unto', 'Indeed', 'But', 'Clean', 'Come', 'Caesar', 'Capitol', 'He', 'Antonius', 'Send', 'Good', 'Casca', 'Is', 'Farewell', 'Cicero', 'Exit', 'Enter', 'Who', 'A', 'Roman', 'Casca', 'Your', 'Cassius', 'A', 'Who', 'Those', 'For', 'I', 'Submitting', 'And', 'Casca', 'Have', 'And', 'The', 'I', 'Even', 'But', 'It', 'When', 'Such', 'You', 'Casca', 'That', 'Roman', 'Or', 'You', 'And', 'To', 'But', 'Why', 'Why', 'Why', 'Why', 'Their', 'To', 'That', 'To', 'Unto', 'Now', 'I', 'Casca', 'Most', 'That', 'As', 'Capitol', 'A', 'In', 'And', 'Tis', 'Caesar', 'Cassius', 'Let', 'Romans', 'Have', 'But', 'And', 'Our', 'Indeed', 'Mean', 'Caesar', 'And', 'In', 'Italy', 'I', 'I', 'Cassius', 'Cassius', 'Therein', 'Therein', 'Nor', 'Nor', 'Can', 'But', 'Never', 'If', 'I', 'That', 'I', 'I', 'Thunder', 'So', 'I', 'So', 'The', 'And', 'Caesar', 'Poor', 'I', 'But', 'Romans', 'He', 'Romans', 'Those', 'Begin', 'Rome', 'What', 'For', 'So', 'Caesar', 'But', 'O', 'Where', 'I', 'Before', 'I', 'My', 'But', 'I', 'And', 'You', 'Casca', 'That', 'Hold', 'Be', 'And', 'I', 'As', 'There', 'Now', 'Casca', 'I', 'Some', 'Romans', 'To', 'Of', 'And', 'I', 'In', 'Pompey', 'There', 'And', 'In', 'Most', 'Stand', 'Tis', 'Cinna', 'I', 'He', 'Enter', 'Cinna', 'To', 'Who', 'Metellus', 'Cimber', 'No', 'Casca', 'To', 'Am', 'I', 'Cinna', 'I', 'What', 'There', 'Am', 'I', 'Yes', 'O', 'Cassius', 'But', 'Brutus', 'Be', 'Cinna', 'And', 'Where', 'Brutus', 'In', 'Upon', 'Brutus', 'Repair', 'Pompey', 'Is', 'Decius', 'Brutus', 'Trebonius', 'All', 'Metellus', 'Cimber', 'To', 'Well', 'I', 'And', 'That', 'Pompey', 'Exit', 'Come', 'Casca', 'I', 'See', 'Brutus', 'Is', 'Upon', 'O', 'And', 'His', 'Will', 'Him', 'You', 'Let', 'For', 'We', 'Exeunt', 'I', 'Rome', 'Enter', 'What', 'Lucius', 'I', 'Give', 'Lucius', 'I', 'I', 'When', 'Lucius', 'I', 'Lucius', 'Enter', 'Call', 'Get', 'Lucius', 'When', 'I', 'Exit', 'It', 'I', 'But', 'He', 'How', 'It', 'And', 'Crown', 'And', 'I', 'That', 'The', 'Remorse', 'Caesar', 'I', 'More', 'But', 'That', 'Whereto', 'But', 'He', 'Looks', 'By', 'So', 'Caesar', 'Then', 'And', 'Will', 'Fashion', 'Would', 'And', 'Which', 'And', 'Re', 'The', 'Searching', 'I', 'This', 'I', 'It', 'I', 'Gives', 'Get', 'Is', 'March', 'I', 'Look', 'I', 'Exit', 'The', 'Give', 'I', 'Opens', 'Brutus', 'Shall', 'Rome', 'Speak', 'Brutus', 'Such', 'Where', 'I', 'Shall', 'Rome', 'Thus', 'I', 'Shall', 'Rome', 'What', 'Rome', 'My', 'Rome', 'The', 'Tarquin', 'Speak', 'Am', 'I', 'To', 'O', 'Rome', 'I', 'If', 'Thy', 'Brutus', 'Re', 'Sir', 'March', 'Knocking', 'Tis', 'Go', 'Exit', 'Since', 'Cassius', 'Caesar', 'I', 'Between', 'And', 'Like', 'The', 'Genius', 'Are', 'Like', 'The', 'Re', 'Sir', 'Cassius', 'Who', 'Is', 'No', 'Do', 'No', 'And', 'That', 'I', 'By', 'Let', 'Exit', 'They', 'O', 'Shamest', 'When', 'O', 'Where', 'To', 'Seek', 'Hide', 'For', 'Not', 'Erebus', 'To', 'Enter', 'I', 'Good', 'Brutus', 'I', 'Know', 'I', 'Yes', 'But', 'You', 'Which', 'Roman', 'This', 'Trebonius', 'He', 'This', 'Decius', 'Brutus', 'He', 'This', 'Casca', 'Cinna', 'Metellus', 'Cimber', 'They', 'What', 'Betwixt', 'Shall', 'I', 'Here', 'No', 'O', 'That', 'You', 'Here', 'I', 'Which', 'Weighing', 'Some', 'He', 'Stands', 'Capitol', 'Give', 'And', 'No', 'The', 'If', 'And', 'So', 'Till', 'But', 'As', 'I', 'To', 'The', 'What', 'To', 'Than', 'Romans', 'And', 'Than', 'That', 'Swear', 'Old', 'That', 'Such', 'The', 'Nor', 'To', 'Did', 'That', 'Roman', 'Is', 'If', 'Of', 'But', 'Cicero', 'I', 'Let', 'No', 'O', 'Will', 'And', 'It', 'Our', 'But', 'O', 'For', 'That', 'Then', 'Indeed', 'Shall', 'Caesar', 'Decius', 'I', 'Mark', 'Antony', 'Caesar', 'Should', 'Caesar', 'A', 'If', 'As', 'Let', 'Antony', 'Caesar', 'Our', 'Caius', 'Cassius', 'To', 'Like', 'For', 'Antony', 'Caesar', 'Let', 'Caius', 'We', 'Caesar', 'And', 'O', 'Caesar', 'And', 'Caesar', 'But', 'Caesar', 'And', 'Let', 'Let', 'Not', 'And', 'Stir', 'And', 'This', 'Our', 'Which', 'We', 'And', 'Mark', 'Antony', 'For', 'Caesar', 'When', 'Caesar', 'Yet', 'I', 'For', 'Caesar', 'Alas', 'Cassius', 'If', 'Caesar', 'Is', 'Caesar', 'And', 'To', 'There', 'For', 'Clock', 'Peace', 'The', 'Tis', 'But', 'Whether', 'Caesar', 'For', 'Quite', 'Of', 'It', 'The', 'And', 'May', 'Capitol', 'Never', 'I', 'That', 'And', 'Lions', 'But', 'I', 'He', 'Let', 'For', 'I', 'And', 'I', 'Capitol', 'Nay', 'By', 'Be', 'Caius', 'Ligarius', 'Caesar', 'Who', 'Pompey', 'I', 'Now', 'Metellus', 'He', 'I', 'Send', 'I', 'The', 'Brutus', 'And', 'What', 'Romans', 'Good', 'Let', 'But', 'Roman', 'With', 'And', 'Exeunt', 'Boy', 'Lucius', 'Fast', 'It', 'Enjoy', 'Thou', 'Which', 'Therefore', 'Enter', 'Brutus', 'Portia', 'It', 'Your', 'Nor', 'You', 'Brutus', 'Stole', 'You', 'Musing', 'And', 'I', 'You', 'I', 'And', 'Yet', 'I', 'But', 'Gave', 'I', 'Fearing', 'Which', 'Hoping', 'Which', 'It', 'And', 'As', 'I', 'Brutus', 'Dear', 'Make', 'I', 'Brutus', 'He', 'Why', 'I', 'Good', 'Portia', 'Is', 'Brutus', 'To', 'Of', 'What', 'Brutus', 'And', 'To', 'And', 'To', 'No', 'Brutus', 'You', 'Which', 'I', 'I', 'By', 'Which', 'That', 'Why', 'Have', 'Some', 'Even', 'Kneel', 'Portia', 'I', 'Brutus', 'Within', 'Brutus', 'Is', 'I', 'That', 'Am', 'I', 'But', 'To', 'And', 'Dwell', 'I', 'Of', 'If', 'Portia', 'Brutus', 'You', 'As', 'That', 'If', 'I', 'I', 'I', 'A', 'Lord', 'Brutus', 'I', 'I', 'A', 'Cato', 'Think', 'I', 'Being', 'Tell', 'I', 'I', 'Giving', 'Here', 'I', 'And', 'O', 'Render', 'Knocking', 'Hark', 'Portia', 'And', 'The', 'All', 'I', 'All', 'Leave', 'Exit', 'Lucius', 'Re', 'He', 'Caius', 'Ligarius', 'Metellus', 'Boy', 'Caius', 'Ligarius', 'Vouchsafe', 'O', 'Caius', 'To', 'Would', 'I', 'Brutus', 'Any', 'Such', 'I', 'Ligarius', 'Had', 'By', 'Romans', 'I', 'Soul', 'Rome', 'Brave', 'Thou', 'My', 'Now', 'And', 'I', 'Yea', 'What', 'A', 'But', 'That', 'What', 'Caius', 'I', 'To', 'Set', 'And', 'I', 'To', 'I', 'That', 'Brutus', 'Follow', 'Exeunt', 'Thunder', 'Enter', 'Nor', 'Thrice', 'Calpurnia', 'Help', 'Caesar', 'Who', 'Enter', 'Servant', 'Servant', 'My', 'Go', 'And', 'Servant', 'I', 'Exit', 'Enter', 'What', 'Caesar', 'You', 'Caesar', 'Ne', 'The', 'Caesar', 'Caesar', 'I', 'Yet', 'There', 'Besides', 'Recounts', 'A', 'And', 'Fierce', 'In', 'Which', 'Capitol', 'The', 'Horses', 'And', 'O', 'Caesar', 'And', 'I', 'What', 'Whose', 'Yet', 'Caesar', 'Are', 'Caesar', 'When', 'The', 'Cowards', 'The', 'Of', 'I', 'It', 'Seeing', 'Will', 'Re', 'Servant', 'What', 'Servant', 'They', 'Plucking', 'They', 'The', 'Caesar', 'If', 'No', 'Caesar', 'That', 'Caesar', 'We', 'And', 'I', 'And', 'Caesar', 'Alas', 'Your', 'Do', 'That', 'We', 'Mark', 'Antony', 'And', 'Let', 'Mark', 'Antony', 'I', 'And', 'I', 'Enter', 'Here', 'Decius', 'Brutus', 'Caesar', 'Caesar', 'I', 'And', 'To', 'And', 'I', 'Cannot', 'I', 'I', 'Decius', 'Say', 'Shall', 'Caesar', 'Have', 'I', 'To', 'Decius', 'Caesar', 'Most', 'Caesar', 'Lest', 'I', 'I', 'The', 'I', 'That', 'But', 'Because', 'I', 'I', 'Calpurnia', 'She', 'Which', 'Did', 'Romans', 'Came', 'And', 'And', 'Hath', 'I', 'This', 'It', 'Your', 'In', 'Romans', 'Signifies', 'Rome', 'Reviving', 'For', 'This', 'Calpurnia', 'And', 'I', 'I', 'And', 'To', 'Caesar', 'If', 'Their', 'Besides', 'Apt', 'Break', 'When', 'Caesar', 'If', 'Caesar', 'Lo', 'Caesar', 'Pardon', 'Caesar', 'To', 'And', 'How', 'Calpurnia', 'I', 'I', 'Give', 'I', 'Enter', 'And', 'Publius', 'Good', 'Caesar', 'Welcome', 'Publius', 'What', 'Brutus', 'Good', 'Casca', 'Caius', 'Ligarius', 'Caesar', 'As', 'What', 'Caesar', 'I', 'Enter', 'See', 'Antony', 'Is', 'Good', 'Antony', 'So', 'Caesar', 'Bid', 'I', 'Now', 'Cinna', 'Metellus', 'Trebonius', 'I', 'Remember', 'Be', 'I', 'Caesar', 'I', 'Aside', 'I', 'That', 'I', 'Good', 'And', 'Aside', 'That', 'O', 'Caesar', 'The', 'Brutus', 'Exeunt', 'A', 'Capitol', 'Enter', 'Caesar', 'Brutus', 'Cassius', 'Casca', 'Cinna', 'Trebonius', 'Metellus', 'Cimber', 'Decius', 'Brutus', 'Caius', 'Ligarius', 'There', 'Caesar', 'If', 'The', 'Thy', 'Here', 'I', 'Caesar', 'And', 'I', 'My', 'Out', 'If', 'O', 'Caesar', 'If', 'Fates', 'Exit', 'Another', 'Enter', 'I', 'Stay', 'Why', 'To', 'I', 'Ere', 'I', 'O', 'Set', 'I', 'How', 'Art', 'Madam', 'I', 'Run', 'Capitol', 'And', 'Yes', 'For', 'What', 'Caesar', 'Hark', 'I', 'Prithee', 'I', 'And', 'Capitol', 'Sooth', 'I', 'Enter', 'Soothsayer', 'Come', 'Soothsayer', 'At', 'What', 'Soothsayer', 'About', 'Is', 'Caesar', 'Capitol', 'Soothsayer', 'Madam', 'I', 'To', 'Capitol', 'Thou', 'Caesar', 'Soothsayer', 'That', 'I', 'Caesar', 'To', 'Caesar', 'I', 'Why', 'Soothsayer', 'None', 'I', 'I', 'Good', 'Here', 'The', 'Caesar', 'Of', 'Will', 'I', 'Speak', 'Caesar', 'Exit', 'I', 'Ay', 'The', 'O', 'Brutus', 'The', 'Sure', 'Brutus', 'That', 'Caesar', 'O', 'I', 'Run', 'Lucius', 'Say', 'I', 'And', 'Exeunt', 'I', 'Rome', 'Before', 'Capitol', 'Senate', 'A', 'Soothsayer', 'Flourish', 'Enter', 'To', 'Soothsayer', 'The', 'March', 'Soothsayer', 'Ay', 'Caesar', 'Hail', 'Caesar', 'Trebonius', 'At', 'O', 'Caesar', 'That', 'Caesar', 'Caesar', 'What', 'Delay', 'Caesar', 'What', 'Sirrah', 'What', 'Come', 'Capitol', 'Senate', 'House', 'I', 'What', 'Popilius', 'Fare', 'Advances', 'What', 'Popilius', 'Lena', 'He', 'I', 'Look', 'Caesar', 'Casca', 'Brutus', 'If', 'Cassius', 'Caesar', 'For', 'I', 'Cassius', 'Popilius', 'Lena', 'For', 'Caesar', 'Trebonius', 'Brutus', 'He', 'Mark', 'Antony', 'Exeunt', 'Where', 'Metellus', 'Cimber', 'Let', 'And', 'Caesar', 'He', 'Casca', 'Are', 'What', 'That', 'Caesar', 'Most', 'Caesar', 'Metellus', 'Cimber', 'An', 'Kneeling', 'I', 'Cimber', 'These', 'Might', 'And', 'Into', 'Be', 'To', 'Caesar', 'That', 'With', 'I', 'Low', 'Thy', 'If', 'I', 'Know', 'Caesar', 'Will', 'Is', 'To', 'Caesar', 'For', 'I', 'Caesar', 'Desiring', 'Publius', 'Cimber', 'Have', 'What', 'Brutus', 'Pardon', 'Caesar', 'Caesar', 'As', 'Cassius', 'To', 'Publius', 'Cimber', 'I', 'I', 'If', 'I', 'But', 'I', 'Of', 'There', 'The', 'They', 'But', 'So', 'And', 'Yet', 'I', 'That', 'Unshaked', 'I', 'Let', 'That', 'I', 'Cimber', 'And', 'O', 'Caesar', 'Hence', 'Olympus', 'Great', 'Caesar', 'Doth', 'Brutus', 'Speak', 'Conspirators', 'Et', 'Brute', 'Then', 'Caesar', 'Dies', 'Liberty', 'Freedom', 'Tyranny', 'Run', 'Some', 'Liberty', 'People', 'Fly', 'Go', 'Brutus', 'And', 'Cassius', 'Where', 'Publius', 'Here', 'Stand', 'Caesar', 'Should', 'Talk', 'Publius', 'There', 'Nor', 'Roman', 'Publius', 'And', 'Publius', 'Rushing', 'Do', 'But', 'Re', 'Where', 'Antony', 'Fled', 'Men', 'As', 'Fates', 'That', 'And', 'Why', 'Cuts', 'Grant', 'So', 'Caesar', 'His', 'Stoop', 'Romans', 'And', 'Caesar', 'Up', 'Then', 'And', 'Let', 'Peace', 'Stoop', 'How', 'Shall', 'In', 'How', 'Caesar', 'That', 'Pompey', 'No', 'So', 'So', 'The', 'What', 'Ay', 'Brutus', 'With', 'Rome', 'Enter', 'Servant', 'Soft', 'A', 'Antony', 'Servant', 'Thus', 'Brutus', 'Thus', 'Mark', 'Antony', 'And', 'Brutus', 'Caesar', 'Say', 'I', 'Brutus', 'I', 'Say', 'I', 'Caesar', 'If', 'Brutus', 'Antony', 'May', 'How', 'Caesar', 'Mark', 'Antony', 'Caesar', 'So', 'Brutus', 'The', 'Brutus', 'Thorough', 'With', 'So', 'Antony', 'Thy', 'Roman', 'I', 'Tell', 'He', 'Depart', 'Servant', 'I', 'Exit', 'I', 'I', 'I', 'That', 'Falls', 'But', 'Antony', 'Re', 'Welcome', 'Mark', 'Antony', 'O', 'Caesar', 'Are', 'Shrunk', 'Fare', 'I', 'Who', 'If', 'I', 'As', 'Caesar', 'Of', 'With', 'I', 'Now', 'Fulfil', 'Live', 'I', 'No', 'As', 'Caesar', 'The', 'O', 'Antony', 'Though', 'As', 'You', 'And', 'Our', 'And', 'Rome', 'As', 'Hath', 'Caesar', 'For', 'To', 'Mark', 'Antony', 'Our', 'Of', 'With', 'Your', 'In', 'Only', 'The', 'And', 'Why', 'I', 'Caesar', 'I', 'Have', 'I', 'Let', 'First', 'Marcus', 'Brutus', 'I', 'Next', 'Caius', 'Cassius', 'I', 'Now', 'Decius', 'Brutus', 'Metellus', 'Yours', 'Cinna', 'Casca', 'Though', 'Trebonius', 'Gentlemen', 'I', 'My', 'That', 'Either', 'That', 'I', 'Caesar', 'O', 'If', 'Shall', 'To', 'Anthony', 'Shaking', 'Most', 'Had', 'I', 'Weeping', 'It', 'In', 'Pardon', 'Julius', 'Here', 'Here', 'Sign', 'O', 'And', 'O', 'How', 'Dost', 'Mark', 'Antony', 'Pardon', 'Caius', 'Cassius', 'The', 'Caesar', 'Then', 'I', 'Caesar', 'But', 'Will', 'Or', 'Therefore', 'I', 'Sway', 'Caesar', 'Friends', 'I', 'Upon', 'Why', 'Caesar', 'Or', 'Our', 'That', 'Antony', 'Caesar', 'You', 'That', 'I', 'And', 'I', 'Produce', 'And', 'Speak', 'You', 'Mark', 'Antony', 'Brutus', 'Aside', 'You', 'That', 'Antony', 'Know', 'By', 'By', 'I', 'And', 'Caesar', 'What', 'Antony', 'I', 'He', 'And', 'Caesar', 'Have', 'It', 'I', 'I', 'Mark', 'Antony', 'Caesar', 'You', 'But', 'Caesar', 'And', 'Else', 'About', 'In', 'I', 'After', 'Be', 'I', 'Prepare', 'Exeunt', 'O', 'That', 'I', 'Thou', 'That', 'Woe', 'Over', 'I', 'Which', 'To', 'A', 'Domestic', 'Shall', 'Italy', 'Blood', 'And', 'That', 'Their', 'All', 'And', 'Caesar', 'With', 'Ate', 'Shall', 'Cry', 'Havoc', 'That', 'With', 'Enter', 'Servant', 'You', 'Octavius', 'Caesar', 'Servant', 'I', 'Mark', 'Antony', 'Caesar', 'Rome', 'Servant', 'He', 'And', 'O', 'Caesar', 'Seeing', 'Thy', 'Passion', 'I', 'Seeing', 'Began', 'Is', 'Servant', 'He', 'Rome', 'Post', 'Here', 'Rome', 'Rome', 'No', 'Rome', 'Octavius', 'Hie', 'Yet', 'Thou', 'I', 'Into', 'I', 'In', 'The', 'According', 'To', 'Octavius', 'Lend', 'Exeunt', 'The', 'Forum', 'Enter', 'Citizens', 'Citizens', 'We', 'Then', 'Cassius', 'And', 'Those', 'Those', 'Cassius', 'And', 'Of', 'Caesar', 'First', 'Citizen', 'I', 'Brutus', 'Second', 'Citizen', 'I', 'Cassius', 'When', 'Exit', 'Citizens', 'Third', 'Citizen', 'The', 'Brutus', 'Be', 'Romans', 'If', 'Caesar', 'I', 'Brutus', 'Caesar', 'If', 'Brutus', 'Caesar', 'Not', 'I', 'Caesar', 'I', 'Rome', 'Had', 'Caesar', 'Caesar', 'As', 'Caesar', 'I', 'I', 'I', 'I', 'There', 'Who', 'If', 'I', 'Who', 'Roman', 'If', 'I', 'Who', 'If', 'I', 'I', 'All', 'None', 'Brutus', 'Then', 'I', 'I', 'Caesar', 'Brutus', 'The', 'Capitol', 'Enter', 'Here', 'Mark', 'Antony', 'With', 'I', 'I', 'Rome', 'I', 'All', 'Live', 'Brutus', 'First', 'Citizen', 'Bring', 'Second', 'Citizen', 'Give', 'Third', 'Citizen', 'Let', 'Caesar', 'Fourth', 'Citizen', 'Caesar', 'Shall', 'Brutus', 'First', 'Citizen', 'We', 'With', 'My', 'Second', 'Citizen', 'Peace', 'Brutus', 'First', 'Citizen', 'Peace', 'Good', 'And', 'Antony', 'Do', 'Caesar', 'Tending', 'Caesar', 'Mark', 'Antony', 'By', 'I', 'Save', 'I', 'Antony', 'Exit', 'First', 'Citizen', 'Stay', 'Mark', 'Antony', 'Third', 'Citizen', 'Let', 'We', 'Noble', 'Antony', 'For', 'Brutus', 'I', 'Goes', 'Fourth', 'Citizen', 'What', 'Brutus', 'Third', 'Citizen', 'He', 'Brutus', 'He', 'Fourth', 'Citizen', 'Twere', 'Brutus', 'First', 'Citizen', 'This', 'Caesar', 'Third', 'Citizen', 'Nay', 'We', 'Rome', 'Second', 'Citizen', 'Peace', 'Antony', 'You', 'Romans', 'Citizens', 'Peace', 'Friends', 'Romans', 'I', 'Caesar', 'The', 'The', 'So', 'Caesar', 'The', 'Brutus', 'Hath', 'Caesar', 'If', 'And', 'Caesar', 'Here', 'Brutus', 'For', 'Brutus', 'So', 'Come', 'I', 'Caesar', 'He', 'But', 'Brutus', 'And', 'Brutus', 'He', 'Rome', 'Whose', 'Did', 'Caesar', 'When', 'Caesar', 'Ambition', 'Yet', 'Brutus', 'And', 'Brutus', 'You', 'Lupercal', 'I', 'Which', 'Yet', 'Brutus', 'And', 'I', 'Brutus', 'But', 'I', 'I', 'You', 'What', 'O', 'And', 'Bear', 'My', 'Caesar', 'And', 'I', 'First', 'Citizen', 'Methinks', 'Second', 'Citizen', 'If', 'Caesar', 'Third', 'Citizen', 'Has', 'I', 'Fourth', 'Citizen', 'Mark', 'He', 'Therefore', 'First', 'Citizen', 'If', 'Second', 'Citizen', 'Poor', 'Third', 'Citizen', 'There', 'Rome', 'Antony', 'Fourth', 'Citizen', 'Now', 'But', 'Caesar', 'Have', 'And', 'O', 'I', 'Your', 'I', 'Brutus', 'Cassius', 'Who', 'I', 'I', 'To', 'Than', 'I', 'But', 'Caesar', 'I', 'Let', 'Which', 'I', 'And', 'Caesar', 'And', 'Yea', 'And', 'Bequeathing', 'Unto', 'Fourth', 'Citizen', 'We', 'Mark', 'Antony', 'All', 'The', 'Caesar', 'Have', 'I', 'It', 'Caesar', 'You', 'And', 'Caesar', 'It', 'Tis', 'For', 'O', 'Fourth', 'Citizen', 'Read', 'Antony', 'You', 'Caesar', 'Will', 'I', 'I', 'I', 'Whose', 'Caesar', 'I', 'Fourth', 'Citizen', 'They', 'All', 'The', 'Second', 'Citizen', 'They', 'You', 'Then', 'Caesar', 'And', 'Shall', 'I', 'Several', 'Citizens', 'Come', 'Second', 'Citizen', 'Descend', 'Third', 'Citizen', 'You', 'Fourth', 'Citizen', 'A', 'First', 'Citizen', 'Stand', 'Second', 'Citizen', 'Room', 'Antony', 'Antony', 'Nay', 'Several', 'Citizens', 'Stand', 'If', 'You', 'I', 'The', 'Caesar', 'Twas', 'That', 'Nervii', 'Look', 'Cassius', 'See', 'Casca', 'Through', 'Brutus', 'And', 'Mark', 'Caesar', 'As', 'If', 'Brutus', 'For', 'Brutus', 'Caesar', 'Judge', 'O', 'Caesar', 'This', 'For', 'Caesar', 'Ingratitude', 'Quite', 'And', 'Even', 'Pompey', 'Which', 'Caesar', 'O', 'Then', 'I', 'Whilst', 'O', 'I', 'The', 'Kind', 'Our', 'Caesar', 'Look', 'Here', 'First', 'Citizen', 'O', 'Second', 'Citizen', 'O', 'Caesar', 'Third', 'Citizen', 'O', 'Fourth', 'Citizen', 'O', 'First', 'Citizen', 'O', 'Second', 'Citizen', 'We', 'All', 'Revenge', 'About', 'Seek', 'Burn', 'Fire', 'Kill', 'Slay', 'Let', 'Stay', 'First', 'Citizen', 'Peace', 'Antony', 'Second', 'Citizen', 'We', 'Good', 'To', 'They', 'What', 'I', 'That', 'And', 'I', 'I', 'Brutus', 'But', 'That', 'That', 'For', 'I', 'Action', 'To', 'I', 'I', 'Show', 'Caesar', 'And', 'I', 'Brutus', 'And', 'Brutus', 'Antony', 'Antony', 'Would', 'In', 'Caesar', 'The', 'Rome', 'All', 'We', 'First', 'Citizen', 'We', 'Brutus', 'Third', 'Citizen', 'Away', 'Yet', 'All', 'Peace', 'Hear', 'Antony', 'Most', 'Antony', 'Why', 'Wherein', 'Caesar', 'Alas', 'I', 'You', 'I', 'All', 'Most', 'The', 'Let', 'Here', 'Caesar', 'To', 'Roman', 'To', 'Second', 'Citizen', 'Most', 'Caesar', 'We', 'Third', 'Citizen', 'O', 'Caesar', 'Hear', 'All', 'Peace', 'Moreover', 'His', 'On', 'Tiber', 'And', 'To', 'Here', 'Caesar', 'First', 'Citizen', 'Never', 'Come', 'We', 'And', 'Take', 'Second', 'Citizen', 'Go', 'Third', 'Citizen', 'Pluck', 'Fourth', 'Citizen', 'Pluck', 'Exeunt', 'Citizens', 'Now', 'Mischief', 'Take', 'Enter', 'Servant', 'How', 'Servant', 'Sir', 'Octavius', 'Rome', 'Where', 'Servant', 'He', 'Lepidus', 'Caesar', 'And', 'I', 'He', 'Fortune', 'And', 'Servant', 'I', 'Brutus', 'Cassius', 'Are', 'Rome', 'Belike', 'How', 'I', 'Bring', 'Octavius', 'Exeunt', 'A', 'Enter', 'I', 'I', 'Caesar', 'And', 'I', 'Yet', 'Enter', 'Citizens', 'First', 'Citizen', 'What', 'Second', 'Citizen', 'Whither', 'Third', 'Citizen', 'Where', 'Fourth', 'Citizen', 'Are', 'Second', 'Citizen', 'Answer', 'First', 'Citizen', 'Ay', 'Fourth', 'Citizen', 'Ay', 'Third', 'Citizen', 'Ay', 'What', 'Whither', 'I', 'Where', 'I', 'Am', 'I', 'Then', 'I', 'I', 'Second', 'Citizen', 'That', 'I', 'Proceed', 'Directly', 'I', 'Caesar', 'First', 'Citizen', 'As', 'As', 'Second', 'Citizen', 'That', 'Fourth', 'Citizen', 'For', 'Briefly', 'I', 'Capitol', 'Third', 'Citizen', 'Your', 'Truly', 'Cinna', 'First', 'Citizen', 'Tear', 'I', 'Cinna', 'I', 'Cinna', 'Fourth', 'Citizen', 'Tear', 'I', 'Cinna', 'Fourth', 'Citizen', 'It', 'Cinna', 'Third', 'Citizen', 'Tear', 'Come', 'Brutus', 'Cassius', 'Decius', 'Casca', 'Ligarius', 'Exeunt', 'I', 'A', 'Rome', 'These', 'Your', 'Lepidus', 'I', 'Prick', 'Antony', 'Upon', 'Publius', 'Who', 'Mark', 'Antony', 'He', 'I', 'But', 'Lepidus', 'Caesar', 'Fetch', 'How', 'What', 'I', 'Or', 'Capitol', 'Exit', 'This', 'Meet', 'The', 'One', 'So', 'And', 'In', 'Octavius', 'I', 'And', 'To', 'He', 'To', 'Either', 'And', 'Then', 'Like', 'And', 'You', 'But', 'So', 'Octavius', 'I', 'It', 'I', 'To', 'His', 'And', 'Lepidus', 'He', 'A', 'On', 'Which', 'Begin', 'But', 'And', 'Octavius', 'Listen', 'Brutus', 'Cassius', 'Are', 'Therefore', 'Our', 'And', 'How', 'And', 'Let', 'And', 'And', 'I', 'Millions', 'Exeunt', 'Camp', 'Sardis', 'Before', 'Drum', 'Enter', 'Soldiers', 'Stand', 'Give', 'What', 'Lucilius', 'Cassius', 'He', 'Pindarus', 'To', 'He', 'Your', 'Pindarus', 'In', 'Hath', 'Things', 'I', 'I', 'But', 'Such', 'He', 'A', 'Lucilius', 'How', 'With', 'But', 'Nor', 'As', 'Thou', 'A', 'Lucilius', 'When', 'It', 'There', 'But', 'Make', 'But', 'They', 'Sink', 'Comes', 'They', 'Sardis', 'The', 'Are', 'Cassius', 'Hark', 'Low', 'March', 'Enter', 'Stand', 'Stand', 'Speak', 'First', 'Soldier', 'Stand', 'Second', 'Soldier', 'Stand', 'Third', 'Soldier', 'Stand', 'Most', 'Judge', 'I', 'And', 'I', 'Brutus', 'And', 'Cassius', 'Speak', 'I', 'Before', 'Which', 'Let', 'Then', 'Cassius', 'And', 'I', 'Pindarus', 'Bid', 'A', 'Lucilius', 'Come', 'Let', 'Lucius', 'Titinius', 'Exeunt', 'Brutus', 'Enter', 'That', 'You', 'Lucius', 'Pella', 'For', 'Sardians', 'Wherein', 'Because', 'I', 'You', 'In', 'That', 'Let', 'Cassius', 'Are', 'To', 'To', 'I', 'You', 'Brutus', 'Or', 'The', 'Cassius', 'And', 'Chastisement', 'Remember', 'March', 'March', 'Did', 'Julius', 'What', 'And', 'What', 'That', 'But', 'Contaminate', 'And', 'For', 'I', 'Than', 'Roman', 'Brutus', 'I', 'To', 'I', 'I', 'Older', 'To', 'Go', 'Cassius', 'I', 'I', 'Urge', 'I', 'Have', 'Away', 'Is', 'Hear', 'I', 'Must', 'I', 'Shall', 'I', 'O', 'I', 'All', 'Go', 'And', 'Must', 'I', 'Must', 'I', 'I', 'Under', 'By', 'You', 'Though', 'I', 'When', 'Is', 'You', 'Let', 'And', 'I', 'You', 'Brutus', 'I', 'Did', 'I', 'If', 'I', 'When', 'Caesar', 'Peace', 'I', 'No', 'What', 'For', 'Do', 'I', 'I', 'You', 'There', 'Cassius', 'For', 'I', 'That', 'Which', 'I', 'I', 'For', 'For', 'I', 'By', 'I', 'And', 'From', 'By', 'I', 'To', 'Which', 'Cassius', 'Should', 'I', 'Caius', 'Cassius', 'When', 'Marcus', 'Brutus', 'To', 'Be', 'Dash', 'I', 'You', 'I', 'My', 'Brutus', 'A', 'But', 'Brutus', 'I', 'You', 'I', 'A', 'A', 'As', 'Olympus', 'Come', 'Antony', 'Octavius', 'Revenge', 'Cassius', 'For', 'Cassius', 'Hated', 'Cheque', 'Set', 'To', 'O', 'I', 'My', 'There', 'And', 'Dearer', 'Plutus', 'If', 'Roman', 'I', 'Strike', 'Caesar', 'I', 'When', 'Than', 'Cassius', 'Sheathe', 'Be', 'Do', 'O', 'Cassius', 'That', 'Who', 'And', 'Hath', 'Cassius', 'To', 'Brutus', 'When', 'When', 'I', 'I', 'Do', 'Give', 'And', 'O', 'Brutus', 'What', 'Have', 'When', 'Makes', 'Yes', 'Cassius', 'When', 'Brutus', 'He', 'Poet', 'Within', 'Let', 'There', 'They', 'Within', 'You', 'Poet', 'Within', 'Nothing', 'Enter', 'Poet', 'How', 'Poet', 'For', 'Love', 'For', 'I', 'I', 'Ha', 'Get', 'Bear', 'Brutus', 'I', 'What', 'Companion', 'Away', 'Exit', 'Poet', 'Lucilius', 'Titinius', 'Prepare', 'And', 'Messala', 'Immediately', 'Exeunt', 'Lucius', 'Exit', 'I', 'O', 'Cassius', 'I', 'Of', 'If', 'No', 'Portia', 'Ha', 'Portia', 'She', 'How', 'I', 'I', 'O', 'Upon', 'Impatient', 'And', 'Octavius', 'Mark', 'Antony', 'Have', 'That', 'And', 'And', 'Even', 'O', 'Re', 'Speak', 'Give', 'In', 'I', 'Cassius', 'My', 'Fill', 'Lucius', 'I', 'Brutus', 'Come', 'Titinius', 'Exit', 'Re', 'Welcome', 'Messala', 'Now', 'And', 'Portia', 'No', 'I', 'Messala', 'I', 'That', 'Octavius', 'Mark', 'Antony', 'Come', 'Bending', 'Philippi', 'Myself', 'With', 'That', 'Octavius', 'Antony', 'Lepidus', 'Have', 'Therein', 'Mine', 'By', 'Cicero', 'Cicero', 'Cicero', 'And', 'Had', 'No', 'Messala', 'Nor', 'Nothing', 'Messala', 'That', 'Why', 'No', 'Now', 'Roman', 'Then', 'Roman', 'I', 'For', 'Why', 'Portia', 'We', 'Messala', 'With', 'I', 'Even', 'I', 'But', 'Well', 'What', 'Of', 'Philippi', 'I', 'Your', 'This', 'Tis', 'So', 'Doing', 'Are', 'Good', 'The', 'Philippi', 'Do', 'For', 'The', 'By', 'Come', 'From', 'If', 'Philippi', 'These', 'Hear', 'Under', 'You', 'That', 'Our', 'The', 'We', 'There', 'Which', 'Omitted', 'Is', 'On', 'And', 'Or', 'Then', 'We', 'Philippi', 'The', 'And', 'Which', 'There', 'No', 'Good', 'Early', 'Lucius', 'Enter', 'My', 'Exit', 'Farewell', 'Messala', 'Good', 'Titinius', 'Noble', 'Cassius', 'Good', 'O', 'This', 'Never', 'Let', 'Brutus', 'Every', 'Good', 'Good', 'Good', 'Lord', 'Brutus', 'Farewell', 'Exeunt', 'Re', 'Give', 'Where', 'Here', 'What', 'Poor', 'I', 'Call', 'Claudius', 'I', 'Varro', 'Claudius', 'Enter', 'Calls', 'I', 'It', 'I', 'On', 'Cassius', 'So', 'I', 'It', 'I', 'Look', 'Lucius', 'I', 'I', 'I', 'Bear', 'I', 'Canst', 'And', 'Ay', 'It', 'I', 'It', 'I', 'I', 'I', 'It', 'I', 'I', 'I', 'Music', 'This', 'O', 'Lay', 'That', 'Gentle', 'I', 'If', 'I', 'Let', 'Where', 'I', 'Here', 'I', 'Enter', 'Ghost', 'How', 'Ha', 'I', 'That', 'It', 'Art', 'Art', 'That', 'Speak', 'Thy', 'Brutus', 'Why', 'To', 'Philippi', 'Well', 'I', 'Ay', 'Philippi', 'Why', 'I', 'Philippi', 'Exit', 'Ghost', 'Now', 'I', 'Ill', 'I', 'Boy', 'Lucius', 'Varro', 'Claudius', 'Sirs', 'Claudius', 'The', 'He', 'Lucius', 'My', 'Didst', 'Lucius', 'My', 'I', 'I', 'Yes', 'Nothing', 'Sleep', 'Lucius', 'Sirrah', 'Claudius', 'To', 'Fellow', 'My', 'My', 'Why', 'Did', 'Ay', 'No', 'I', 'Nor', 'I', 'Go', 'Cassius', 'Bid', 'And', 'It', 'Exeunt', 'V', 'I', 'The', 'Philippi', 'Enter', 'Now', 'Antony', 'You', 'But', 'It', 'They', 'Philippi', 'Answering', 'Tut', 'I', 'I', 'Wherefore', 'To', 'With', 'To', 'But', 'Enter', 'Messenger', 'Messenger', 'Prepare', 'The', 'Their', 'And', 'Octavius', 'Upon', 'Upon', 'I', 'Why', 'I', 'I', 'March', 'Drum', 'Enter', 'Army', 'They', 'Stand', 'Titinius', 'Mark', 'Antony', 'No', 'Caesar', 'Make', 'Stir', 'Words', 'Not', 'Good', 'Octavius', 'In', 'Brutus', 'Witness', 'Caesar', 'Crying', 'Long', 'Caesar', 'Antony', 'The', 'But', 'Hybla', 'And', 'Not', 'O', 'For', 'Antony', 'And', 'Villains', 'Hack', 'Caesar', 'You', 'And', 'Caesar', 'Whilst', 'Casca', 'Struck', 'Caesar', 'O', 'Flatterers', 'Now', 'Brutus', 'This', 'If', 'Cassius', 'Come', 'The', 'Look', 'I', 'When', 'Never', 'Caesar', 'Be', 'Caesar', 'Have', 'Caesar', 'Unless', 'So', 'I', 'I', 'Brutus', 'O', 'Young', 'A', 'Join', 'Old', 'Cassius', 'Come', 'Antony', 'Defiance', 'If', 'If', 'Exeunt', 'Why', 'The', 'Ho', 'Lucilius', 'Standing', 'My', 'Messala', 'Standing', 'What', 'Messala', 'This', 'Was', 'Cassius', 'Give', 'Messala', 'Be', 'As', 'Pompey', 'I', 'Upon', 'You', 'I', 'Epicurus', 'And', 'I', 'And', 'Coming', 'Sardis', 'Two', 'Gorging', 'Who', 'Philippi', 'This', 'And', 'Fly', 'As', 'A', 'Our', 'Believe', 'I', 'For', 'I', 'To', 'Even', 'Lucilius', 'Now', 'Brutus', 'The', 'Lovers', 'But', 'Let', 'If', 'The', 'What', 'Even', 'By', 'I', 'Cato', 'Which', 'I', 'But', 'I', 'For', 'The', 'To', 'That', 'Then', 'You', 'Thorough', 'Rome', 'No', 'Cassius', 'Roman', 'That', 'Brutus', 'Rome', 'He', 'But', 'Must', 'March', 'And', 'I', 'Therefore', 'For', 'Cassius', 'If', 'If', 'For', 'Brutus', 'If', 'If', 'Why', 'O', 'The', 'But', 'And', 'Come', 'Exeunt', 'The', 'The', 'Alarum', 'Enter', 'Ride', 'Messala', 'Unto', 'Loud', 'Let', 'I', 'But', 'Octavius', 'And', 'Ride', 'Messala', 'Exeunt', 'Another', 'Alarums', 'Enter', 'O', 'Titinius', 'Myself', 'This', 'I', 'O', 'Cassius', 'Brutus', 'Who', 'Octavius', 'Took', 'Whilst', 'Antony', 'Enter', 'Fly', 'Mark', 'Antony', 'Fly', 'Cassius', 'This', 'Look', 'Titinius', 'Are', 'I', 'They', 'Titinius', 'Mount', 'Till', 'And', 'I', 'Whether', 'I', 'Exit', 'Go', 'Pindarus', 'My', 'Titinius', 'And', 'This', 'I', 'And', 'I', 'I', 'My', 'Sirrah', 'Above', 'O', 'What', 'Above', 'Titinius', 'With', 'Yet', 'Now', 'Now', 'Titinius', 'Now', 'O', 'He', 'Shout', 'And', 'Come', 'O', 'I', 'To', 'Come', 'In', 'Parthia', 'I', 'And', 'I', 'That', 'I', 'Thou', 'Come', 'Now', 'That', 'Caesar', 'Stand', 'And', 'Guide', 'Caesar', 'Even', 'Dies', 'So', 'I', 'Durst', 'I', 'O', 'Cassius', 'Far', 'Pindarus', 'Where', 'Roman', 'Exit', 'Re', 'It', 'Titinius', 'Octavius', 'Is', 'Brutus', 'As', 'Cassius', 'Antony', 'These', 'Cassius', 'Where', 'All', 'With', 'Pindarus', 'Is', 'He', 'O', 'Is', 'No', 'Messala', 'But', 'Cassius', 'O', 'As', 'So', 'Cassius', 'The', 'Rome', 'Our', 'Clouds', 'Mistrust', 'Mistrust', 'O', 'Why', 'The', 'O', 'Thou', 'But', 'What', 'Pindarus', 'Pindarus', 'Seek', 'Titinius', 'I', 'The', 'Brutus', 'Into', 'I', 'For', 'Shall', 'Brutus', 'As', 'Hie', 'Messala', 'And', 'I', 'Pindarus', 'Exit', 'Why', 'Cassius', 'Did', 'I', 'Put', 'And', 'Didst', 'Alas', 'But', 'Thy', 'Brutus', 'I', 'Will', 'Brutus', 'And', 'I', 'Caius', 'Cassius', 'By', 'Roman', 'Come', 'Cassius', 'Titinius', 'Kills', 'Alarum', 'Re', 'Where', 'Messala', 'Lo', 'Titinius', 'Titinius', 'He', 'O', 'Julius', 'Caesar', 'Thy', 'In', 'Low', 'Brave', 'Titinius', 'Look', 'Cassius', 'Are', 'Romans', 'The', 'Romans', 'It', 'Rome', 'Should', 'Friends', 'I', 'To', 'I', 'Cassius', 'I', 'Come', 'Thasos', 'His', 'Lest', 'Lucilius', 'And', 'Cato', 'Labeo', 'Flavius', 'Tis', 'Romans', 'We', 'Exeunt', 'Another', 'Alarum', 'Enter', 'Soldiers', 'Yet', 'O', 'What', 'Who', 'I', 'I', 'Marcus', 'Cato', 'A', 'I', 'Marcus', 'Cato', 'And', 'I', 'Brutus', 'Marcus', 'Brutus', 'I', 'Brutus', 'Brutus', 'Exit', 'O', 'Cato', 'Why', 'Titinius', 'And', 'Cato', 'First', 'Soldier', 'Yield', 'Only', 'I', 'There', 'Offering', 'Kill', 'Brutus', 'First', 'Soldier', 'We', 'A', 'Second', 'Soldier', 'Room', 'Tell', 'Antony', 'Brutus', 'First', 'Soldier', 'I', 'Here', 'Enter', 'Brutus', 'Brutus', 'Where', 'Safe', 'Antony', 'Brutus', 'I', 'Shall', 'Brutus', 'The', 'When', 'He', 'Brutus', 'This', 'Brutus', 'I', 'A', 'Give', 'I', 'Such', 'Go', 'And', 'Brutus', 'And', 'Octavius', 'How', 'Exeunt', 'V', 'Another', 'Enter', 'Come', 'Statilius', 'He', 'Sit', 'Clitus', 'It', 'Hark', 'Clitus', 'Whispers', 'What', 'I', 'No', 'Peace', 'I', 'Hark', 'Dardanius', 'Whispers', 'Shall', 'I', 'O', 'Dardanius', 'O', 'Clitus', 'What', 'Brutus', 'To', 'Clitus', 'Look', 'Now', 'That', 'Come', 'Volumnius', 'What', 'Why', 'Volumnius', 'The', 'Caesar', 'Two', 'Sardis', 'And', 'Philippi', 'I', 'Not', 'Nay', 'I', 'Volumnius', 'Thou', 'Volumnius', 'Our', 'Low', 'It', 'Than', 'Good', 'Volumnius', 'Thou', 'Even', 'I', 'Hold', 'I', 'That', 'Alarum', 'Fly', 'Farewell', 'Volumnius', 'Strato', 'Farewell', 'Strato', 'Countrymen', 'My', 'I', 'I', 'More', 'Octavius', 'Mark', 'Antony', 'By', 'So', 'Brutus', 'Hath', 'Night', 'That', 'Alarum', 'Cry', 'Fly', 'Fly', 'Hence', 'I', 'Exeunt', 'I', 'Strato', 'Thou', 'Thy', 'Hold', 'While', 'I', 'Wilt', 'Strato', 'Give', 'Fare', 'Farewell', 'Strato', 'Runs', 'Caesar', 'I', 'Dies', 'Alarum', 'Retreat', 'Enter', 'What', 'My', 'Strato', 'Free', 'Messala', 'The', 'For', 'Brutus', 'And', 'So', 'Brutus', 'I', 'Brutus', 'That', 'Lucilius', 'All', 'Brutus', 'I', 'Fellow', 'Ay', 'Messala', 'Do', 'Messala', 'How', 'Strato', 'I', 'Octavius', 'That', 'This', 'Roman', 'All', 'Did', 'Caesar', 'He', 'And', 'His', 'So', 'Nature', 'And', 'This', 'According', 'With', 'Within', 'Most', 'So', 'To', 'Exeunt']\n",
            "560\n"
          ],
          "name": "stdout"
        }
      ]
    },
    {
      "cell_type": "markdown",
      "metadata": {
        "id": "k8tsZYjCM19B"
      },
      "source": [
        "4. Write a regular expression using groups in Python that extracts all phrases that have\r\n",
        "“son of ” and extract/output the answer in a case-insensitive way. For example, for the\r\n",
        "following “I am the son of earth”, should find “son of earth” and extract/output “earth”.\r\n",
        "(20 points)"
      ]
    },
    {
      "cell_type": "code",
      "metadata": {
        "colab": {
          "base_uri": "https://localhost:8080/",
          "height": 0
        },
        "id": "qu_Y9ZwhM6ji",
        "outputId": "2e83e116-42d4-4168-cfd7-f8b0113e5678"
      },
      "source": [
        "#approach 1\r\n",
        "m4=re.findall(r'\\bson of (.[a-zA-Z]+)',strings,re.I)\r\n",
        "print(m4)"
      ],
      "execution_count": 171,
      "outputs": [
        {
          "output_type": "stream",
          "text": [
            "['Rome', 'Caesar', 'Marcus', 'Marcus']\n"
          ],
          "name": "stdout"
        }
      ]
    },
    {
      "cell_type": "code",
      "metadata": {
        "colab": {
          "base_uri": "https://localhost:8080/",
          "height": 0
        },
        "id": "v030-RE4RolL",
        "outputId": "3e2977e7-db35-44d5-f127-ad932f21ad7d"
      },
      "source": [
        "#approach 2\r\n",
        "m4=[]\r\n",
        "# string1='Than to repute himself a son of Rome'\r\n",
        "# p3=re.search(r'\\bson of (.[a-zA-Z]+)',string1)\r\n",
        "# print(p3.group(1))\r\n",
        "with open(\"/content/sample_data/hw_1-text.txt\") as openfile:\r\n",
        "    for line in openfile:\r\n",
        "       #print(line)\r\n",
        "       p3=re.search(r'\\bson of (.[a-zA-Z]+)',line, re.I)\r\n",
        "       if(p3!=None):\r\n",
        "         m4.append(p3.group(1))\r\n",
        "    print(m4)"
      ],
      "execution_count": 172,
      "outputs": [
        {
          "output_type": "stream",
          "text": [
            "['Rome', 'Caesar', 'Marcus', 'Marcus']\n"
          ],
          "name": "stdout"
        }
      ]
    },
    {
      "cell_type": "markdown",
      "metadata": {
        "id": "Nd_vQvKpW97h"
      },
      "source": [
        "5. Plays are divided in acts, write a regular expression using groups in Python that\r\n",
        "extracts the number of each act found in this play in a case-sensitive way. (20 points)"
      ]
    },
    {
      "cell_type": "code",
      "metadata": {
        "colab": {
          "base_uri": "https://localhost:8080/",
          "height": 0
        },
        "id": "eZcudo9SXDj4",
        "outputId": "ffcdef93-5633-433e-a139-0308980b496a"
      },
      "source": [
        "m5=[]\r\n",
        "with open(\"/content/sample_data/hw_1-text.txt\") as openfile:\r\n",
        "  for line in openfile:\r\n",
        "    p4=re.search(r'ACT (.*[A-Z]|[A-Z]+)',line)\r\n",
        "    if(p4!=None):\r\n",
        "      m5.append(p4.group(1))\r\n",
        "\r\n",
        "print(m5)"
      ],
      "execution_count": 173,
      "outputs": [
        {
          "output_type": "stream",
          "text": [
            "['I', 'II', 'III', 'IV', 'V']\n"
          ],
          "name": "stdout"
        }
      ]
    },
    {
      "cell_type": "markdown",
      "metadata": {
        "id": "aZaBqG39tiVD"
      },
      "source": [
        "6. Write a Python function that takes the file as an input and outputs how many lines end\r\n",
        "with: ? , that is a question mark at the end of the line. This function needs to use a\r\n",
        "regular expression. (20 points)"
      ]
    },
    {
      "cell_type": "code",
      "metadata": {
        "id": "bCN3pj1zvsEL"
      },
      "source": [
        "def question_counter(file):\r\n",
        "  m6=[]\r\n",
        "  count=0\r\n",
        "  with open(file) as file1:\r\n",
        "    for line in file1:\r\n",
        "      p5=re.search(r'.*\\?$',line)\r\n",
        "      if(p5!=None):\r\n",
        "        m6.append(p5.group(0))\r\n",
        "        count+=1\r\n",
        "  #print(m6)\r\n",
        "  return count"
      ],
      "execution_count": 174,
      "outputs": []
    },
    {
      "cell_type": "code",
      "metadata": {
        "colab": {
          "base_uri": "https://localhost:8080/",
          "height": 0
        },
        "id": "i-BSu8_RwW1W",
        "outputId": "4b80341d-dded-4fe1-f460-8aedae0c85b3"
      },
      "source": [
        "c=question_counter(\"/content/sample_data/hw_1-text.txt\")\r\n",
        "print(c)"
      ],
      "execution_count": 175,
      "outputs": [
        {
          "output_type": "stream",
          "text": [
            "215\n"
          ],
          "name": "stdout"
        }
      ]
    },
    {
      "cell_type": "markdown",
      "metadata": {
        "id": "0IjY17OeyLup"
      },
      "source": [
        "7. Using the code from Class 04, train a Random Forest classification model for the same\r\n",
        "two newsgroups, generate the confusion matrix, and all the same performance metrics.\r\n",
        "(50 points)"
      ]
    },
    {
      "cell_type": "code",
      "metadata": {
        "colab": {
          "base_uri": "https://localhost:8080/",
          "height": 0
        },
        "id": "Vg9MicGCyRQQ",
        "outputId": "19161f56-9e7f-4637-ba00-1d6074afafdb"
      },
      "source": [
        "from sklearn.datasets import fetch_20newsgroups\r\n",
        "\r\n",
        "data = fetch_20newsgroups()\r\n",
        "data.target_names"
      ],
      "execution_count": 176,
      "outputs": [
        {
          "output_type": "execute_result",
          "data": {
            "text/plain": [
              "['alt.atheism',\n",
              " 'comp.graphics',\n",
              " 'comp.os.ms-windows.misc',\n",
              " 'comp.sys.ibm.pc.hardware',\n",
              " 'comp.sys.mac.hardware',\n",
              " 'comp.windows.x',\n",
              " 'misc.forsale',\n",
              " 'rec.autos',\n",
              " 'rec.motorcycles',\n",
              " 'rec.sport.baseball',\n",
              " 'rec.sport.hockey',\n",
              " 'sci.crypt',\n",
              " 'sci.electronics',\n",
              " 'sci.med',\n",
              " 'sci.space',\n",
              " 'soc.religion.christian',\n",
              " 'talk.politics.guns',\n",
              " 'talk.politics.mideast',\n",
              " 'talk.politics.misc',\n",
              " 'talk.religion.misc']"
            ]
          },
          "metadata": {
            "tags": []
          },
          "execution_count": 176
        }
      ]
    },
    {
      "cell_type": "code",
      "metadata": {
        "id": "Y5edke4SQYdV"
      },
      "source": [
        "categories = ['rec.autos','comp.graphics']\r\n",
        "train = fetch_20newsgroups(subset='train', categories=categories)\r\n",
        "test = fetch_20newsgroups(subset='test', categories=categories)"
      ],
      "execution_count": 177,
      "outputs": []
    },
    {
      "cell_type": "code",
      "metadata": {
        "colab": {
          "base_uri": "https://localhost:8080/",
          "height": 0
        },
        "id": "9WcY9PzEQbnu",
        "outputId": "0f34a13a-3d98-4682-a949-4edaaed1f177"
      },
      "source": [
        "print(train.data[6])"
      ],
      "execution_count": 178,
      "outputs": [
        {
          "output_type": "stream",
          "text": [
            "From: ssave@ole.cdac.com (The Devil Reincarnate)\n",
            "Subject: Quick question\n",
            "Keywords: Removing panels.\n",
            "Organization: CDAC, WA\n",
            "Lines: 9\n",
            "\n",
            " How do you take off the driver side door panel from the inside\n",
            "on an '87 Honda Prelude?  The speaker went scratchy, and I want\n",
            "to access its pins.\n",
            "\n",
            " I see only one press button and the rest is snug fit.\n",
            "\n",
            "\n",
            " -S\n",
            " ssave@ole.cdac.com\n",
            "\n"
          ],
          "name": "stdout"
        }
      ]
    },
    {
      "cell_type": "code",
      "metadata": {
        "id": "9gsY_EmWRpKD"
      },
      "source": [
        "from sklearn.feature_extraction.text import CountVectorizer\r\n",
        "from sklearn.ensemble import RandomForestClassifier\r\n",
        "from sklearn.pipeline import make_pipeline\r\n",
        "\r\n",
        "model = make_pipeline(CountVectorizer(), RandomForestClassifier())"
      ],
      "execution_count": 179,
      "outputs": []
    },
    {
      "cell_type": "code",
      "metadata": {
        "id": "IAL68sEtSe_m"
      },
      "source": [
        "model.fit(train.data, train.target)\r\n",
        "labels = model.predict(test.data)"
      ],
      "execution_count": 180,
      "outputs": []
    },
    {
      "cell_type": "code",
      "metadata": {
        "colab": {
          "base_uri": "https://localhost:8080/",
          "height": 0
        },
        "id": "tklLbW40SpX6",
        "outputId": "d1319da8-6b37-4341-e915-4da36c7f64c1"
      },
      "source": [
        "import sklearn.metrics\r\n",
        "from sklearn.metrics import confusion_matrix\r\n",
        "import numpy as np\r\n",
        "mat = confusion_matrix(test.target, labels)\r\n",
        "print(mat)"
      ],
      "execution_count": 181,
      "outputs": [
        {
          "output_type": "stream",
          "text": [
            "[[367  22]\n",
            " [ 34 362]]\n"
          ],
          "name": "stdout"
        }
      ]
    },
    {
      "cell_type": "code",
      "metadata": {
        "colab": {
          "base_uri": "https://localhost:8080/",
          "height": 0
        },
        "id": "H4obCc2oS40w",
        "outputId": "7a3ed9c9-6645-48c8-c14c-faed791915ff"
      },
      "source": [
        "print('Accuracy:', sklearn.metrics.accuracy_score(test.target,labels))\r\n",
        "print('Precision:', sklearn.metrics.precision_score(test.target,labels))\r\n",
        "print('Recall:', sklearn.metrics.recall_score(test.target,labels))\r\n",
        "print('F1 Score:', sklearn.metrics.f1_score(labels, test.target, average='macro'))\r\n",
        "print('Mean Absolute Error:', sklearn.metrics.mean_absolute_error(test.target,labels))\r\n",
        "print('Mean Squared Error:', sklearn.metrics.mean_squared_error(test.target, labels))\r\n",
        "print('Root Mean Squared Error:', np.sqrt(sklearn.metrics.mean_squared_error(test.target, labels)))"
      ],
      "execution_count": 182,
      "outputs": [
        {
          "output_type": "stream",
          "text": [
            "Accuracy: 0.9286624203821656\n",
            "Precision: 0.9427083333333334\n",
            "Recall: 0.9141414141414141\n",
            "F1 Score: 0.9286595261278807\n",
            "Mean Absolute Error: 0.07133757961783439\n",
            "Mean Squared Error: 0.07133757961783439\n",
            "Root Mean Squared Error: 0.26709095757407136\n"
          ],
          "name": "stdout"
        }
      ]
    },
    {
      "cell_type": "markdown",
      "metadata": {
        "id": "SxJWzd-KS6WD"
      },
      "source": [
        "Bonus (15 points): Using the code from Class 04. Write a function to find the best\r\n",
        "performing model for the TF-IDF vectorization. The requirements for this are: 1) Pass all\r\n",
        "metrics for each model in a single dataframe (each row has a metric value, each column\r\n",
        "is a model type). 2) Make the decision of the best model by counting which column has\r\n",
        "the highest F1-score and accuracy"
      ]
    },
    {
      "cell_type": "code",
      "metadata": {
        "id": "Nvq6ECZtV-IV"
      },
      "source": [
        "#creating a sample dataframe for testing\r\n",
        "\r\n",
        "from sklearn.feature_extraction.text import TfidfVectorizer\r\n",
        "from sklearn.naive_bayes import MultinomialNB\r\n",
        "from sklearn.linear_model import Perceptron\r\n",
        "from sklearn.ensemble import RandomForestClassifier\r\n",
        "from sklearn.linear_model import LogisticRegression\r\n",
        "from sklearn.pipeline import make_pipeline\r\n",
        "\r\n",
        "model1 = make_pipeline(TfidfVectorizer(), MultinomialNB())\r\n",
        "model2 = make_pipeline(TfidfVectorizer(), Perceptron())\r\n",
        "model3 = make_pipeline(TfidfVectorizer(), RandomForestClassifier())\r\n",
        "model4 = make_pipeline(TfidfVectorizer(), LogisticRegression())"
      ],
      "execution_count": 194,
      "outputs": []
    },
    {
      "cell_type": "code",
      "metadata": {
        "colab": {
          "base_uri": "https://localhost:8080/",
          "height": 0
        },
        "id": "wpWslEo-XVTj",
        "outputId": "93e84569-c7a5-4e70-e1c1-a197574e668e"
      },
      "source": [
        "data = fetch_20newsgroups()\r\n",
        "data.target_names"
      ],
      "execution_count": 184,
      "outputs": [
        {
          "output_type": "execute_result",
          "data": {
            "text/plain": [
              "['alt.atheism',\n",
              " 'comp.graphics',\n",
              " 'comp.os.ms-windows.misc',\n",
              " 'comp.sys.ibm.pc.hardware',\n",
              " 'comp.sys.mac.hardware',\n",
              " 'comp.windows.x',\n",
              " 'misc.forsale',\n",
              " 'rec.autos',\n",
              " 'rec.motorcycles',\n",
              " 'rec.sport.baseball',\n",
              " 'rec.sport.hockey',\n",
              " 'sci.crypt',\n",
              " 'sci.electronics',\n",
              " 'sci.med',\n",
              " 'sci.space',\n",
              " 'soc.religion.christian',\n",
              " 'talk.politics.guns',\n",
              " 'talk.politics.mideast',\n",
              " 'talk.politics.misc',\n",
              " 'talk.religion.misc']"
            ]
          },
          "metadata": {
            "tags": []
          },
          "execution_count": 184
        }
      ]
    },
    {
      "cell_type": "code",
      "metadata": {
        "id": "CKzD_sm0XT1x"
      },
      "source": [
        "categories = ['rec.autos','comp.graphics']\r\n",
        "train = fetch_20newsgroups(subset='train', categories=categories)\r\n",
        "test = fetch_20newsgroups(subset='test', categories=categories)"
      ],
      "execution_count": 185,
      "outputs": []
    },
    {
      "cell_type": "code",
      "metadata": {
        "id": "x-JTBrTLWHj9"
      },
      "source": [
        "model1.fit(train.data, train.target)\r\n",
        "model2.fit(train.data, train.target)\r\n",
        "model3.fit(train.data, train.target)\r\n",
        "model4.fit(train.data, train.target)\r\n",
        "labels1 = model1.predict(test.data)\r\n",
        "labels2 = model2.predict(test.data)\r\n",
        "labels3 = model3.predict(test.data)\r\n",
        "labels4 = model4.predict(test.data)"
      ],
      "execution_count": 196,
      "outputs": []
    },
    {
      "cell_type": "code",
      "metadata": {
        "colab": {
          "base_uri": "https://localhost:8080/",
          "height": 0
        },
        "id": "TL3fup_TWIOn",
        "outputId": "21de029a-f0f1-4f49-b7bf-3df7e2650873"
      },
      "source": [
        "from sklearn.metrics import confusion_matrix\r\n",
        "mat1 = confusion_matrix(test.target, labels1)\r\n",
        "mat2 = confusion_matrix(test.target, labels2)\r\n",
        "mat3 = confusion_matrix(test.target, labels3)\r\n",
        "mat4 = confusion_matrix(test.target, labels4)\r\n",
        "\r\n",
        "print(mat1)\r\n",
        "print(mat2)\r\n",
        "print(mat3)\r\n",
        "print(mat4)"
      ],
      "execution_count": 197,
      "outputs": [
        {
          "output_type": "stream",
          "text": [
            "[[351  38]\n",
            " [  3 393]]\n",
            "[[360  29]\n",
            " [ 11 385]]\n",
            "[[362  27]\n",
            " [ 36 360]]\n",
            "[[369  20]\n",
            " [ 16 380]]\n"
          ],
          "name": "stdout"
        }
      ]
    },
    {
      "cell_type": "code",
      "metadata": {
        "id": "hqKAaouQXsky"
      },
      "source": [
        "l1=[sklearn.metrics.accuracy_score(test.target,labels1),\r\n",
        "sklearn.metrics.precision_score(test.target,labels1),\r\n",
        "sklearn.metrics.recall_score(test.target,labels1),\r\n",
        "sklearn.metrics.f1_score(labels1, test.target, average='macro'),\r\n",
        "sklearn.metrics.mean_absolute_error(test.target,labels1),\r\n",
        "sklearn.metrics.mean_squared_error(test.target, labels1),  \r\n",
        "np.sqrt(sklearn.metrics.mean_squared_error(test.target, labels1))\r\n",
        "]\r\n",
        "l2=[sklearn.metrics.accuracy_score(test.target,labels2),\r\n",
        "sklearn.metrics.precision_score(test.target,labels2),\r\n",
        "sklearn.metrics.recall_score(test.target,labels2),\r\n",
        "sklearn.metrics.f1_score(labels2, test.target, average='macro'),\r\n",
        "sklearn.metrics.mean_absolute_error(test.target,labels2),\r\n",
        "sklearn.metrics.mean_squared_error(test.target, labels2),  \r\n",
        "np.sqrt(sklearn.metrics.mean_squared_error(test.target, labels2))\r\n",
        "]\r\n",
        "l3=[sklearn.metrics.accuracy_score(test.target,labels3),\r\n",
        "sklearn.metrics.precision_score(test.target,labels3),\r\n",
        "sklearn.metrics.recall_score(test.target,labels3),\r\n",
        "sklearn.metrics.f1_score(labels3, test.target, average='macro'),\r\n",
        "sklearn.metrics.mean_absolute_error(test.target,labels3),\r\n",
        "sklearn.metrics.mean_squared_error(test.target, labels3),  \r\n",
        "np.sqrt(sklearn.metrics.mean_squared_error(test.target, labels3))\r\n",
        "]\r\n",
        "l4=[sklearn.metrics.accuracy_score(test.target,labels4),\r\n",
        "sklearn.metrics.precision_score(test.target,labels4),\r\n",
        "sklearn.metrics.recall_score(test.target,labels4),\r\n",
        "sklearn.metrics.f1_score(labels4, test.target, average='macro'),\r\n",
        "sklearn.metrics.mean_absolute_error(test.target,labels4),\r\n",
        "sklearn.metrics.mean_squared_error(test.target, labels4),  \r\n",
        "np.sqrt(sklearn.metrics.mean_squared_error(test.target, labels4))\r\n",
        "]"
      ],
      "execution_count": 200,
      "outputs": []
    },
    {
      "cell_type": "code",
      "metadata": {
        "colab": {
          "base_uri": "https://localhost:8080/",
          "height": 0
        },
        "id": "FJgO2DZKYiy7",
        "outputId": "0194636c-7ba8-44d1-8993-f356827cd1b0"
      },
      "source": [
        "print(l1)\r\n",
        "print(l2)\r\n",
        "print(l3)\r\n",
        "print(l4)"
      ],
      "execution_count": 201,
      "outputs": [
        {
          "output_type": "stream",
          "text": [
            "[0.9477707006369427, 0.9118329466357309, 0.9924242424242424, 0.9476207603086282, 0.05222929936305733, 0.05222929936305733, 0.22853730409510245]\n",
            "[0.9490445859872612, 0.9299516908212561, 0.9722222222222222, 0.9489928525016245, 0.050955414012738856, 0.050955414012738856, 0.22573305919324013]\n",
            "[0.9197452229299363, 0.9302325581395349, 0.9090909090909091, 0.9197447019819189, 0.08025477707006369, 0.08025477707006369, 0.2832927409413515]\n",
            "[0.954140127388535, 0.95, 0.9595959595959596, 0.9541311207198785, 0.045859872611464965, 0.045859872611464965, 0.2141491830744749]\n"
          ],
          "name": "stdout"
        }
      ]
    },
    {
      "cell_type": "code",
      "metadata": {
        "id": "sOLyLGRoS-VA"
      },
      "source": [
        "import pandas as pd\r\n",
        "\r\n",
        "df=pd.DataFrame({'MultinomialNB()':l1, 'Perceptron()':l2, 'RandomForestClassifier()':l3, 'LogisticRegression()':l4})"
      ],
      "execution_count": 202,
      "outputs": []
    },
    {
      "cell_type": "code",
      "metadata": {
        "colab": {
          "base_uri": "https://localhost:8080/",
          "height": 195
        },
        "id": "sDp6te_cbt53",
        "outputId": "095f40fe-ab69-4964-e388-9c65954011cd"
      },
      "source": [
        "df.head()"
      ],
      "execution_count": 203,
      "outputs": [
        {
          "output_type": "execute_result",
          "data": {
            "text/html": [
              "<div>\n",
              "<style scoped>\n",
              "    .dataframe tbody tr th:only-of-type {\n",
              "        vertical-align: middle;\n",
              "    }\n",
              "\n",
              "    .dataframe tbody tr th {\n",
              "        vertical-align: top;\n",
              "    }\n",
              "\n",
              "    .dataframe thead th {\n",
              "        text-align: right;\n",
              "    }\n",
              "</style>\n",
              "<table border=\"1\" class=\"dataframe\">\n",
              "  <thead>\n",
              "    <tr style=\"text-align: right;\">\n",
              "      <th></th>\n",
              "      <th>MultinomialNB()</th>\n",
              "      <th>Perceptron()</th>\n",
              "      <th>RandomForestClassifier()</th>\n",
              "      <th>LogisticRegression()</th>\n",
              "    </tr>\n",
              "  </thead>\n",
              "  <tbody>\n",
              "    <tr>\n",
              "      <th>0</th>\n",
              "      <td>0.947771</td>\n",
              "      <td>0.949045</td>\n",
              "      <td>0.919745</td>\n",
              "      <td>0.954140</td>\n",
              "    </tr>\n",
              "    <tr>\n",
              "      <th>1</th>\n",
              "      <td>0.911833</td>\n",
              "      <td>0.929952</td>\n",
              "      <td>0.930233</td>\n",
              "      <td>0.950000</td>\n",
              "    </tr>\n",
              "    <tr>\n",
              "      <th>2</th>\n",
              "      <td>0.992424</td>\n",
              "      <td>0.972222</td>\n",
              "      <td>0.909091</td>\n",
              "      <td>0.959596</td>\n",
              "    </tr>\n",
              "    <tr>\n",
              "      <th>3</th>\n",
              "      <td>0.947621</td>\n",
              "      <td>0.948993</td>\n",
              "      <td>0.919745</td>\n",
              "      <td>0.954131</td>\n",
              "    </tr>\n",
              "    <tr>\n",
              "      <th>4</th>\n",
              "      <td>0.052229</td>\n",
              "      <td>0.050955</td>\n",
              "      <td>0.080255</td>\n",
              "      <td>0.045860</td>\n",
              "    </tr>\n",
              "  </tbody>\n",
              "</table>\n",
              "</div>"
            ],
            "text/plain": [
              "   MultinomialNB()  ...  LogisticRegression()\n",
              "0         0.947771  ...              0.954140\n",
              "1         0.911833  ...              0.950000\n",
              "2         0.992424  ...              0.959596\n",
              "3         0.947621  ...              0.954131\n",
              "4         0.052229  ...              0.045860\n",
              "\n",
              "[5 rows x 4 columns]"
            ]
          },
          "metadata": {
            "tags": []
          },
          "execution_count": 203
        }
      ]
    },
    {
      "cell_type": "code",
      "metadata": {
        "id": "K05n6WxYn9Lj"
      },
      "source": [
        "#function to determine best model\r\n",
        "\r\n",
        "def model_eval(df):\r\n",
        "  max=0\r\n",
        "  max1=0\r\n",
        "  for i in range(len(df.columns)):\r\n",
        "    if(df.iloc[0,i]>max and df.iloc[3,i]>max1):\r\n",
        "      max=df.iloc[0,i]\r\n",
        "      max1=df.iloc[0,i]\r\n",
        "      max_col=df.columns[i]\r\n",
        "  return max_col"
      ],
      "execution_count": 204,
      "outputs": []
    },
    {
      "cell_type": "code",
      "metadata": {
        "colab": {
          "base_uri": "https://localhost:8080/",
          "height": 0
        },
        "id": "dCy3o-4IoWqw",
        "outputId": "774bc9e6-0ff8-4d5e-c61d-1640c0052a09"
      },
      "source": [
        "best_model=model_eval(df)\r\n",
        "\r\n",
        "print(best_model)"
      ],
      "execution_count": 205,
      "outputs": [
        {
          "output_type": "stream",
          "text": [
            "LogisticRegression()\n"
          ],
          "name": "stdout"
        }
      ]
    }
  ]
}