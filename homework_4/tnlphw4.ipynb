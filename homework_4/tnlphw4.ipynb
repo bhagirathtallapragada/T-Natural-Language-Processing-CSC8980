{
  "nbformat": 4,
  "nbformat_minor": 0,
  "metadata": {
    "colab": {
      "name": "tnlphw4.ipynb",
      "provenance": [],
      "collapsed_sections": [],
      "toc_visible": true,
      "authorship_tag": "ABX9TyPX8l6spti88uUoxnXs547v",
      "include_colab_link": true
    },
    "kernelspec": {
      "name": "python3",
      "display_name": "Python 3"
    },
    "language_info": {
      "name": "python"
    }
  },
  "cells": [
    {
      "cell_type": "markdown",
      "metadata": {
        "id": "view-in-github",
        "colab_type": "text"
      },
      "source": [
        "<a href=\"https://colab.research.google.com/github/bhagirathtallapragada/T-Natural-Language-Processing-CSC8980/blob/main/homework_4/tnlphw4.ipynb\" target=\"_parent\"><img src=\"https://colab.research.google.com/assets/colab-badge.svg\" alt=\"Open In Colab\"/></a>"
      ]
    },
    {
      "cell_type": "markdown",
      "metadata": {
        "id": "dmhWgPEtss0Y"
      },
      "source": [
        "Bhagirath Tallapragada, panther id: 002575358"
      ]
    },
    {
      "cell_type": "code",
      "metadata": {
        "id": "UJEf5Yvss9R7",
        "colab": {
          "base_uri": "https://localhost:8080/"
        },
        "outputId": "97b98cf5-2e19-4333-fe41-bc90df19d56d"
      },
      "source": [
        "#Loading and unzipping the dataset\n",
        "\n",
        "!unzip /content/sample_data/trainingandtestdata.zip -d /content/sample_data/"
      ],
      "execution_count": 1,
      "outputs": [
        {
          "output_type": "stream",
          "text": [
            "Archive:  /content/sample_data/trainingandtestdata.zip\n",
            "  inflating: /content/sample_data/trainingandtestdata/testdata.manual.2009.06.14.csv  \n",
            "  inflating: /content/sample_data/trainingandtestdata/training.1600000.processed.noemoticon.csv  \n"
          ],
          "name": "stdout"
        }
      ]
    },
    {
      "cell_type": "code",
      "metadata": {
        "id": "347y_qHeuq1v"
      },
      "source": [
        "import os\n",
        "import time\n",
        "import pandas as pd\n",
        "import numpy as np\n",
        "\n",
        "import sklearn\n",
        "from sklearn.feature_extraction.text import TfidfVectorizer\n",
        "from sklearn.naive_bayes import MultinomialNB\n",
        "from sklearn.ensemble import BaggingClassifier, RandomForestClassifier\n",
        "from sklearn.multiclass import OneVsRestClassifier\n",
        "from sklearn.svm import SVC\n",
        "from sklearn.pipeline import make_pipeline\n",
        "from sklearn.model_selection import train_test_split"
      ],
      "execution_count": 2,
      "outputs": []
    },
    {
      "cell_type": "markdown",
      "metadata": {
        "id": "SF8j6R41s3LE"
      },
      "source": [
        "1. Take the positive and the negative tweets only. Use Sklearn to split the dataset in 80%\n",
        "training, 20% testing splits. Provide a nicely formatted summary of these splits,\n",
        "containing their size) (15 points)"
      ]
    },
    {
      "cell_type": "code",
      "metadata": {
        "id": "orla_ITlsqbl"
      },
      "source": [
        "training_set=pd.read_csv('/content/sample_data/trainingandtestdata/training.1600000.processed.noemoticon.csv', encoding='ISO-8859-1')"
      ],
      "execution_count": 3,
      "outputs": []
    },
    {
      "cell_type": "code",
      "metadata": {
        "colab": {
          "base_uri": "https://localhost:8080/",
          "height": 402
        },
        "id": "xd_Ec10ZY7IQ",
        "outputId": "58d8a4e4-9620-4706-ea22-354370fc1680"
      },
      "source": [
        "training_set[\"polarity\"].replace({4: 1}, inplace=True)\n",
        "training_set=training_set.drop(['date','query','user'], axis=1)\n",
        "training_set"
      ],
      "execution_count": 4,
      "outputs": [
        {
          "output_type": "execute_result",
          "data": {
            "text/html": [
              "<div>\n",
              "<style scoped>\n",
              "    .dataframe tbody tr th:only-of-type {\n",
              "        vertical-align: middle;\n",
              "    }\n",
              "\n",
              "    .dataframe tbody tr th {\n",
              "        vertical-align: top;\n",
              "    }\n",
              "\n",
              "    .dataframe thead th {\n",
              "        text-align: right;\n",
              "    }\n",
              "</style>\n",
              "<table border=\"1\" class=\"dataframe\">\n",
              "  <thead>\n",
              "    <tr style=\"text-align: right;\">\n",
              "      <th></th>\n",
              "      <th>polarity</th>\n",
              "      <th>id</th>\n",
              "      <th>text</th>\n",
              "    </tr>\n",
              "  </thead>\n",
              "  <tbody>\n",
              "    <tr>\n",
              "      <th>0</th>\n",
              "      <td>0</td>\n",
              "      <td>1467810369</td>\n",
              "      <td>@switchfoot http://twitpic.com/2y1zl - Awww, t...</td>\n",
              "    </tr>\n",
              "    <tr>\n",
              "      <th>1</th>\n",
              "      <td>0</td>\n",
              "      <td>1467810672</td>\n",
              "      <td>is upset that he can't update his Facebook by ...</td>\n",
              "    </tr>\n",
              "    <tr>\n",
              "      <th>2</th>\n",
              "      <td>0</td>\n",
              "      <td>1467810917</td>\n",
              "      <td>@Kenichan I dived many times for the ball. Man...</td>\n",
              "    </tr>\n",
              "    <tr>\n",
              "      <th>3</th>\n",
              "      <td>0</td>\n",
              "      <td>1467811184</td>\n",
              "      <td>my whole body feels itchy and like its on fire</td>\n",
              "    </tr>\n",
              "    <tr>\n",
              "      <th>4</th>\n",
              "      <td>0</td>\n",
              "      <td>1467811193</td>\n",
              "      <td>@nationwideclass no, it's not behaving at all....</td>\n",
              "    </tr>\n",
              "    <tr>\n",
              "      <th>...</th>\n",
              "      <td>...</td>\n",
              "      <td>...</td>\n",
              "      <td>...</td>\n",
              "    </tr>\n",
              "    <tr>\n",
              "      <th>1599995</th>\n",
              "      <td>1</td>\n",
              "      <td>2193601966</td>\n",
              "      <td>Just woke up. Having no school is the best fee...</td>\n",
              "    </tr>\n",
              "    <tr>\n",
              "      <th>1599996</th>\n",
              "      <td>1</td>\n",
              "      <td>2193601969</td>\n",
              "      <td>TheWDB.com - Very cool to hear old Walt interv...</td>\n",
              "    </tr>\n",
              "    <tr>\n",
              "      <th>1599997</th>\n",
              "      <td>1</td>\n",
              "      <td>2193601991</td>\n",
              "      <td>Are you ready for your MoJo Makeover? Ask me f...</td>\n",
              "    </tr>\n",
              "    <tr>\n",
              "      <th>1599998</th>\n",
              "      <td>1</td>\n",
              "      <td>2193602064</td>\n",
              "      <td>Happy 38th Birthday to my boo of alll time!!! ...</td>\n",
              "    </tr>\n",
              "    <tr>\n",
              "      <th>1599999</th>\n",
              "      <td>1</td>\n",
              "      <td>2193602129</td>\n",
              "      <td>happy #charitytuesday @theNSPCC @SparksCharity...</td>\n",
              "    </tr>\n",
              "  </tbody>\n",
              "</table>\n",
              "<p>1600000 rows × 3 columns</p>\n",
              "</div>"
            ],
            "text/plain": [
              "         polarity  ...                                               text\n",
              "0               0  ...  @switchfoot http://twitpic.com/2y1zl - Awww, t...\n",
              "1               0  ...  is upset that he can't update his Facebook by ...\n",
              "2               0  ...  @Kenichan I dived many times for the ball. Man...\n",
              "3               0  ...    my whole body feels itchy and like its on fire \n",
              "4               0  ...  @nationwideclass no, it's not behaving at all....\n",
              "...           ...  ...                                                ...\n",
              "1599995         1  ...  Just woke up. Having no school is the best fee...\n",
              "1599996         1  ...  TheWDB.com - Very cool to hear old Walt interv...\n",
              "1599997         1  ...  Are you ready for your MoJo Makeover? Ask me f...\n",
              "1599998         1  ...  Happy 38th Birthday to my boo of alll time!!! ...\n",
              "1599999         1  ...  happy #charitytuesday @theNSPCC @SparksCharity...\n",
              "\n",
              "[1600000 rows x 3 columns]"
            ]
          },
          "metadata": {
            "tags": []
          },
          "execution_count": 4
        }
      ]
    },
    {
      "cell_type": "code",
      "metadata": {
        "colab": {
          "base_uri": "https://localhost:8080/"
        },
        "id": "zbokrJ8R2X--",
        "outputId": "bad902d5-d7cb-4c02-b3ec-3e40cda3e6c1"
      },
      "source": [
        "#splitting 80% training and 20% test\n",
        "train_a, test_a = train_test_split(training_set, test_size=0.20, random_state=2361)\n",
        "print('*** Training data summary (80%) ***')\n",
        "print(train_a.info())\n",
        "print('\\n')\n",
        "print('*** Testing data summary (20%) ***')\n",
        "print(test_a.info())"
      ],
      "execution_count": 5,
      "outputs": [
        {
          "output_type": "stream",
          "text": [
            "*** Training data summary (80%) ***\n",
            "<class 'pandas.core.frame.DataFrame'>\n",
            "Int64Index: 1280000 entries, 1474686 to 1561195\n",
            "Data columns (total 3 columns):\n",
            " #   Column    Non-Null Count    Dtype \n",
            "---  ------    --------------    ----- \n",
            " 0   polarity  1280000 non-null  int64 \n",
            " 1   id        1280000 non-null  int64 \n",
            " 2   text      1280000 non-null  object\n",
            "dtypes: int64(2), object(1)\n",
            "memory usage: 39.1+ MB\n",
            "None\n",
            "\n",
            "\n",
            "*** Testing data summary (20%) ***\n",
            "<class 'pandas.core.frame.DataFrame'>\n",
            "Int64Index: 320000 entries, 402563 to 1311901\n",
            "Data columns (total 3 columns):\n",
            " #   Column    Non-Null Count   Dtype \n",
            "---  ------    --------------   ----- \n",
            " 0   polarity  320000 non-null  int64 \n",
            " 1   id        320000 non-null  int64 \n",
            " 2   text      320000 non-null  object\n",
            "dtypes: int64(2), object(1)\n",
            "memory usage: 9.8+ MB\n",
            "None\n"
          ],
          "name": "stdout"
        }
      ]
    },
    {
      "cell_type": "markdown",
      "metadata": {
        "id": "DS93v_iH4Eib"
      },
      "source": [
        "2. Use the code from the previous classes to build the following models (15 points):\n",
        "a) SVM using TF-IDF.\n",
        "b) Naive Bayes using TF-IDF.\n",
        "c) Random Forest using TF-IDF."
      ]
    },
    {
      "cell_type": "code",
      "metadata": {
        "colab": {
          "base_uri": "https://localhost:8080/",
          "height": 212
        },
        "id": "jMJIB19g4EFs",
        "outputId": "99b4efbd-163a-4161-e08c-00e9aa6be21a"
      },
      "source": [
        "print(train_a.shape)\n",
        "train_a.head()"
      ],
      "execution_count": 6,
      "outputs": [
        {
          "output_type": "stream",
          "text": [
            "(1280000, 3)\n"
          ],
          "name": "stdout"
        },
        {
          "output_type": "execute_result",
          "data": {
            "text/html": [
              "<div>\n",
              "<style scoped>\n",
              "    .dataframe tbody tr th:only-of-type {\n",
              "        vertical-align: middle;\n",
              "    }\n",
              "\n",
              "    .dataframe tbody tr th {\n",
              "        vertical-align: top;\n",
              "    }\n",
              "\n",
              "    .dataframe thead th {\n",
              "        text-align: right;\n",
              "    }\n",
              "</style>\n",
              "<table border=\"1\" class=\"dataframe\">\n",
              "  <thead>\n",
              "    <tr style=\"text-align: right;\">\n",
              "      <th></th>\n",
              "      <th>polarity</th>\n",
              "      <th>id</th>\n",
              "      <th>text</th>\n",
              "    </tr>\n",
              "  </thead>\n",
              "  <tbody>\n",
              "    <tr>\n",
              "      <th>1474686</th>\n",
              "      <td>1</td>\n",
              "      <td>2065768709</td>\n",
              "      <td>@scarlettstvitus It helps me to put a bag of i...</td>\n",
              "    </tr>\n",
              "    <tr>\n",
              "      <th>867725</th>\n",
              "      <td>1</td>\n",
              "      <td>1677825607</td>\n",
              "      <td>@tommcfly it's actually law of humans' life......</td>\n",
              "    </tr>\n",
              "    <tr>\n",
              "      <th>191053</th>\n",
              "      <td>0</td>\n",
              "      <td>1969494477</td>\n",
              "      <td>@ryanseacrest Son of a crap!  I thought Adam L...</td>\n",
              "    </tr>\n",
              "    <tr>\n",
              "      <th>266955</th>\n",
              "      <td>0</td>\n",
              "      <td>1989094495</td>\n",
              "      <td>Alright folks I think I'm going to go try and ...</td>\n",
              "    </tr>\n",
              "    <tr>\n",
              "      <th>1472945</th>\n",
              "      <td>1</td>\n",
              "      <td>2065462631</td>\n",
              "      <td>loves that there's so much Federer love going ...</td>\n",
              "    </tr>\n",
              "  </tbody>\n",
              "</table>\n",
              "</div>"
            ],
            "text/plain": [
              "         polarity  ...                                               text\n",
              "1474686         1  ...  @scarlettstvitus It helps me to put a bag of i...\n",
              "867725          1  ...  @tommcfly it's actually law of humans' life......\n",
              "191053          0  ...  @ryanseacrest Son of a crap!  I thought Adam L...\n",
              "266955          0  ...  Alright folks I think I'm going to go try and ...\n",
              "1472945         1  ...  loves that there's so much Federer love going ...\n",
              "\n",
              "[5 rows x 3 columns]"
            ]
          },
          "metadata": {
            "tags": []
          },
          "execution_count": 6
        }
      ]
    },
    {
      "cell_type": "markdown",
      "metadata": {
        "id": "QjnDA8ix5tBG"
      },
      "source": [
        "a) SVM using TF-IDF."
      ]
    },
    {
      "cell_type": "code",
      "metadata": {
        "colab": {
          "base_uri": "https://localhost:8080/",
          "height": 402
        },
        "id": "cHrZemcpzHR8",
        "outputId": "54eb8a53-449f-40b0-d86e-d7507403df85"
      },
      "source": [
        "# testing on a subset:\n",
        "\n",
        "train_sub=train_a.sample(n=10000).reset_index()\n",
        "train_sub"
      ],
      "execution_count": 17,
      "outputs": [
        {
          "output_type": "execute_result",
          "data": {
            "text/html": [
              "<div>\n",
              "<style scoped>\n",
              "    .dataframe tbody tr th:only-of-type {\n",
              "        vertical-align: middle;\n",
              "    }\n",
              "\n",
              "    .dataframe tbody tr th {\n",
              "        vertical-align: top;\n",
              "    }\n",
              "\n",
              "    .dataframe thead th {\n",
              "        text-align: right;\n",
              "    }\n",
              "</style>\n",
              "<table border=\"1\" class=\"dataframe\">\n",
              "  <thead>\n",
              "    <tr style=\"text-align: right;\">\n",
              "      <th></th>\n",
              "      <th>index</th>\n",
              "      <th>polarity</th>\n",
              "      <th>id</th>\n",
              "      <th>text</th>\n",
              "    </tr>\n",
              "  </thead>\n",
              "  <tbody>\n",
              "    <tr>\n",
              "      <th>0</th>\n",
              "      <td>1055097</td>\n",
              "      <td>1</td>\n",
              "      <td>1962157605</td>\n",
              "      <td>Finds people's maturity levels fascinating.  I...</td>\n",
              "    </tr>\n",
              "    <tr>\n",
              "      <th>1</th>\n",
              "      <td>1574791</td>\n",
              "      <td>1</td>\n",
              "      <td>2189294661</td>\n",
              "      <td>@xXFriendXx Mulan 2?! There's a 2? I must see ...</td>\n",
              "    </tr>\n",
              "    <tr>\n",
              "      <th>2</th>\n",
              "      <td>659514</td>\n",
              "      <td>0</td>\n",
              "      <td>2242177998</td>\n",
              "      <td>@shamir No. Unfortunately I don't think it'll ...</td>\n",
              "    </tr>\n",
              "    <tr>\n",
              "      <th>3</th>\n",
              "      <td>173741</td>\n",
              "      <td>0</td>\n",
              "      <td>1964156054</td>\n",
              "      <td>I am sucking with the abbreviation today. Sorr...</td>\n",
              "    </tr>\n",
              "    <tr>\n",
              "      <th>4</th>\n",
              "      <td>555916</td>\n",
              "      <td>0</td>\n",
              "      <td>2204166915</td>\n",
              "      <td>@TheFelixMolina this means I'll have to wait f...</td>\n",
              "    </tr>\n",
              "    <tr>\n",
              "      <th>...</th>\n",
              "      <td>...</td>\n",
              "      <td>...</td>\n",
              "      <td>...</td>\n",
              "      <td>...</td>\n",
              "    </tr>\n",
              "    <tr>\n",
              "      <th>9995</th>\n",
              "      <td>615166</td>\n",
              "      <td>0</td>\n",
              "      <td>2226168759</td>\n",
              "      <td>At the doc office</td>\n",
              "    </tr>\n",
              "    <tr>\n",
              "      <th>9996</th>\n",
              "      <td>1447113</td>\n",
              "      <td>1</td>\n",
              "      <td>2062582866</td>\n",
              "      <td>Blehh the last two nights have been the funnes...</td>\n",
              "    </tr>\n",
              "    <tr>\n",
              "      <th>9997</th>\n",
              "      <td>147788</td>\n",
              "      <td>0</td>\n",
              "      <td>1882924592</td>\n",
              "      <td>@livethelushlife Iï¿½m afraid I wonï¿½t be abl...</td>\n",
              "    </tr>\n",
              "    <tr>\n",
              "      <th>9998</th>\n",
              "      <td>521251</td>\n",
              "      <td>0</td>\n",
              "      <td>2192358662</td>\n",
              "      <td>Well 1st free movie of the year. Hmm going to ...</td>\n",
              "    </tr>\n",
              "    <tr>\n",
              "      <th>9999</th>\n",
              "      <td>1235965</td>\n",
              "      <td>1</td>\n",
              "      <td>1992709635</td>\n",
              "      <td>Just ran down the Stratford road like a pengui...</td>\n",
              "    </tr>\n",
              "  </tbody>\n",
              "</table>\n",
              "<p>10000 rows × 4 columns</p>\n",
              "</div>"
            ],
            "text/plain": [
              "        index  ...                                               text\n",
              "0     1055097  ...  Finds people's maturity levels fascinating.  I...\n",
              "1     1574791  ...  @xXFriendXx Mulan 2?! There's a 2? I must see ...\n",
              "2      659514  ...  @shamir No. Unfortunately I don't think it'll ...\n",
              "3      173741  ...  I am sucking with the abbreviation today. Sorr...\n",
              "4      555916  ...  @TheFelixMolina this means I'll have to wait f...\n",
              "...       ...  ...                                                ...\n",
              "9995   615166  ...                                 At the doc office \n",
              "9996  1447113  ...  Blehh the last two nights have been the funnes...\n",
              "9997   147788  ...  @livethelushlife Iï¿½m afraid I wonï¿½t be abl...\n",
              "9998   521251  ...  Well 1st free movie of the year. Hmm going to ...\n",
              "9999  1235965  ...  Just ran down the Stratford road like a pengui...\n",
              "\n",
              "[10000 rows x 4 columns]"
            ]
          },
          "metadata": {
            "tags": []
          },
          "execution_count": 17
        }
      ]
    },
    {
      "cell_type": "code",
      "metadata": {
        "id": "6_BgVQJh6Y6R"
      },
      "source": [
        "vectorizer = TfidfVectorizer()\n",
        "v=vectorizer.fit_transform(train_sub['text'])"
      ],
      "execution_count": 23,
      "outputs": []
    },
    {
      "cell_type": "code",
      "metadata": {
        "colab": {
          "base_uri": "https://localhost:8080/"
        },
        "id": "t6aWx4ygKtdN",
        "outputId": "9c2b217e-3a59-40dc-9101-1838254457c2"
      },
      "source": [
        "v.shape\n",
        "# print(vectorizer.get_feature_names())"
      ],
      "execution_count": 24,
      "outputs": [
        {
          "output_type": "execute_result",
          "data": {
            "text/plain": [
              "(10000, 18691)"
            ]
          },
          "metadata": {
            "tags": []
          },
          "execution_count": 24
        }
      ]
    },
    {
      "cell_type": "code",
      "metadata": {
        "id": "me0X5sQXK-n2"
      },
      "source": [
        "# from sklearn.preprocessing import StandardScaler\n",
        "# scaling = StandardScaler(with_mean=False).fit(v)\n",
        "# # v = scaling.transform(v)"
      ],
      "execution_count": 20,
      "outputs": []
    },
    {
      "cell_type": "code",
      "metadata": {
        "id": "GtrEJ7z67q3j"
      },
      "source": [
        "# n_estimators = 10\n",
        "# start = time.time()\n",
        "# classifier_a = OneVsRestClassifier(BaggingClassifier(SVC(probability=True, class_weight=None), max_samples=1.0 / n_estimators, n_estimators=n_estimators))\n",
        "# classifier_a.fit(v,train_sub['polarity'])\n",
        "# end = time.time()\n",
        "# print(\"Bagging SVC\", end - start, classifier_a.score(v,train_sub['polarity']))"
      ],
      "execution_count": 22,
      "outputs": []
    },
    {
      "cell_type": "code",
      "metadata": {
        "id": "ELqSLXWCNPMt",
        "colab": {
          "base_uri": "https://localhost:8080/"
        },
        "outputId": "46076db0-a566-4ae3-807a-8d90a8af2ae1"
      },
      "source": [
        "# from sklearn.preprocessing import StandardScaler\n",
        "n_estimators = 10\n",
        "model_a = make_pipeline(TfidfVectorizer(), StandardScaler(with_mean=False), OneVsRestClassifier(BaggingClassifier(SVC(probability=True, class_weight=None), max_samples=1.0 / n_estimators, n_estimators=n_estimators)))\n",
        "model_a.fit(train_sub['text'],train_sub['polarity'])"
      ],
      "execution_count": 25,
      "outputs": [
        {
          "output_type": "execute_result",
          "data": {
            "text/plain": [
              "Pipeline(memory=None,\n",
              "         steps=[('tfidfvectorizer',\n",
              "                 TfidfVectorizer(analyzer='word', binary=False,\n",
              "                                 decode_error='strict',\n",
              "                                 dtype=<class 'numpy.float64'>,\n",
              "                                 encoding='utf-8', input='content',\n",
              "                                 lowercase=True, max_df=1.0, max_features=None,\n",
              "                                 min_df=1, ngram_range=(1, 1), norm='l2',\n",
              "                                 preprocessor=None, smooth_idf=True,\n",
              "                                 stop_words=None, strip_accents=None,\n",
              "                                 sublinear_tf=False,\n",
              "                                 token...\n",
              "                                                                                    coef0=0.0,\n",
              "                                                                                    decision_function_shape='ovr',\n",
              "                                                                                    degree=3,\n",
              "                                                                                    gamma='scale',\n",
              "                                                                                    kernel='rbf',\n",
              "                                                                                    max_iter=-1,\n",
              "                                                                                    probability=True,\n",
              "                                                                                    random_state=None,\n",
              "                                                                                    shrinking=True,\n",
              "                                                                                    tol=0.001,\n",
              "                                                                                    verbose=False),\n",
              "                                                                 bootstrap=True,\n",
              "                                                                 bootstrap_features=False,\n",
              "                                                                 max_features=1.0,\n",
              "                                                                 max_samples=0.1,\n",
              "                                                                 n_estimators=10,\n",
              "                                                                 n_jobs=None,\n",
              "                                                                 oob_score=False,\n",
              "                                                                 random_state=None,\n",
              "                                                                 verbose=0,\n",
              "                                                                 warm_start=False),\n",
              "                                     n_jobs=None))],\n",
              "         verbose=False)"
            ]
          },
          "metadata": {
            "tags": []
          },
          "execution_count": 25
        }
      ]
    },
    {
      "cell_type": "code",
      "metadata": {
        "id": "mB4qkaT9Ol1O"
      },
      "source": [
        "svm_labels = model_a.predict(test_a['text'])"
      ],
      "execution_count": 28,
      "outputs": []
    },
    {
      "cell_type": "code",
      "metadata": {
        "id": "FkrSgXcC55pY",
        "colab": {
          "base_uri": "https://localhost:8080/"
        },
        "outputId": "8017afa0-1c08-4d57-e69e-08a0daedd66e"
      },
      "source": [
        "print('*** Evaluation of Model a ***')\n",
        "print('Precision:', sklearn.metrics.precision_score(test_a['polarity'],svm_labels))\n",
        "print('Recall:', sklearn.metrics.recall_score(test_a['polarity'],svm_labels))\n",
        "print('F1 Score:', sklearn.metrics.f1_score(svm_labels, test_a['polarity'], average='macro'))\n",
        "print('***')"
      ],
      "execution_count": 31,
      "outputs": [
        {
          "output_type": "stream",
          "text": [
            "*** Evaluation of Model a ***\n",
            "Precision: 0.550242945790891\n",
            "Recall: 0.23497831277109035\n",
            "F1 Score: 0.47866716228879025\n",
            "***\n"
          ],
          "name": "stdout"
        }
      ]
    },
    {
      "cell_type": "code",
      "metadata": {
        "colab": {
          "base_uri": "https://localhost:8080/"
        },
        "id": "F0rnr7JPczfU",
        "outputId": "e564e339-c8d3-4513-db80-9d75b19b05bd"
      },
      "source": [
        "svm_prec=sklearn.metrics.precision_score(test_a['polarity'],svm_labels)\n",
        "svm_rec=sklearn.metrics.recall_score(test_a['polarity'],svm_labels)\n",
        "svm_f1=sklearn.metrics.f1_score(svm_labels, test_a['polarity'], average='macro')\n",
        "svm_met=[svm_prec, svm_rec, svm_f1]\n",
        "svm_met"
      ],
      "execution_count": 32,
      "outputs": [
        {
          "output_type": "execute_result",
          "data": {
            "text/plain": [
              "[0.550242945790891, 0.23497831277109035, 0.47866716228879025]"
            ]
          },
          "metadata": {
            "tags": []
          },
          "execution_count": 32
        }
      ]
    },
    {
      "cell_type": "markdown",
      "metadata": {
        "id": "4-Y1ijPI557x"
      },
      "source": [
        "b) Naive Bayes using TF-IDF. "
      ]
    },
    {
      "cell_type": "code",
      "metadata": {
        "colab": {
          "base_uri": "https://localhost:8080/",
          "height": 212
        },
        "id": "rB76-lysjFrk",
        "outputId": "5c1be110-bf41-4d59-9507-56458f670773"
      },
      "source": [
        "print(train_a.shape)\n",
        "train_a.head()"
      ],
      "execution_count": 7,
      "outputs": [
        {
          "output_type": "stream",
          "text": [
            "(1280000, 3)\n"
          ],
          "name": "stdout"
        },
        {
          "output_type": "execute_result",
          "data": {
            "text/html": [
              "<div>\n",
              "<style scoped>\n",
              "    .dataframe tbody tr th:only-of-type {\n",
              "        vertical-align: middle;\n",
              "    }\n",
              "\n",
              "    .dataframe tbody tr th {\n",
              "        vertical-align: top;\n",
              "    }\n",
              "\n",
              "    .dataframe thead th {\n",
              "        text-align: right;\n",
              "    }\n",
              "</style>\n",
              "<table border=\"1\" class=\"dataframe\">\n",
              "  <thead>\n",
              "    <tr style=\"text-align: right;\">\n",
              "      <th></th>\n",
              "      <th>polarity</th>\n",
              "      <th>id</th>\n",
              "      <th>text</th>\n",
              "    </tr>\n",
              "  </thead>\n",
              "  <tbody>\n",
              "    <tr>\n",
              "      <th>1474686</th>\n",
              "      <td>1</td>\n",
              "      <td>2065768709</td>\n",
              "      <td>@scarlettstvitus It helps me to put a bag of i...</td>\n",
              "    </tr>\n",
              "    <tr>\n",
              "      <th>867725</th>\n",
              "      <td>1</td>\n",
              "      <td>1677825607</td>\n",
              "      <td>@tommcfly it's actually law of humans' life......</td>\n",
              "    </tr>\n",
              "    <tr>\n",
              "      <th>191053</th>\n",
              "      <td>0</td>\n",
              "      <td>1969494477</td>\n",
              "      <td>@ryanseacrest Son of a crap!  I thought Adam L...</td>\n",
              "    </tr>\n",
              "    <tr>\n",
              "      <th>266955</th>\n",
              "      <td>0</td>\n",
              "      <td>1989094495</td>\n",
              "      <td>Alright folks I think I'm going to go try and ...</td>\n",
              "    </tr>\n",
              "    <tr>\n",
              "      <th>1472945</th>\n",
              "      <td>1</td>\n",
              "      <td>2065462631</td>\n",
              "      <td>loves that there's so much Federer love going ...</td>\n",
              "    </tr>\n",
              "  </tbody>\n",
              "</table>\n",
              "</div>"
            ],
            "text/plain": [
              "         polarity  ...                                               text\n",
              "1474686         1  ...  @scarlettstvitus It helps me to put a bag of i...\n",
              "867725          1  ...  @tommcfly it's actually law of humans' life......\n",
              "191053          0  ...  @ryanseacrest Son of a crap!  I thought Adam L...\n",
              "266955          0  ...  Alright folks I think I'm going to go try and ...\n",
              "1472945         1  ...  loves that there's so much Federer love going ...\n",
              "\n",
              "[5 rows x 3 columns]"
            ]
          },
          "metadata": {
            "tags": []
          },
          "execution_count": 7
        }
      ]
    },
    {
      "cell_type": "code",
      "metadata": {
        "colab": {
          "base_uri": "https://localhost:8080/"
        },
        "id": "iBp_Jsh1gQzz",
        "outputId": "f124da53-ddda-46c4-f417-62b0da160d4b"
      },
      "source": [
        "vectorizer=TfidfVectorizer()\n",
        "X=vectorizer.fit_transform(train_a['text'])\n",
        "y=train_a['polarity'].values\n",
        "print(type(y))"
      ],
      "execution_count": 8,
      "outputs": [
        {
          "output_type": "stream",
          "text": [
            "<class 'numpy.ndarray'>\n"
          ],
          "name": "stdout"
        }
      ]
    },
    {
      "cell_type": "code",
      "metadata": {
        "colab": {
          "base_uri": "https://localhost:8080/"
        },
        "id": "xPI_OaeCxXh-",
        "outputId": "c610bcc3-5dc9-49b4-a18b-67a7ffbbe07e"
      },
      "source": [
        "print(X.shape)"
      ],
      "execution_count": 9,
      "outputs": [
        {
          "output_type": "stream",
          "text": [
            "(1280000, 589763)\n"
          ],
          "name": "stdout"
        }
      ]
    },
    {
      "cell_type": "code",
      "metadata": {
        "colab": {
          "base_uri": "https://localhost:8080/"
        },
        "id": "2ojRck-tsS9_",
        "outputId": "e19f1a7b-992a-4dd7-cef2-dac7895a1f84"
      },
      "source": [
        "model_c=MultinomialNB()\n",
        "model_c.fit(X,y)"
      ],
      "execution_count": 10,
      "outputs": [
        {
          "output_type": "execute_result",
          "data": {
            "text/plain": [
              "MultinomialNB(alpha=1.0, class_prior=None, fit_prior=True)"
            ]
          },
          "metadata": {
            "tags": []
          },
          "execution_count": 10
        }
      ]
    },
    {
      "cell_type": "code",
      "metadata": {
        "id": "haHovwzwvlzx"
      },
      "source": [
        "yt=vectorizer.transform(test_a['text'])\n",
        "nb_labels=model_c.predict(yt)"
      ],
      "execution_count": 11,
      "outputs": []
    },
    {
      "cell_type": "code",
      "metadata": {
        "colab": {
          "base_uri": "https://localhost:8080/"
        },
        "id": "B3Yo9XUCwRGk",
        "outputId": "83472535-acf0-4a3a-abc9-af2b208b4890"
      },
      "source": [
        "print('*** Evaluation of Model c ***')\n",
        "print('Precision:', sklearn.metrics.precision_score(test_a['polarity'],nb_labels))\n",
        "print('Recall:', sklearn.metrics.recall_score(test_a['polarity'],nb_labels))\n",
        "print('F1 Score:', sklearn.metrics.f1_score(nb_labels, test_a['polarity'], average='macro'))\n",
        "print('***')"
      ],
      "execution_count": 12,
      "outputs": [
        {
          "output_type": "stream",
          "text": [
            "*** Evaluation of Model c ***\n",
            "Precision: 0.8003435127614991\n",
            "Recall: 0.7280783990200123\n",
            "F1 Score: 0.7727589595936349\n",
            "***\n"
          ],
          "name": "stdout"
        }
      ]
    },
    {
      "cell_type": "code",
      "metadata": {
        "colab": {
          "base_uri": "https://localhost:8080/"
        },
        "id": "YBCAWSeTYfAT",
        "outputId": "74d41049-ebf5-47d7-c0c1-7e139c9ee5f8"
      },
      "source": [
        "nb_prec=sklearn.metrics.precision_score(test_a['polarity'],nb_labels)\n",
        "nb_rec=sklearn.metrics.recall_score(test_a['polarity'],nb_labels)\n",
        "nb_f1=sklearn.metrics.f1_score(nb_labels, test_a['polarity'], average='macro')\n",
        "nb_met=[nb_prec, nb_rec, nb_f1]\n",
        "nb_met"
      ],
      "execution_count": 14,
      "outputs": [
        {
          "output_type": "execute_result",
          "data": {
            "text/plain": [
              "[0.8003435127614991, 0.7280783990200123, 0.7727589595936349]"
            ]
          },
          "metadata": {
            "tags": []
          },
          "execution_count": 14
        }
      ]
    },
    {
      "cell_type": "markdown",
      "metadata": {
        "id": "nBU7CGLr57kK"
      },
      "source": [
        "c) Random Forest using TF-IDF. "
      ]
    },
    {
      "cell_type": "code",
      "metadata": {
        "colab": {
          "base_uri": "https://localhost:8080/"
        },
        "id": "IM7715H_648d",
        "outputId": "a98b5d5b-6de5-49b3-d8ad-4aa694f1eefd"
      },
      "source": [
        "model_b = make_pipeline(TfidfVectorizer(), StandardScaler(with_mean=False), RandomForestClassifier())\n",
        "model_b.fit(train_sub['text'],train_sub['polarity'])"
      ],
      "execution_count": 33,
      "outputs": [
        {
          "output_type": "execute_result",
          "data": {
            "text/plain": [
              "Pipeline(memory=None,\n",
              "         steps=[('tfidfvectorizer',\n",
              "                 TfidfVectorizer(analyzer='word', binary=False,\n",
              "                                 decode_error='strict',\n",
              "                                 dtype=<class 'numpy.float64'>,\n",
              "                                 encoding='utf-8', input='content',\n",
              "                                 lowercase=True, max_df=1.0, max_features=None,\n",
              "                                 min_df=1, ngram_range=(1, 1), norm='l2',\n",
              "                                 preprocessor=None, smooth_idf=True,\n",
              "                                 stop_words=None, strip_accents=None,\n",
              "                                 sublinear_tf=False,\n",
              "                                 token...\n",
              "                 RandomForestClassifier(bootstrap=True, ccp_alpha=0.0,\n",
              "                                        class_weight=None, criterion='gini',\n",
              "                                        max_depth=None, max_features='auto',\n",
              "                                        max_leaf_nodes=None, max_samples=None,\n",
              "                                        min_impurity_decrease=0.0,\n",
              "                                        min_impurity_split=None,\n",
              "                                        min_samples_leaf=1, min_samples_split=2,\n",
              "                                        min_weight_fraction_leaf=0.0,\n",
              "                                        n_estimators=100, n_jobs=None,\n",
              "                                        oob_score=False, random_state=None,\n",
              "                                        verbose=0, warm_start=False))],\n",
              "         verbose=False)"
            ]
          },
          "metadata": {
            "tags": []
          },
          "execution_count": 33
        }
      ]
    },
    {
      "cell_type": "code",
      "metadata": {
        "id": "7gd94cTl66_3"
      },
      "source": [
        "rf_labels = model_b.predict(test_a['text'])"
      ],
      "execution_count": 34,
      "outputs": []
    },
    {
      "cell_type": "code",
      "metadata": {
        "id": "ncDtdLEt7fzK"
      },
      "source": [
        "print('*** Evaluation of Model c ***')\n",
        "print('Precision:', sklearn.metrics.precision_score(test_sub['polarity'],labels_c))\n",
        "print('Recall:', sklearn.metrics.recall_score(test_sub['polarity'],labels_c))\n",
        "print('F1 Score:', sklearn.metrics.f1_score(labels_c, test_sub['polarity'], average='macro'))\n",
        "print('***')"
      ],
      "execution_count": null,
      "outputs": []
    },
    {
      "cell_type": "code",
      "metadata": {
        "colab": {
          "base_uri": "https://localhost:8080/"
        },
        "id": "aVfvDjC8f4KT",
        "outputId": "1bf24e89-88fc-4b9b-8b83-e3e955ba3feb"
      },
      "source": [
        "rf_prec=sklearn.metrics.precision_score(test_a['polarity'],rf_labels)\n",
        "rf_rec=sklearn.metrics.recall_score(test_a['polarity'],rf_labels)\n",
        "rf_f1=sklearn.metrics.f1_score(rf_labels, test_a['polarity'], average='macro')\n",
        "rf_met=[rf_prec, rf_rec, rf_f1]\n",
        "rf_met"
      ],
      "execution_count": 35,
      "outputs": [
        {
          "output_type": "execute_result",
          "data": {
            "text/plain": [
              "[0.7398416410573584, 0.7177160285496431, 0.7326059366887618]"
            ]
          },
          "metadata": {
            "tags": []
          },
          "execution_count": 35
        }
      ]
    },
    {
      "cell_type": "markdown",
      "metadata": {
        "id": "yp4WfYWR8-Ic"
      },
      "source": [
        "3. Use the code from the LSTM class to build a classifier for negative and positive\n",
        "sentiment tweets. Train the model with the training data split. Once the model is built,\n",
        "test it with the testing data split. Display the classifier report for this evaluation. Answer\n",
        "the following question: What can you say about the performance of this model? (40\n",
        "points)"
      ]
    },
    {
      "cell_type": "code",
      "metadata": {
        "id": "Pc7Zszr3re6P"
      },
      "source": [
        "# All the imports!\n",
        "import tensorflow as tf \n",
        "import numpy as np\n",
        "from tensorflow.keras.preprocessing import sequence\n",
        "\n",
        "from numpy import array\n",
        "\n",
        "# Supress deprecation warnings\n",
        "import logging\n",
        "logging.getLogger('tensorflow').disabled = True"
      ],
      "execution_count": 7,
      "outputs": []
    },
    {
      "cell_type": "code",
      "metadata": {
        "colab": {
          "base_uri": "https://localhost:8080/"
        },
        "id": "jPtSdb6Brlez",
        "outputId": "f083f9b0-3a18-46d4-8bc8-905ea2e77cc5"
      },
      "source": [
        "training_2=training_set.loc[(training_set['polarity']==0) | (training_set['polarity']==4)]\n",
        "training_2=training_2.drop(['date','query','user'], axis=1)\n",
        "train_a, test_a = train_test_split(training_2, test_size=0.20, random_state=2361)\n",
        "train_a.shape"
      ],
      "execution_count": 8,
      "outputs": [
        {
          "output_type": "execute_result",
          "data": {
            "text/plain": [
              "(1280000, 3)"
            ]
          },
          "metadata": {
            "tags": []
          },
          "execution_count": 8
        }
      ]
    },
    {
      "cell_type": "code",
      "metadata": {
        "colab": {
          "base_uri": "https://localhost:8080/"
        },
        "id": "Eh_U6BLNYr3B",
        "outputId": "0d1a1262-5b2e-472e-c7d6-9f66baebecce"
      },
      "source": [
        "X=list(train_a['text'].values)\n",
        "# X=[[el] for el in X]\n",
        "print(X[60])\n",
        "\n",
        "allreviews = np.concatenate((train_a['text'], test_a['text']), axis=0)\n",
        "allreviews=allreviews.tolist()\n",
        "# print(allreviews[:3])"
      ],
      "execution_count": 9,
      "outputs": [
        {
          "output_type": "stream",
          "text": [
            "@internacionalj whatever dawg just leave \n"
          ],
          "name": "stdout"
        }
      ]
    },
    {
      "cell_type": "code",
      "metadata": {
        "id": "paLhOBJubBMe"
      },
      "source": [
        "from keras.preprocessing.text import Tokenizer\n",
        "enc=[]\n",
        "tokenizer=Tokenizer(filters='')\n",
        "tokenizer.fit_on_texts(X)\n",
        "\n",
        "enc=tokenizer.texts_to_sequences(X)"
      ],
      "execution_count": 10,
      "outputs": []
    },
    {
      "cell_type": "code",
      "metadata": {
        "colab": {
          "base_uri": "https://localhost:8080/"
        },
        "id": "ugyuqbruHoGK",
        "outputId": "41b72688-57b1-4053-8bc8-8a70d9ccf1cd"
      },
      "source": [
        "print(enc[60])"
      ],
      "execution_count": 11,
      "outputs": [
        {
          "output_type": "stream",
          "text": [
            "[84847, 1203, 18892, 20, 345]\n"
          ],
          "name": "stdout"
        }
      ]
    },
    {
      "cell_type": "code",
      "metadata": {
        "colab": {
          "base_uri": "https://localhost:8080/"
        },
        "id": "LL36cxG9CQtG",
        "outputId": "ba09fc45-7dc1-4a85-ff40-dc871dbd7655"
      },
      "source": [
        "# Looking at max review length and vocab size in training data\n",
        "vocab_size = len(tokenizer.word_index) + 1\n",
        "print(\"vocab size {}\".format(vocab_size))\n",
        "\n",
        "max_review_len = len(max((enc), key=len))\n",
        "\n",
        "print(\"Maximum review length: {}\".format(len(max((enc), key=len))))\n",
        "print(\"Minimum review length: {}\".format(len(min((enc), key=len))))\n",
        "result = [len(x) for x in enc]\n",
        "print(\"Mean review length: {}\".format(np.mean(result)))"
      ],
      "execution_count": 12,
      "outputs": [
        {
          "output_type": "stream",
          "text": [
            "vocab size 1017110\n",
            "Maximum review length: 57\n",
            "Minimum review length: 1\n",
            "Mean review length: 13.17442265625\n"
          ],
          "name": "stdout"
        }
      ]
    },
    {
      "cell_type": "code",
      "metadata": {
        "id": "0aMgpi2meXPi"
      },
      "source": [
        "# maxlen = max_review_len\n",
        "X= sequence.pad_sequences(enc, maxlen=max_review_len)"
      ],
      "execution_count": 13,
      "outputs": []
    },
    {
      "cell_type": "code",
      "metadata": {
        "colab": {
          "base_uri": "https://localhost:8080/"
        },
        "id": "kEOr7WzSGKBU",
        "outputId": "345be15d-f862-4a70-996c-ff0bd9a39fc0"
      },
      "source": [
        "X[60]"
      ],
      "execution_count": 14,
      "outputs": [
        {
          "output_type": "execute_result",
          "data": {
            "text/plain": [
              "array([    0,     0,     0,     0,     0,     0,     0,     0,     0,\n",
              "           0,     0,     0,     0,     0,     0,     0,     0,     0,\n",
              "           0,     0,     0,     0,     0,     0,     0,     0,     0,\n",
              "           0,     0,     0,     0,     0,     0,     0,     0,     0,\n",
              "           0,     0,     0,     0,     0,     0,     0,     0,     0,\n",
              "           0,     0,     0,     0,     0,     0,     0, 84847,  1203,\n",
              "       18892,    20,   345], dtype=int32)"
            ]
          },
          "metadata": {
            "tags": []
          },
          "execution_count": 14
        }
      ]
    },
    {
      "cell_type": "code",
      "metadata": {
        "colab": {
          "base_uri": "https://localhost:8080/",
          "height": 486
        },
        "id": "cDEIW3VrXYbr",
        "outputId": "6e8f08a5-64e9-4cc8-d756-d14bf6602b4d"
      },
      "source": [
        "train_a.insert(3,\"encoded_list\", X.tolist())\n",
        "train_a[\"polarity\"].replace({4: 1}, inplace=True)\n",
        "train_a"
      ],
      "execution_count": 15,
      "outputs": [
        {
          "output_type": "stream",
          "text": [
            "/usr/local/lib/python3.7/dist-packages/pandas/core/series.py:4582: SettingWithCopyWarning: \n",
            "A value is trying to be set on a copy of a slice from a DataFrame\n",
            "\n",
            "See the caveats in the documentation: https://pandas.pydata.org/pandas-docs/stable/user_guide/indexing.html#returning-a-view-versus-a-copy\n",
            "  method=method,\n"
          ],
          "name": "stderr"
        },
        {
          "output_type": "execute_result",
          "data": {
            "text/html": [
              "<div>\n",
              "<style scoped>\n",
              "    .dataframe tbody tr th:only-of-type {\n",
              "        vertical-align: middle;\n",
              "    }\n",
              "\n",
              "    .dataframe tbody tr th {\n",
              "        vertical-align: top;\n",
              "    }\n",
              "\n",
              "    .dataframe thead th {\n",
              "        text-align: right;\n",
              "    }\n",
              "</style>\n",
              "<table border=\"1\" class=\"dataframe\">\n",
              "  <thead>\n",
              "    <tr style=\"text-align: right;\">\n",
              "      <th></th>\n",
              "      <th>polarity</th>\n",
              "      <th>id</th>\n",
              "      <th>text</th>\n",
              "      <th>encoded_list</th>\n",
              "    </tr>\n",
              "  </thead>\n",
              "  <tbody>\n",
              "    <tr>\n",
              "      <th>1474686</th>\n",
              "      <td>1</td>\n",
              "      <td>2065768709</td>\n",
              "      <td>@scarlettstvitus It helps me to put a bag of i...</td>\n",
              "      <td>[0, 0, 0, 0, 0, 0, 0, 0, 0, 0, 0, 0, 0, 0, 0, ...</td>\n",
              "    </tr>\n",
              "    <tr>\n",
              "      <th>867725</th>\n",
              "      <td>1</td>\n",
              "      <td>1677825607</td>\n",
              "      <td>@tommcfly it's actually law of humans' life......</td>\n",
              "      <td>[0, 0, 0, 0, 0, 0, 0, 0, 0, 0, 0, 0, 0, 0, 0, ...</td>\n",
              "    </tr>\n",
              "    <tr>\n",
              "      <th>191053</th>\n",
              "      <td>0</td>\n",
              "      <td>1969494477</td>\n",
              "      <td>@ryanseacrest Son of a crap!  I thought Adam L...</td>\n",
              "      <td>[0, 0, 0, 0, 0, 0, 0, 0, 0, 0, 0, 0, 0, 0, 0, ...</td>\n",
              "    </tr>\n",
              "    <tr>\n",
              "      <th>266955</th>\n",
              "      <td>0</td>\n",
              "      <td>1989094495</td>\n",
              "      <td>Alright folks I think I'm going to go try and ...</td>\n",
              "      <td>[0, 0, 0, 0, 0, 0, 0, 0, 0, 0, 0, 0, 0, 0, 0, ...</td>\n",
              "    </tr>\n",
              "    <tr>\n",
              "      <th>1472945</th>\n",
              "      <td>1</td>\n",
              "      <td>2065462631</td>\n",
              "      <td>loves that there's so much Federer love going ...</td>\n",
              "      <td>[0, 0, 0, 0, 0, 0, 0, 0, 0, 0, 0, 0, 0, 0, 0, ...</td>\n",
              "    </tr>\n",
              "    <tr>\n",
              "      <th>...</th>\n",
              "      <td>...</td>\n",
              "      <td>...</td>\n",
              "      <td>...</td>\n",
              "      <td>...</td>\n",
              "    </tr>\n",
              "    <tr>\n",
              "      <th>416808</th>\n",
              "      <td>0</td>\n",
              "      <td>2061386238</td>\n",
              "      <td>@thisisbree I feel your pain.</td>\n",
              "      <td>[0, 0, 0, 0, 0, 0, 0, 0, 0, 0, 0, 0, 0, 0, 0, ...</td>\n",
              "    </tr>\n",
              "    <tr>\n",
              "      <th>1216020</th>\n",
              "      <td>1</td>\n",
              "      <td>1989600398</td>\n",
              "      <td>@mileycyrus http://twitpic.com/6dvj4 - love yo...</td>\n",
              "      <td>[0, 0, 0, 0, 0, 0, 0, 0, 0, 0, 0, 0, 0, 0, 0, ...</td>\n",
              "    </tr>\n",
              "    <tr>\n",
              "      <th>1574656</th>\n",
              "      <td>1</td>\n",
              "      <td>2189269465</td>\n",
              "      <td>@Milereb Just agreed with my boss that I can l...</td>\n",
              "      <td>[0, 0, 0, 0, 0, 0, 0, 0, 0, 0, 0, 0, 0, 0, 0, ...</td>\n",
              "    </tr>\n",
              "    <tr>\n",
              "      <th>1569435</th>\n",
              "      <td>1</td>\n",
              "      <td>2188398571</td>\n",
              "      <td>@Helloself Hi!I I'm now following your. Lookin...</td>\n",
              "      <td>[0, 0, 0, 0, 0, 0, 0, 0, 0, 0, 0, 0, 0, 0, 0, ...</td>\n",
              "    </tr>\n",
              "    <tr>\n",
              "      <th>1561195</th>\n",
              "      <td>1</td>\n",
              "      <td>2186527161</td>\n",
              "      <td>@ashleytisdale  Wow this is so awesome!!  my c...</td>\n",
              "      <td>[0, 0, 0, 0, 0, 0, 0, 0, 0, 0, 0, 0, 0, 0, 0, ...</td>\n",
              "    </tr>\n",
              "  </tbody>\n",
              "</table>\n",
              "<p>1280000 rows × 4 columns</p>\n",
              "</div>"
            ],
            "text/plain": [
              "         polarity  ...                                       encoded_list\n",
              "1474686         1  ...  [0, 0, 0, 0, 0, 0, 0, 0, 0, 0, 0, 0, 0, 0, 0, ...\n",
              "867725          1  ...  [0, 0, 0, 0, 0, 0, 0, 0, 0, 0, 0, 0, 0, 0, 0, ...\n",
              "191053          0  ...  [0, 0, 0, 0, 0, 0, 0, 0, 0, 0, 0, 0, 0, 0, 0, ...\n",
              "266955          0  ...  [0, 0, 0, 0, 0, 0, 0, 0, 0, 0, 0, 0, 0, 0, 0, ...\n",
              "1472945         1  ...  [0, 0, 0, 0, 0, 0, 0, 0, 0, 0, 0, 0, 0, 0, 0, ...\n",
              "...           ...  ...                                                ...\n",
              "416808          0  ...  [0, 0, 0, 0, 0, 0, 0, 0, 0, 0, 0, 0, 0, 0, 0, ...\n",
              "1216020         1  ...  [0, 0, 0, 0, 0, 0, 0, 0, 0, 0, 0, 0, 0, 0, 0, ...\n",
              "1574656         1  ...  [0, 0, 0, 0, 0, 0, 0, 0, 0, 0, 0, 0, 0, 0, 0, ...\n",
              "1569435         1  ...  [0, 0, 0, 0, 0, 0, 0, 0, 0, 0, 0, 0, 0, 0, 0, ...\n",
              "1561195         1  ...  [0, 0, 0, 0, 0, 0, 0, 0, 0, 0, 0, 0, 0, 0, 0, ...\n",
              "\n",
              "[1280000 rows x 4 columns]"
            ]
          },
          "metadata": {
            "tags": []
          },
          "execution_count": 15
        }
      ]
    },
    {
      "cell_type": "code",
      "metadata": {
        "colab": {
          "base_uri": "https://localhost:8080/"
        },
        "id": "L5tI3DB6g7eN",
        "outputId": "f29ed1d5-174d-4372-fb77-b86f6548d403"
      },
      "source": [
        "print(train_a['encoded_list'][1474686])"
      ],
      "execution_count": 16,
      "outputs": [
        {
          "output_type": "stream",
          "text": [
            "[0, 0, 0, 0, 0, 0, 0, 0, 0, 0, 0, 0, 0, 0, 0, 0, 0, 0, 0, 0, 0, 0, 0, 0, 0, 0, 0, 0, 0, 287000, 11, 2189, 17, 2, 296, 4, 1517, 12, 584, 13, 655, 12, 5, 339, 2, 6043, 118, 32448, 11, 13543, 1, 87, 7, 94, 142, 1683, 14532]\n"
          ],
          "name": "stdout"
        }
      ]
    },
    {
      "cell_type": "code",
      "metadata": {
        "colab": {
          "base_uri": "https://localhost:8080/"
        },
        "id": "iYPCYrwyhooo",
        "outputId": "4123c81e-44bd-43ac-d8ff-67c9a4cfc222"
      },
      "source": [
        "var=tokenizer.sequences_to_texts([train_a['encoded_list'][1474686]])\n",
        "print(var)"
      ],
      "execution_count": 17,
      "outputs": [
        {
          "output_type": "stream",
          "text": [
            "['@scarlettstvitus it helps me to put a bag of ice on top of my head to relieve bad headaches! it helps! i hope you feel better soon, scar']\n"
          ],
          "name": "stdout"
        }
      ]
    },
    {
      "cell_type": "code",
      "metadata": {
        "colab": {
          "base_uri": "https://localhost:8080/"
        },
        "id": "oyHsUR8OcHnD",
        "outputId": "9627f9d6-3a7b-4f4d-b21f-55e4c9b60369"
      },
      "source": [
        "# designing the LSTM model\n",
        "model = tf.keras.models.Sequential()\n",
        "model.add(\n",
        "    tf.keras.layers.Embedding(\n",
        "        input_dim = vocab_size, # The size of our vocabulary \n",
        "        output_dim = 32, # Dimensions to which each words shall be mapped\n",
        "        input_length = max_review_len # Length of input sequences\n",
        "    )\n",
        ")\n",
        "\n",
        "model.add(\n",
        "    tf.keras.layers.Dropout(\n",
        "        rate=0.25 # Randomly disable 25% of neurons\n",
        "    )\n",
        ")\n",
        "\n",
        "model.add(\n",
        "    tf.keras.layers.LSTM(\n",
        "        units=32 # 32 LSTM units in this layer\n",
        "    )\n",
        ")\n",
        "\n",
        "model.add(\n",
        "    tf.keras.layers.Dropout(\n",
        "        rate=0.25 # Randomly disable 25% of neurons\n",
        "    )\n",
        ")\n",
        "\n",
        "model.add(\n",
        "    tf.keras.layers.Dense(\n",
        "        units=1, # Single unit\n",
        "        activation='sigmoid' # Sigmoid activation function (output from 0 to 1)\n",
        "    )\n",
        ")\n",
        "\n",
        "model.compile(\n",
        "    loss=tf.keras.losses.binary_crossentropy, # loss function\n",
        "    optimizer=tf.keras.optimizers.Adam(), # optimiser function\n",
        "    metrics=['accuracy'])\n",
        "model.summary()"
      ],
      "execution_count": 18,
      "outputs": [
        {
          "output_type": "stream",
          "text": [
            "Model: \"sequential\"\n",
            "_________________________________________________________________\n",
            "Layer (type)                 Output Shape              Param #   \n",
            "=================================================================\n",
            "embedding (Embedding)        (None, 57, 32)            32547520  \n",
            "_________________________________________________________________\n",
            "dropout (Dropout)            (None, 57, 32)            0         \n",
            "_________________________________________________________________\n",
            "lstm (LSTM)                  (None, 32)                8320      \n",
            "_________________________________________________________________\n",
            "dropout_1 (Dropout)          (None, 32)                0         \n",
            "_________________________________________________________________\n",
            "dense (Dense)                (None, 1)                 33        \n",
            "=================================================================\n",
            "Total params: 32,555,873\n",
            "Trainable params: 32,555,873\n",
            "Non-trainable params: 0\n",
            "_________________________________________________________________\n"
          ],
          "name": "stdout"
        }
      ]
    },
    {
      "cell_type": "code",
      "metadata": {
        "colab": {
          "base_uri": "https://localhost:8080/",
          "height": 644
        },
        "id": "YHFe66w4we-t",
        "outputId": "ef74cdc2-2ffc-46f6-d3f3-57158730ea53"
      },
      "source": [
        "tf.keras.utils.plot_model(model, to_file='model.png', show_shapes=True, show_layer_names=False)"
      ],
      "execution_count": 19,
      "outputs": [
        {
          "output_type": "execute_result",
          "data": {
            "image/png": "[encoded data removed]",
            "text/plain": [
              "<IPython.core.display.Image object>"
            ]
          },
          "metadata": {
            "tags": []
          },
          "execution_count": 19
        }
      ]
    },
    {
      "cell_type": "code",
      "metadata": {
        "colab": {
          "base_uri": "https://localhost:8080/"
        },
        "id": "qoU70_8VxTRv",
        "outputId": "99bc0813-2079-4266-cba3-cb9ce40a5d5b"
      },
      "source": [
        "y=train_a['polarity'].values\n",
        "print(len(y))\n",
        "print(y[:5])"
      ],
      "execution_count": 20,
      "outputs": [
        {
          "output_type": "stream",
          "text": [
            "1280000\n",
            "[1 1 0 0 1]\n"
          ],
          "name": "stdout"
        }
      ]
    },
    {
      "cell_type": "code",
      "metadata": {
        "id": "FiwDdeCownTR",
        "colab": {
          "base_uri": "https://localhost:8080/"
        },
        "outputId": "c73b26aa-55f0-48d4-9bde-15e2e605e751"
      },
      "source": [
        "history = model.fit(\n",
        "    x=X, y=y,\n",
        "    batch_size=500, \n",
        "    epochs=3, \n",
        "    validation_split=0.2,\n",
        "    verbose=1\n",
        ")"
      ],
      "execution_count": 21,
      "outputs": [
        {
          "output_type": "stream",
          "text": [
            "Epoch 1/3\n",
            "2048/2048 [==============================] - 814s 397ms/step - loss: 0.4965 - accuracy: 0.7536 - val_loss: 0.4090 - val_accuracy: 0.8117\n",
            "Epoch 2/3\n",
            "2048/2048 [==============================] - 810s 396ms/step - loss: 0.3269 - accuracy: 0.8589 - val_loss: 0.4288 - val_accuracy: 0.8046\n",
            "Epoch 3/3\n",
            "2048/2048 [==============================] - 809s 395ms/step - loss: 0.2248 - accuracy: 0.9094 - val_loss: 0.4765 - val_accuracy: 0.7966\n"
          ],
          "name": "stdout"
        }
      ]
    },
    {
      "cell_type": "code",
      "metadata": {
        "colab": {
          "base_uri": "https://localhost:8080/"
        },
        "id": "U4OBuDds5wI1",
        "outputId": "affd3cbf-24d3-4b45-85f6-2ff5ad0dc7da"
      },
      "source": [
        "# getting the test data\n",
        "\n",
        "y_=list(test_a['text'].values)\n",
        "enc_2 = tokenizer.texts_to_sequences(y_)\n",
        "enc_2 = sequence.pad_sequences(enc_2, maxlen=max_review_len)\n",
        "print(enc_2[0])\n",
        "\n",
        "test_a[\"polarity\"].replace({4: 1, 0: 0}, inplace=True)\n",
        "yt=test_a['polarity'].values"
      ],
      "execution_count": 24,
      "outputs": [
        {
          "output_type": "stream",
          "text": [
            "[  0   0   0   0   0   0   0   0   0   0   0   0   0   0   0   0   0   0\n",
            "   0   0   0   0   0   0   0   0   0   0   0   0   0   0   0   0   0   8\n",
            "  40   2 179  39 141   4  43  12 300  53  34 236  30   1  80   2  44  61\n",
            "  84  53 129]\n"
          ],
          "name": "stdout"
        },
        {
          "output_type": "stream",
          "text": [
            "/usr/local/lib/python3.7/dist-packages/pandas/core/series.py:4582: SettingWithCopyWarning: \n",
            "A value is trying to be set on a copy of a slice from a DataFrame\n",
            "\n",
            "See the caveats in the documentation: https://pandas.pydata.org/pandas-docs/stable/user_guide/indexing.html#returning-a-view-versus-a-copy\n",
            "  method=method,\n"
          ],
          "name": "stderr"
        }
      ]
    },
    {
      "cell_type": "code",
      "metadata": {
        "colab": {
          "base_uri": "https://localhost:8080/"
        },
        "id": "m8794Jk25hU9",
        "outputId": "53b8b444-38a5-4b41-fe13-1a6f4638270d"
      },
      "source": [
        "from sklearn.metrics import classification_report\n",
        "class_names = [\"Negative\", \"Positive\"]\n",
        "predicted_classes = model.predict_classes(enc_2)\n",
        "print(classification_report(yt, predicted_classes, target_names=class_names))"
      ],
      "execution_count": 25,
      "outputs": [
        {
          "output_type": "stream",
          "text": [
            "/usr/local/lib/python3.7/dist-packages/tensorflow/python/keras/engine/sequential.py:450: UserWarning: `model.predict_classes()` is deprecated and will be removed after 2021-01-01. Please use instead:* `np.argmax(model.predict(x), axis=-1)`,   if your model does multi-class classification   (e.g. if it uses a `softmax` last-layer activation).* `(model.predict(x) > 0.5).astype(\"int32\")`,   if your model does binary classification   (e.g. if it uses a `sigmoid` last-layer activation).\n",
            "  warnings.warn('`model.predict_classes()` is deprecated and '\n"
          ],
          "name": "stderr"
        },
        {
          "output_type": "stream",
          "text": [
            "              precision    recall  f1-score   support\n",
            "\n",
            "    Negative       0.78      0.83      0.81    159998\n",
            "    Positive       0.82      0.76      0.79    160002\n",
            "\n",
            "    accuracy                           0.80    320000\n",
            "   macro avg       0.80      0.80      0.80    320000\n",
            "weighted avg       0.80      0.80      0.80    320000\n",
            "\n"
          ],
          "name": "stdout"
        }
      ]
    },
    {
      "cell_type": "code",
      "metadata": {
        "colab": {
          "base_uri": "https://localhost:8080/"
        },
        "id": "7FzHbJTVES0N",
        "outputId": "23eb48f1-242d-4331-e064-8da6189917b2"
      },
      "source": [
        "# Storing the metrics for later comparison\n",
        "\n",
        "print('*** Evaluation of LSTM Model 1***')\n",
        "precision_lstm1=sklearn.metrics.precision_score(yt,predicted_classes)\n",
        "recall_lstm1=sklearn.metrics.recall_score(yt,predicted_classes)\n",
        "f1_score_lstm1=sklearn.metrics.f1_score(predicted_classes, yt, average='macro')\n",
        "print(precision_lstm1)\n",
        "print(recall_lstm1)\n",
        "print(f1_score_lstm1)\n",
        "print('***')\n",
        "lstm_met=[precision_lstm1, recall_lstm1, f1_score_lstm1]\n",
        "lstm_met"
      ],
      "execution_count": 27,
      "outputs": [
        {
          "output_type": "stream",
          "text": [
            "*** Evaluation of Model c ***\n",
            "0.8209127594287364\n",
            "0.764121698478769\n",
            "0.7984684144190074\n",
            "***\n"
          ],
          "name": "stdout"
        }
      ]
    },
    {
      "cell_type": "markdown",
      "metadata": {
        "id": "C8Lh2XcwfLKS"
      },
      "source": [
        "Observation: The LSTM model performs better than the previous models. In comparison to SVM and RandomForest Classifier, it also trains in a relatively less time implying better scalability with larger data. Further comparison of metrics given in Q4."
      ]
    },
    {
      "cell_type": "markdown",
      "metadata": {
        "id": "IxXYBloTgRWQ"
      },
      "source": [
        "4. Compare all models together in terms of Precision, Recall and F1 score. Put all of\n",
        "these numbers in a nicely formatted dataframe. Answer the following questions: Which\n",
        "model performs the best? Why do you think this is? What do you think you can do to\n",
        "improve performance? (30 points)\n"
      ]
    },
    {
      "cell_type": "code",
      "metadata": {
        "colab": {
          "base_uri": "https://localhost:8080/",
          "height": 136
        },
        "id": "kiE6-pLohl8h",
        "outputId": "7eace968-8ac0-403e-a738-8003b3280194"
      },
      "source": [
        "dict1 = {'SVC()': svm_met, 'MultinomialNB()': nb_met, 'RandomForestClassifier()': rf_met, 'LSTM': lstm_met}\n",
        "metric_df= pd.DataFrame(dict1, index=['precision','recall', 'F1 Score'])\n",
        "metric_df"
      ],
      "execution_count": 39,
      "outputs": [
        {
          "output_type": "execute_result",
          "data": {
            "text/html": [
              "<div>\n",
              "<style scoped>\n",
              "    .dataframe tbody tr th:only-of-type {\n",
              "        vertical-align: middle;\n",
              "    }\n",
              "\n",
              "    .dataframe tbody tr th {\n",
              "        vertical-align: top;\n",
              "    }\n",
              "\n",
              "    .dataframe thead th {\n",
              "        text-align: right;\n",
              "    }\n",
              "</style>\n",
              "<table border=\"1\" class=\"dataframe\">\n",
              "  <thead>\n",
              "    <tr style=\"text-align: right;\">\n",
              "      <th></th>\n",
              "      <th>SVC()</th>\n",
              "      <th>MultinomialNB()</th>\n",
              "      <th>RandomForestClassifier()</th>\n",
              "      <th>LSTM</th>\n",
              "    </tr>\n",
              "  </thead>\n",
              "  <tbody>\n",
              "    <tr>\n",
              "      <th>precision</th>\n",
              "      <td>0.550243</td>\n",
              "      <td>0.800344</td>\n",
              "      <td>0.739842</td>\n",
              "      <td>0.820913</td>\n",
              "    </tr>\n",
              "    <tr>\n",
              "      <th>recall</th>\n",
              "      <td>0.234978</td>\n",
              "      <td>0.728078</td>\n",
              "      <td>0.717716</td>\n",
              "      <td>0.764122</td>\n",
              "    </tr>\n",
              "    <tr>\n",
              "      <th>F1 Score</th>\n",
              "      <td>0.478667</td>\n",
              "      <td>0.772759</td>\n",
              "      <td>0.732606</td>\n",
              "      <td>0.798468</td>\n",
              "    </tr>\n",
              "  </tbody>\n",
              "</table>\n",
              "</div>"
            ],
            "text/plain": [
              "              SVC()  MultinomialNB()  RandomForestClassifier()      LSTM\n",
              "precision  0.550243         0.800344                  0.739842  0.820913\n",
              "recall     0.234978         0.728078                  0.717716  0.764122\n",
              "F1 Score   0.478667         0.772759                  0.732606  0.798468"
            ]
          },
          "metadata": {
            "tags": []
          },
          "execution_count": 39
        }
      ]
    },
    {
      "cell_type": "markdown",
      "metadata": {
        "id": "OSAJnJWEicVS"
      },
      "source": [
        "Observation:\n",
        "*This analysis does not fully include the SVM and Random forest classifiers as both the models were still training over the full training set at the time of submission. However few insights will be pointed out in regards to scalability of these models based on time taken to train and performance on the samples*\n",
        "\n",
        "Based on the figures for precision, recall and F1 score, the LSTM outperforms all the other three models. It is also the among the faster models to train along with Multinomial Naive Bayes. The LSTM model performs better than SVMs due to the innate advantage it has in handling large number of features (unlike SVMs or RandomForest). Also, the LSTM model is well defined in terms of its input and output size. In addition to this the LSTMs have the advantage of leveraging context of the sequence of sentences unlike the rest of the models which are purely discriminative or probabalistic. \n",
        "\n",
        "\n",
        "In order to improve the performance, certain measures can be taken such as getting rid of the unkown words (represented with special symbols), eliminating stop words from the data etc. Avoid trimming down review sizes to better preserve context.\n",
        "\n",
        "The SVM in particular is the worst to scale among the four trained models. Various approaches were tried such as scaling the tfidf matrix before feeding to the SVM, Using Sklearn's one vs rest classifier technique to improve the performance of the model, however neither helped to speed up the training. Therefore SVM is the worst of the models to scale with increasing dataset and within a sample dataset, the worst to perform as well. Similarly RandomForest classifier does not do much better. \n"
      ]
    },
    {
      "cell_type": "markdown",
      "metadata": {
        "id": "ptivZ8Wl7ByP"
      },
      "source": [
        "5. Add to the comparison of #4 a the manually calculated precision, recall and F1 score\n",
        "using VADER and their suggested defaults to categorize the test split tweets in positive\n",
        "or negative. Answer the following questions: Is this approach as good as the previous\n",
        "ones? Why do you think this is? (30 points)"
      ]
    },
    {
      "cell_type": "code",
      "metadata": {
        "id": "zCgzROsj60xa",
        "colab": {
          "base_uri": "https://localhost:8080/"
        },
        "outputId": "4041baf8-905b-420f-b02f-019aee28ccbf"
      },
      "source": [
        "import nltk\n",
        "nltk.download('vader_lexicon')\n",
        "nltk.download('punkt')\n",
        "from nltk.sentiment.vader import SentimentIntensityAnalyzer"
      ],
      "execution_count": 40,
      "outputs": [
        {
          "output_type": "stream",
          "text": [
            "[nltk_data] Downloading package vader_lexicon to /root/nltk_data...\n",
            "[nltk_data] Downloading package punkt to /root/nltk_data...\n",
            "[nltk_data]   Unzipping tokenizers/punkt.zip.\n"
          ],
          "name": "stdout"
        },
        {
          "output_type": "stream",
          "text": [
            "/usr/local/lib/python3.7/dist-packages/nltk/twitter/__init__.py:20: UserWarning: The twython library has not been installed. Some functionality from the twitter package will not be available.\n",
            "  warnings.warn(\"The twython library has not been installed. \"\n"
          ],
          "name": "stderr"
        }
      ]
    },
    {
      "cell_type": "code",
      "metadata": {
        "id": "5qI07fiF6R5_"
      },
      "source": [
        "train_a, test_a = train_test_split(training_set, test_size=0.20, random_state=2361)"
      ],
      "execution_count": 42,
      "outputs": []
    },
    {
      "cell_type": "code",
      "metadata": {
        "colab": {
          "base_uri": "https://localhost:8080/"
        },
        "id": "Qax33NAr6k3g",
        "outputId": "ba1eaa91-02f6-4d14-e1d6-a7857645a138"
      },
      "source": [
        "train_a[\"polarity\"].replace({4: 1, 0: 0}, inplace=True)\n",
        "test_a[\"polarity\"].replace({4: 1, 0: 0}, inplace=True)"
      ],
      "execution_count": 43,
      "outputs": [
        {
          "output_type": "stream",
          "text": [
            "/usr/local/lib/python3.7/dist-packages/pandas/core/series.py:4582: SettingWithCopyWarning: \n",
            "A value is trying to be set on a copy of a slice from a DataFrame\n",
            "\n",
            "See the caveats in the documentation: https://pandas.pydata.org/pandas-docs/stable/user_guide/indexing.html#returning-a-view-versus-a-copy\n",
            "  method=method,\n"
          ],
          "name": "stderr"
        }
      ]
    },
    {
      "cell_type": "code",
      "metadata": {
        "colab": {
          "base_uri": "https://localhost:8080/",
          "height": 402
        },
        "id": "w2VQIT-L7DSS",
        "outputId": "b6f08283-44c4-40e1-dbb0-b6da91efa1fa"
      },
      "source": [
        "test_a"
      ],
      "execution_count": 44,
      "outputs": [
        {
          "output_type": "execute_result",
          "data": {
            "text/html": [
              "<div>\n",
              "<style scoped>\n",
              "    .dataframe tbody tr th:only-of-type {\n",
              "        vertical-align: middle;\n",
              "    }\n",
              "\n",
              "    .dataframe tbody tr th {\n",
              "        vertical-align: top;\n",
              "    }\n",
              "\n",
              "    .dataframe thead th {\n",
              "        text-align: right;\n",
              "    }\n",
              "</style>\n",
              "<table border=\"1\" class=\"dataframe\">\n",
              "  <thead>\n",
              "    <tr style=\"text-align: right;\">\n",
              "      <th></th>\n",
              "      <th>polarity</th>\n",
              "      <th>id</th>\n",
              "      <th>text</th>\n",
              "    </tr>\n",
              "  </thead>\n",
              "  <tbody>\n",
              "    <tr>\n",
              "      <th>402563</th>\n",
              "      <td>0</td>\n",
              "      <td>2057965783</td>\n",
              "      <td>is going to bed now after a day of hard work -...</td>\n",
              "    </tr>\n",
              "    <tr>\n",
              "      <th>1558129</th>\n",
              "      <td>1</td>\n",
              "      <td>2185758509</td>\n",
              "      <td>@lilxicanita aww mecheee you can be my friend....</td>\n",
              "    </tr>\n",
              "    <tr>\n",
              "      <th>1415201</th>\n",
              "      <td>1</td>\n",
              "      <td>2057173199</td>\n",
              "      <td>having my big brother open for me is a dream c...</td>\n",
              "    </tr>\n",
              "    <tr>\n",
              "      <th>1112565</th>\n",
              "      <td>1</td>\n",
              "      <td>1972437650</td>\n",
              "      <td>acting going well. will reach goal by God's gr...</td>\n",
              "    </tr>\n",
              "    <tr>\n",
              "      <th>706645</th>\n",
              "      <td>0</td>\n",
              "      <td>2256751423</td>\n",
              "      <td>@morganmovement what?! Wtf happened?! I'm doin...</td>\n",
              "    </tr>\n",
              "    <tr>\n",
              "      <th>...</th>\n",
              "      <td>...</td>\n",
              "      <td>...</td>\n",
              "      <td>...</td>\n",
              "    </tr>\n",
              "    <tr>\n",
              "      <th>1087432</th>\n",
              "      <td>1</td>\n",
              "      <td>1969428366</td>\n",
              "      <td>@mileycyrus http://twitpic.com/5ppwd - I have ...</td>\n",
              "    </tr>\n",
              "    <tr>\n",
              "      <th>1520516</th>\n",
              "      <td>1</td>\n",
              "      <td>2176208137</td>\n",
              "      <td>@gin_lady thanks, lots of sleep and knitting s...</td>\n",
              "    </tr>\n",
              "    <tr>\n",
              "      <th>728046</th>\n",
              "      <td>0</td>\n",
              "      <td>2262970033</td>\n",
              "      <td>just watched like a three hour movie arizona i...</td>\n",
              "    </tr>\n",
              "    <tr>\n",
              "      <th>285604</th>\n",
              "      <td>0</td>\n",
              "      <td>1993657523</td>\n",
              "      <td>I saw all the 'tussen de oren' episodes and f...</td>\n",
              "    </tr>\n",
              "    <tr>\n",
              "      <th>1311901</th>\n",
              "      <td>1</td>\n",
              "      <td>2013537005</td>\n",
              "      <td>He say Im special.  *bllush</td>\n",
              "    </tr>\n",
              "  </tbody>\n",
              "</table>\n",
              "<p>320000 rows × 3 columns</p>\n",
              "</div>"
            ],
            "text/plain": [
              "         polarity  ...                                               text\n",
              "402563          0  ...  is going to bed now after a day of hard work -...\n",
              "1558129         1  ...  @lilxicanita aww mecheee you can be my friend....\n",
              "1415201         1  ...  having my big brother open for me is a dream c...\n",
              "1112565         1  ...  acting going well. will reach goal by God's gr...\n",
              "706645          0  ...  @morganmovement what?! Wtf happened?! I'm doin...\n",
              "...           ...  ...                                                ...\n",
              "1087432         1  ...  @mileycyrus http://twitpic.com/5ppwd - I have ...\n",
              "1520516         1  ...  @gin_lady thanks, lots of sleep and knitting s...\n",
              "728046          0  ...  just watched like a three hour movie arizona i...\n",
              "285604          0  ...   I saw all the 'tussen de oren' episodes and f...\n",
              "1311901         1  ...                        He say Im special.  *bllush\n",
              "\n",
              "[320000 rows x 3 columns]"
            ]
          },
          "metadata": {
            "tags": []
          },
          "execution_count": 44
        }
      ]
    },
    {
      "cell_type": "code",
      "metadata": {
        "id": "YlcQm-iQ6ncV"
      },
      "source": [
        "sid = SentimentIntensityAnalyzer()"
      ],
      "execution_count": 45,
      "outputs": []
    },
    {
      "cell_type": "code",
      "metadata": {
        "colab": {
          "base_uri": "https://localhost:8080/",
          "height": 296
        },
        "id": "MffLpJiX8XvI",
        "outputId": "75009f6b-37cf-46be-b6f4-eb2255477431"
      },
      "source": [
        "test_a['scores'] = test_a['text'].apply(lambda review: sid.polarity_scores(review))\n",
        "\n",
        "test_a.head()"
      ],
      "execution_count": 48,
      "outputs": [
        {
          "output_type": "stream",
          "text": [
            "/usr/local/lib/python3.7/dist-packages/ipykernel_launcher.py:1: SettingWithCopyWarning: \n",
            "A value is trying to be set on a copy of a slice from a DataFrame.\n",
            "Try using .loc[row_indexer,col_indexer] = value instead\n",
            "\n",
            "See the caveats in the documentation: https://pandas.pydata.org/pandas-docs/stable/user_guide/indexing.html#returning-a-view-versus-a-copy\n",
            "  \"\"\"Entry point for launching an IPython kernel.\n"
          ],
          "name": "stderr"
        },
        {
          "output_type": "execute_result",
          "data": {
            "text/html": [
              "<div>\n",
              "<style scoped>\n",
              "    .dataframe tbody tr th:only-of-type {\n",
              "        vertical-align: middle;\n",
              "    }\n",
              "\n",
              "    .dataframe tbody tr th {\n",
              "        vertical-align: top;\n",
              "    }\n",
              "\n",
              "    .dataframe thead th {\n",
              "        text-align: right;\n",
              "    }\n",
              "</style>\n",
              "<table border=\"1\" class=\"dataframe\">\n",
              "  <thead>\n",
              "    <tr style=\"text-align: right;\">\n",
              "      <th></th>\n",
              "      <th>polarity</th>\n",
              "      <th>id</th>\n",
              "      <th>text</th>\n",
              "      <th>scores</th>\n",
              "    </tr>\n",
              "  </thead>\n",
              "  <tbody>\n",
              "    <tr>\n",
              "      <th>402563</th>\n",
              "      <td>0</td>\n",
              "      <td>2057965783</td>\n",
              "      <td>is going to bed now after a day of hard work -...</td>\n",
              "      <td>{'neg': 0.067, 'neu': 0.813, 'pos': 0.12, 'com...</td>\n",
              "    </tr>\n",
              "    <tr>\n",
              "      <th>1558129</th>\n",
              "      <td>1</td>\n",
              "      <td>2185758509</td>\n",
              "      <td>@lilxicanita aww mecheee you can be my friend....</td>\n",
              "      <td>{'neg': 0.0, 'neu': 1.0, 'pos': 0.0, 'compound...</td>\n",
              "    </tr>\n",
              "    <tr>\n",
              "      <th>1415201</th>\n",
              "      <td>1</td>\n",
              "      <td>2057173199</td>\n",
              "      <td>having my big brother open for me is a dream c...</td>\n",
              "      <td>{'neg': 0.0, 'neu': 0.779, 'pos': 0.221, 'comp...</td>\n",
              "    </tr>\n",
              "    <tr>\n",
              "      <th>1112565</th>\n",
              "      <td>1</td>\n",
              "      <td>1972437650</td>\n",
              "      <td>acting going well. will reach goal by God's gr...</td>\n",
              "      <td>{'neg': 0.0, 'neu': 0.5, 'pos': 0.5, 'compound...</td>\n",
              "    </tr>\n",
              "    <tr>\n",
              "      <th>706645</th>\n",
              "      <td>0</td>\n",
              "      <td>2256751423</td>\n",
              "      <td>@morganmovement what?! Wtf happened?! I'm doin...</td>\n",
              "      <td>{'neg': 0.24, 'neu': 0.76, 'pos': 0.0, 'compou...</td>\n",
              "    </tr>\n",
              "  </tbody>\n",
              "</table>\n",
              "</div>"
            ],
            "text/plain": [
              "         polarity  ...                                             scores\n",
              "402563          0  ...  {'neg': 0.067, 'neu': 0.813, 'pos': 0.12, 'com...\n",
              "1558129         1  ...  {'neg': 0.0, 'neu': 1.0, 'pos': 0.0, 'compound...\n",
              "1415201         1  ...  {'neg': 0.0, 'neu': 0.779, 'pos': 0.221, 'comp...\n",
              "1112565         1  ...  {'neg': 0.0, 'neu': 0.5, 'pos': 0.5, 'compound...\n",
              "706645          0  ...  {'neg': 0.24, 'neu': 0.76, 'pos': 0.0, 'compou...\n",
              "\n",
              "[5 rows x 4 columns]"
            ]
          },
          "metadata": {
            "tags": []
          },
          "execution_count": 48
        }
      ]
    },
    {
      "cell_type": "code",
      "metadata": {
        "colab": {
          "base_uri": "https://localhost:8080/",
          "height": 296
        },
        "id": "3EwJ8Ndy-zkr",
        "outputId": "6aeceea7-cafa-4a29-9137-97037b1c149f"
      },
      "source": [
        "test_a['compound']  = test_a['scores'].apply(lambda score_dict: score_dict['compound'])\n",
        "\n",
        "test_a.head()"
      ],
      "execution_count": 49,
      "outputs": [
        {
          "output_type": "stream",
          "text": [
            "/usr/local/lib/python3.7/dist-packages/ipykernel_launcher.py:1: SettingWithCopyWarning: \n",
            "A value is trying to be set on a copy of a slice from a DataFrame.\n",
            "Try using .loc[row_indexer,col_indexer] = value instead\n",
            "\n",
            "See the caveats in the documentation: https://pandas.pydata.org/pandas-docs/stable/user_guide/indexing.html#returning-a-view-versus-a-copy\n",
            "  \"\"\"Entry point for launching an IPython kernel.\n"
          ],
          "name": "stderr"
        },
        {
          "output_type": "execute_result",
          "data": {
            "text/html": [
              "<div>\n",
              "<style scoped>\n",
              "    .dataframe tbody tr th:only-of-type {\n",
              "        vertical-align: middle;\n",
              "    }\n",
              "\n",
              "    .dataframe tbody tr th {\n",
              "        vertical-align: top;\n",
              "    }\n",
              "\n",
              "    .dataframe thead th {\n",
              "        text-align: right;\n",
              "    }\n",
              "</style>\n",
              "<table border=\"1\" class=\"dataframe\">\n",
              "  <thead>\n",
              "    <tr style=\"text-align: right;\">\n",
              "      <th></th>\n",
              "      <th>polarity</th>\n",
              "      <th>id</th>\n",
              "      <th>text</th>\n",
              "      <th>scores</th>\n",
              "      <th>compound</th>\n",
              "    </tr>\n",
              "  </thead>\n",
              "  <tbody>\n",
              "    <tr>\n",
              "      <th>402563</th>\n",
              "      <td>0</td>\n",
              "      <td>2057965783</td>\n",
              "      <td>is going to bed now after a day of hard work -...</td>\n",
              "      <td>{'neg': 0.067, 'neu': 0.813, 'pos': 0.12, 'com...</td>\n",
              "      <td>0.2732</td>\n",
              "    </tr>\n",
              "    <tr>\n",
              "      <th>1558129</th>\n",
              "      <td>1</td>\n",
              "      <td>2185758509</td>\n",
              "      <td>@lilxicanita aww mecheee you can be my friend....</td>\n",
              "      <td>{'neg': 0.0, 'neu': 1.0, 'pos': 0.0, 'compound...</td>\n",
              "      <td>0.0000</td>\n",
              "    </tr>\n",
              "    <tr>\n",
              "      <th>1415201</th>\n",
              "      <td>1</td>\n",
              "      <td>2057173199</td>\n",
              "      <td>having my big brother open for me is a dream c...</td>\n",
              "      <td>{'neg': 0.0, 'neu': 0.779, 'pos': 0.221, 'comp...</td>\n",
              "      <td>0.5905</td>\n",
              "    </tr>\n",
              "    <tr>\n",
              "      <th>1112565</th>\n",
              "      <td>1</td>\n",
              "      <td>1972437650</td>\n",
              "      <td>acting going well. will reach goal by God's gr...</td>\n",
              "      <td>{'neg': 0.0, 'neu': 0.5, 'pos': 0.5, 'compound...</td>\n",
              "      <td>0.6124</td>\n",
              "    </tr>\n",
              "    <tr>\n",
              "      <th>706645</th>\n",
              "      <td>0</td>\n",
              "      <td>2256751423</td>\n",
              "      <td>@morganmovement what?! Wtf happened?! I'm doin...</td>\n",
              "      <td>{'neg': 0.24, 'neu': 0.76, 'pos': 0.0, 'compou...</td>\n",
              "      <td>-0.6950</td>\n",
              "    </tr>\n",
              "  </tbody>\n",
              "</table>\n",
              "</div>"
            ],
            "text/plain": [
              "         polarity  ...  compound\n",
              "402563          0  ...    0.2732\n",
              "1558129         1  ...    0.0000\n",
              "1415201         1  ...    0.5905\n",
              "1112565         1  ...    0.6124\n",
              "706645          0  ...   -0.6950\n",
              "\n",
              "[5 rows x 5 columns]"
            ]
          },
          "metadata": {
            "tags": []
          },
          "execution_count": 49
        }
      ]
    },
    {
      "cell_type": "code",
      "metadata": {
        "colab": {
          "base_uri": "https://localhost:8080/",
          "height": 296
        },
        "id": "1ry7sr4G_W4u",
        "outputId": "8054725e-bb21-439d-9eb2-985e81478b33"
      },
      "source": [
        "test_a['label'] = test_a['compound'].apply(lambda c: 1 if c >=0.05 else 0)\n",
        "\n",
        "test_a.head()"
      ],
      "execution_count": 50,
      "outputs": [
        {
          "output_type": "stream",
          "text": [
            "/usr/local/lib/python3.7/dist-packages/ipykernel_launcher.py:1: SettingWithCopyWarning: \n",
            "A value is trying to be set on a copy of a slice from a DataFrame.\n",
            "Try using .loc[row_indexer,col_indexer] = value instead\n",
            "\n",
            "See the caveats in the documentation: https://pandas.pydata.org/pandas-docs/stable/user_guide/indexing.html#returning-a-view-versus-a-copy\n",
            "  \"\"\"Entry point for launching an IPython kernel.\n"
          ],
          "name": "stderr"
        },
        {
          "output_type": "execute_result",
          "data": {
            "text/html": [
              "<div>\n",
              "<style scoped>\n",
              "    .dataframe tbody tr th:only-of-type {\n",
              "        vertical-align: middle;\n",
              "    }\n",
              "\n",
              "    .dataframe tbody tr th {\n",
              "        vertical-align: top;\n",
              "    }\n",
              "\n",
              "    .dataframe thead th {\n",
              "        text-align: right;\n",
              "    }\n",
              "</style>\n",
              "<table border=\"1\" class=\"dataframe\">\n",
              "  <thead>\n",
              "    <tr style=\"text-align: right;\">\n",
              "      <th></th>\n",
              "      <th>polarity</th>\n",
              "      <th>id</th>\n",
              "      <th>text</th>\n",
              "      <th>scores</th>\n",
              "      <th>compound</th>\n",
              "      <th>label</th>\n",
              "    </tr>\n",
              "  </thead>\n",
              "  <tbody>\n",
              "    <tr>\n",
              "      <th>402563</th>\n",
              "      <td>0</td>\n",
              "      <td>2057965783</td>\n",
              "      <td>is going to bed now after a day of hard work -...</td>\n",
              "      <td>{'neg': 0.067, 'neu': 0.813, 'pos': 0.12, 'com...</td>\n",
              "      <td>0.2732</td>\n",
              "      <td>1</td>\n",
              "    </tr>\n",
              "    <tr>\n",
              "      <th>1558129</th>\n",
              "      <td>1</td>\n",
              "      <td>2185758509</td>\n",
              "      <td>@lilxicanita aww mecheee you can be my friend....</td>\n",
              "      <td>{'neg': 0.0, 'neu': 1.0, 'pos': 0.0, 'compound...</td>\n",
              "      <td>0.0000</td>\n",
              "      <td>0</td>\n",
              "    </tr>\n",
              "    <tr>\n",
              "      <th>1415201</th>\n",
              "      <td>1</td>\n",
              "      <td>2057173199</td>\n",
              "      <td>having my big brother open for me is a dream c...</td>\n",
              "      <td>{'neg': 0.0, 'neu': 0.779, 'pos': 0.221, 'comp...</td>\n",
              "      <td>0.5905</td>\n",
              "      <td>1</td>\n",
              "    </tr>\n",
              "    <tr>\n",
              "      <th>1112565</th>\n",
              "      <td>1</td>\n",
              "      <td>1972437650</td>\n",
              "      <td>acting going well. will reach goal by God's gr...</td>\n",
              "      <td>{'neg': 0.0, 'neu': 0.5, 'pos': 0.5, 'compound...</td>\n",
              "      <td>0.6124</td>\n",
              "      <td>1</td>\n",
              "    </tr>\n",
              "    <tr>\n",
              "      <th>706645</th>\n",
              "      <td>0</td>\n",
              "      <td>2256751423</td>\n",
              "      <td>@morganmovement what?! Wtf happened?! I'm doin...</td>\n",
              "      <td>{'neg': 0.24, 'neu': 0.76, 'pos': 0.0, 'compou...</td>\n",
              "      <td>-0.6950</td>\n",
              "      <td>0</td>\n",
              "    </tr>\n",
              "  </tbody>\n",
              "</table>\n",
              "</div>"
            ],
            "text/plain": [
              "         polarity          id  ... compound label\n",
              "402563          0  2057965783  ...   0.2732     1\n",
              "1558129         1  2185758509  ...   0.0000     0\n",
              "1415201         1  2057173199  ...   0.5905     1\n",
              "1112565         1  1972437650  ...   0.6124     1\n",
              "706645          0  2256751423  ...  -0.6950     0\n",
              "\n",
              "[5 rows x 6 columns]"
            ]
          },
          "metadata": {
            "tags": []
          },
          "execution_count": 50
        }
      ]
    },
    {
      "cell_type": "code",
      "metadata": {
        "colab": {
          "base_uri": "https://localhost:8080/"
        },
        "id": "w308gc5a7Qgr",
        "outputId": "12745062-190c-4e22-9c76-82f847e632e5"
      },
      "source": [
        "test_a['category'] = test_a['compound'].apply(lambda c: 'Positive' if c >=0.05 else 'Negative')"
      ],
      "execution_count": 51,
      "outputs": [
        {
          "output_type": "stream",
          "text": [
            "/usr/local/lib/python3.7/dist-packages/ipykernel_launcher.py:1: SettingWithCopyWarning: \n",
            "A value is trying to be set on a copy of a slice from a DataFrame.\n",
            "Try using .loc[row_indexer,col_indexer] = value instead\n",
            "\n",
            "See the caveats in the documentation: https://pandas.pydata.org/pandas-docs/stable/user_guide/indexing.html#returning-a-view-versus-a-copy\n",
            "  \"\"\"Entry point for launching an IPython kernel.\n"
          ],
          "name": "stderr"
        }
      ]
    },
    {
      "cell_type": "code",
      "metadata": {
        "colab": {
          "base_uri": "https://localhost:8080/",
          "height": 402
        },
        "id": "R6xPfQw-4nu9",
        "outputId": "10946c5e-d3a2-46c1-b644-68ea4030ff48"
      },
      "source": [
        "test_a"
      ],
      "execution_count": 52,
      "outputs": [
        {
          "output_type": "execute_result",
          "data": {
            "text/html": [
              "<div>\n",
              "<style scoped>\n",
              "    .dataframe tbody tr th:only-of-type {\n",
              "        vertical-align: middle;\n",
              "    }\n",
              "\n",
              "    .dataframe tbody tr th {\n",
              "        vertical-align: top;\n",
              "    }\n",
              "\n",
              "    .dataframe thead th {\n",
              "        text-align: right;\n",
              "    }\n",
              "</style>\n",
              "<table border=\"1\" class=\"dataframe\">\n",
              "  <thead>\n",
              "    <tr style=\"text-align: right;\">\n",
              "      <th></th>\n",
              "      <th>polarity</th>\n",
              "      <th>id</th>\n",
              "      <th>text</th>\n",
              "      <th>scores</th>\n",
              "      <th>compound</th>\n",
              "      <th>label</th>\n",
              "      <th>category</th>\n",
              "    </tr>\n",
              "  </thead>\n",
              "  <tbody>\n",
              "    <tr>\n",
              "      <th>402563</th>\n",
              "      <td>0</td>\n",
              "      <td>2057965783</td>\n",
              "      <td>is going to bed now after a day of hard work -...</td>\n",
              "      <td>{'neg': 0.067, 'neu': 0.813, 'pos': 0.12, 'com...</td>\n",
              "      <td>0.2732</td>\n",
              "      <td>1</td>\n",
              "      <td>Positive</td>\n",
              "    </tr>\n",
              "    <tr>\n",
              "      <th>1558129</th>\n",
              "      <td>1</td>\n",
              "      <td>2185758509</td>\n",
              "      <td>@lilxicanita aww mecheee you can be my friend....</td>\n",
              "      <td>{'neg': 0.0, 'neu': 1.0, 'pos': 0.0, 'compound...</td>\n",
              "      <td>0.0000</td>\n",
              "      <td>0</td>\n",
              "      <td>Negative</td>\n",
              "    </tr>\n",
              "    <tr>\n",
              "      <th>1415201</th>\n",
              "      <td>1</td>\n",
              "      <td>2057173199</td>\n",
              "      <td>having my big brother open for me is a dream c...</td>\n",
              "      <td>{'neg': 0.0, 'neu': 0.779, 'pos': 0.221, 'comp...</td>\n",
              "      <td>0.5905</td>\n",
              "      <td>1</td>\n",
              "      <td>Positive</td>\n",
              "    </tr>\n",
              "    <tr>\n",
              "      <th>1112565</th>\n",
              "      <td>1</td>\n",
              "      <td>1972437650</td>\n",
              "      <td>acting going well. will reach goal by God's gr...</td>\n",
              "      <td>{'neg': 0.0, 'neu': 0.5, 'pos': 0.5, 'compound...</td>\n",
              "      <td>0.6124</td>\n",
              "      <td>1</td>\n",
              "      <td>Positive</td>\n",
              "    </tr>\n",
              "    <tr>\n",
              "      <th>706645</th>\n",
              "      <td>0</td>\n",
              "      <td>2256751423</td>\n",
              "      <td>@morganmovement what?! Wtf happened?! I'm doin...</td>\n",
              "      <td>{'neg': 0.24, 'neu': 0.76, 'pos': 0.0, 'compou...</td>\n",
              "      <td>-0.6950</td>\n",
              "      <td>0</td>\n",
              "      <td>Negative</td>\n",
              "    </tr>\n",
              "    <tr>\n",
              "      <th>...</th>\n",
              "      <td>...</td>\n",
              "      <td>...</td>\n",
              "      <td>...</td>\n",
              "      <td>...</td>\n",
              "      <td>...</td>\n",
              "      <td>...</td>\n",
              "      <td>...</td>\n",
              "    </tr>\n",
              "    <tr>\n",
              "      <th>1087432</th>\n",
              "      <td>1</td>\n",
              "      <td>1969428366</td>\n",
              "      <td>@mileycyrus http://twitpic.com/5ppwd - I have ...</td>\n",
              "      <td>{'neg': 0.0, 'neu': 1.0, 'pos': 0.0, 'compound...</td>\n",
              "      <td>0.0000</td>\n",
              "      <td>0</td>\n",
              "      <td>Negative</td>\n",
              "    </tr>\n",
              "    <tr>\n",
              "      <th>1520516</th>\n",
              "      <td>1</td>\n",
              "      <td>2176208137</td>\n",
              "      <td>@gin_lady thanks, lots of sleep and knitting s...</td>\n",
              "      <td>{'neg': 0.0, 'neu': 0.556, 'pos': 0.444, 'comp...</td>\n",
              "      <td>0.6808</td>\n",
              "      <td>1</td>\n",
              "      <td>Positive</td>\n",
              "    </tr>\n",
              "    <tr>\n",
              "      <th>728046</th>\n",
              "      <td>0</td>\n",
              "      <td>2262970033</td>\n",
              "      <td>just watched like a three hour movie arizona i...</td>\n",
              "      <td>{'neg': 0.0, 'neu': 0.839, 'pos': 0.161, 'comp...</td>\n",
              "      <td>0.3612</td>\n",
              "      <td>1</td>\n",
              "      <td>Positive</td>\n",
              "    </tr>\n",
              "    <tr>\n",
              "      <th>285604</th>\n",
              "      <td>0</td>\n",
              "      <td>1993657523</td>\n",
              "      <td>I saw all the 'tussen de oren' episodes and f...</td>\n",
              "      <td>{'neg': 0.255, 'neu': 0.745, 'pos': 0.0, 'comp...</td>\n",
              "      <td>-0.7316</td>\n",
              "      <td>0</td>\n",
              "      <td>Negative</td>\n",
              "    </tr>\n",
              "    <tr>\n",
              "      <th>1311901</th>\n",
              "      <td>1</td>\n",
              "      <td>2013537005</td>\n",
              "      <td>He say Im special.  *bllush</td>\n",
              "      <td>{'neg': 0.0, 'neu': 0.597, 'pos': 0.403, 'comp...</td>\n",
              "      <td>0.4019</td>\n",
              "      <td>1</td>\n",
              "      <td>Positive</td>\n",
              "    </tr>\n",
              "  </tbody>\n",
              "</table>\n",
              "<p>320000 rows × 7 columns</p>\n",
              "</div>"
            ],
            "text/plain": [
              "         polarity          id  ... label  category\n",
              "402563          0  2057965783  ...     1  Positive\n",
              "1558129         1  2185758509  ...     0  Negative\n",
              "1415201         1  2057173199  ...     1  Positive\n",
              "1112565         1  1972437650  ...     1  Positive\n",
              "706645          0  2256751423  ...     0  Negative\n",
              "...           ...         ...  ...   ...       ...\n",
              "1087432         1  1969428366  ...     0  Negative\n",
              "1520516         1  2176208137  ...     1  Positive\n",
              "728046          0  2262970033  ...     1  Positive\n",
              "285604          0  1993657523  ...     0  Negative\n",
              "1311901         1  2013537005  ...     1  Positive\n",
              "\n",
              "[320000 rows x 7 columns]"
            ]
          },
          "metadata": {
            "tags": []
          },
          "execution_count": 52
        }
      ]
    },
    {
      "cell_type": "markdown",
      "metadata": {
        "id": "utSqPJSSmUR9"
      },
      "source": [
        "Here, the column 'label' is the predicted label for the given texts in the test set. therefore, we compare labels with the provided 'polarity' values in the test set to calculate the needed metrics:"
      ]
    },
    {
      "cell_type": "code",
      "metadata": {
        "colab": {
          "base_uri": "https://localhost:8080/"
        },
        "id": "lJjUatZE_pXO",
        "outputId": "a87a151f-52ec-401a-8c84-277e01bc1c1b"
      },
      "source": [
        "print('*** Evaluation of Vader ***')\n",
        "print('Precision:', sklearn.metrics.precision_score(test_a['polarity'], test_a['label']))\n",
        "print('Recall:', sklearn.metrics.recall_score(test_a['polarity'],test_a['label']))\n",
        "print('F1 Score:', sklearn.metrics.f1_score(test_a['label'], test_a['polarity'], average='macro'))\n",
        "print('***')"
      ],
      "execution_count": 53,
      "outputs": [
        {
          "output_type": "stream",
          "text": [
            "*** Evaluation of Vader ***\n",
            "Precision: 0.6629461878572199\n",
            "Recall: 0.6147423157210535\n",
            "F1 Score: 0.6506322813028218\n",
            "***\n"
          ],
          "name": "stdout"
        }
      ]
    },
    {
      "cell_type": "code",
      "metadata": {
        "colab": {
          "base_uri": "https://localhost:8080/"
        },
        "id": "U23vkdvamx4U",
        "outputId": "e66a3b36-6713-4b3a-804c-434233557403"
      },
      "source": [
        "vader_prec=sklearn.metrics.precision_score(test_a['polarity'], test_a['label'])\n",
        "vader_rec=sklearn.metrics.recall_score(test_a['polarity'],test_a['label'])\n",
        "vader_f1=sklearn.metrics.f1_score(test_a['label'], test_a['polarity'], average='macro')\n",
        "vader_met=[vader_prec, vader_rec, vader_f1]\n",
        "vader_met"
      ],
      "execution_count": 54,
      "outputs": [
        {
          "output_type": "execute_result",
          "data": {
            "text/plain": [
              "[0.6629461878572199, 0.6147423157210535, 0.6506322813028218]"
            ]
          },
          "metadata": {
            "tags": []
          },
          "execution_count": 54
        }
      ]
    },
    {
      "cell_type": "markdown",
      "metadata": {
        "id": "UFcDRId7nq8u"
      },
      "source": [
        "Appending the computed metrics into the dataframe with other models' metrics for comparison:"
      ]
    },
    {
      "cell_type": "code",
      "metadata": {
        "colab": {
          "base_uri": "https://localhost:8080/",
          "height": 136
        },
        "id": "cJdFgiYhn50q",
        "outputId": "baaaaa4e-01dd-4744-b6c9-ee8a63b8e723"
      },
      "source": [
        "metric_df.insert(4, 'Vader defaults', vader_met)\n",
        "metric_df"
      ],
      "execution_count": 55,
      "outputs": [
        {
          "output_type": "execute_result",
          "data": {
            "text/html": [
              "<div>\n",
              "<style scoped>\n",
              "    .dataframe tbody tr th:only-of-type {\n",
              "        vertical-align: middle;\n",
              "    }\n",
              "\n",
              "    .dataframe tbody tr th {\n",
              "        vertical-align: top;\n",
              "    }\n",
              "\n",
              "    .dataframe thead th {\n",
              "        text-align: right;\n",
              "    }\n",
              "</style>\n",
              "<table border=\"1\" class=\"dataframe\">\n",
              "  <thead>\n",
              "    <tr style=\"text-align: right;\">\n",
              "      <th></th>\n",
              "      <th>SVC()</th>\n",
              "      <th>MultinomialNB()</th>\n",
              "      <th>RandomForestClassifier()</th>\n",
              "      <th>LSTM</th>\n",
              "      <th>Vader defaults</th>\n",
              "    </tr>\n",
              "  </thead>\n",
              "  <tbody>\n",
              "    <tr>\n",
              "      <th>precision</th>\n",
              "      <td>0.550243</td>\n",
              "      <td>0.800344</td>\n",
              "      <td>0.739842</td>\n",
              "      <td>0.820913</td>\n",
              "      <td>0.662946</td>\n",
              "    </tr>\n",
              "    <tr>\n",
              "      <th>recall</th>\n",
              "      <td>0.234978</td>\n",
              "      <td>0.728078</td>\n",
              "      <td>0.717716</td>\n",
              "      <td>0.764122</td>\n",
              "      <td>0.614742</td>\n",
              "    </tr>\n",
              "    <tr>\n",
              "      <th>F1 Score</th>\n",
              "      <td>0.478667</td>\n",
              "      <td>0.772759</td>\n",
              "      <td>0.732606</td>\n",
              "      <td>0.798468</td>\n",
              "      <td>0.650632</td>\n",
              "    </tr>\n",
              "  </tbody>\n",
              "</table>\n",
              "</div>"
            ],
            "text/plain": [
              "              SVC()  MultinomialNB()  ...      LSTM  Vader defaults\n",
              "precision  0.550243         0.800344  ...  0.820913        0.662946\n",
              "recall     0.234978         0.728078  ...  0.764122        0.614742\n",
              "F1 Score   0.478667         0.772759  ...  0.798468        0.650632\n",
              "\n",
              "[3 rows x 5 columns]"
            ]
          },
          "metadata": {
            "tags": []
          },
          "execution_count": 55
        }
      ]
    },
    {
      "cell_type": "markdown",
      "metadata": {
        "id": "kstmzN4UoUlj"
      },
      "source": [
        "Observation:\n",
        "This approach using Vader defaults in terms of prediction quality is not upto the mark in comparison to models like LSTM or Multinomial Naive Bayes. It can however be deemed as a reasonable competitor due to the fact that it does not require training on huge datasets like the other four models. Also this method is easier to compute than the remaining models. So it is an interesting tradeoff to consider when dealing with huge datasets like the one in this assignment. The pretrained data in the Vader lexicon does have noticeable impact."
      ]
    },
    {
      "cell_type": "markdown",
      "metadata": {
        "id": "juTxUGkBBDTU"
      },
      "source": [
        "Bonus (30 points): Try the following things to improve the LSTM model:\n",
        "1) Use 90% training data, 10% testing\n",
        "2) Remove stopwords from the tweets.\n",
        "3) Remove all user mentions for the tweets (@something)\n",
        "Compare all three new models in terms of their precision, recall and F1 score. Answer the\n",
        "following questions: Did this change the results in any way? Why do you think so?"
      ]
    },
    {
      "cell_type": "markdown",
      "metadata": {
        "id": "oArkyHVIFPwe"
      },
      "source": [
        "1. Using 90% training data\n",
        "\n"
      ]
    },
    {
      "cell_type": "code",
      "metadata": {
        "colab": {
          "base_uri": "https://localhost:8080/"
        },
        "id": "7WCQyIFGBVK1",
        "outputId": "13ab8c46-4b69-437c-f0c7-986a13e5d0a3"
      },
      "source": [
        "training_2=training_set.loc[(training_set['polarity']==0) | (training_set['polarity']==4)]\n",
        "training_2=training_2.drop(['date','query','user'], axis=1)\n",
        "train_a, test_a = train_test_split(training_2, test_size=0.10, random_state=2361)\n",
        "train_a.shape"
      ],
      "execution_count": 28,
      "outputs": [
        {
          "output_type": "execute_result",
          "data": {
            "text/plain": [
              "(1440000, 3)"
            ]
          },
          "metadata": {
            "tags": []
          },
          "execution_count": 28
        }
      ]
    },
    {
      "cell_type": "code",
      "metadata": {
        "colab": {
          "base_uri": "https://localhost:8080/"
        },
        "id": "R0aULGyECs2l",
        "outputId": "f744d722-a7e9-40c2-ef50-cdd0e819b47a"
      },
      "source": [
        "X=list(train_a['text'].values)\n",
        "print(X[0])\n",
        "\n",
        "allreviews = np.concatenate((train_a['text'], test_a['text']), axis=0)\n",
        "allreviews=allreviews.tolist()\n",
        "# print(allreviews[:3])"
      ],
      "execution_count": 29,
      "outputs": [
        {
          "output_type": "stream",
          "text": [
            "@HayyItsRay He played ball with me \n"
          ],
          "name": "stdout"
        }
      ]
    },
    {
      "cell_type": "code",
      "metadata": {
        "id": "wbodea55C0dO"
      },
      "source": [
        "enc=[]\n",
        "tokenizer=Tokenizer(filters='')\n",
        "tokenizer.fit_on_texts(X)\n",
        "enc=tokenizer.texts_to_sequences(X)"
      ],
      "execution_count": 30,
      "outputs": []
    },
    {
      "cell_type": "code",
      "metadata": {
        "colab": {
          "base_uri": "https://localhost:8080/"
        },
        "id": "MtrwK4NnDNRX",
        "outputId": "7168d51b-4760-4b1b-f30e-e5fbe555135a"
      },
      "source": [
        "vocab_size = len(tokenizer.word_index) + 1\n",
        "print(\"vocab size {}\".format(vocab_size))\n",
        "\n",
        "max_review_len = len(max((enc), key=len))\n",
        "\n",
        "print(\"Maximum review length: {}\".format(len(max((enc), key=len))))\n",
        "print(\"Minimum review length: {}\".format(len(min((enc), key=len))))\n",
        "result = [len(x) for x in enc]\n",
        "print(\"Mean review length: {}\".format(np.mean(result)))"
      ],
      "execution_count": 31,
      "outputs": [
        {
          "output_type": "stream",
          "text": [
            "vocab size 1106684\n",
            "Maximum review length: 64\n",
            "Minimum review length: 1\n",
            "Mean review length: 13.175793055555555\n"
          ],
          "name": "stdout"
        }
      ]
    },
    {
      "cell_type": "code",
      "metadata": {
        "id": "mHW5h31vDbxz"
      },
      "source": [
        "X= sequence.pad_sequences(enc, maxlen=max_review_len)"
      ],
      "execution_count": 32,
      "outputs": []
    },
    {
      "cell_type": "code",
      "metadata": {
        "colab": {
          "base_uri": "https://localhost:8080/",
          "height": 486
        },
        "id": "o2acBYqsDqFC",
        "outputId": "a184001a-a64c-4500-dd43-66c3156d0250"
      },
      "source": [
        "train_a.insert(3,\"encoded_list\", X.tolist())\n",
        "train_a[\"polarity\"].replace({4: 1}, inplace=True)\n",
        "train_a.head()"
      ],
      "execution_count": 33,
      "outputs": [
        {
          "output_type": "stream",
          "text": [
            "/usr/local/lib/python3.7/dist-packages/pandas/core/series.py:4582: SettingWithCopyWarning: \n",
            "A value is trying to be set on a copy of a slice from a DataFrame\n",
            "\n",
            "See the caveats in the documentation: https://pandas.pydata.org/pandas-docs/stable/user_guide/indexing.html#returning-a-view-versus-a-copy\n",
            "  method=method,\n"
          ],
          "name": "stderr"
        },
        {
          "output_type": "execute_result",
          "data": {
            "text/html": [
              "<div>\n",
              "<style scoped>\n",
              "    .dataframe tbody tr th:only-of-type {\n",
              "        vertical-align: middle;\n",
              "    }\n",
              "\n",
              "    .dataframe tbody tr th {\n",
              "        vertical-align: top;\n",
              "    }\n",
              "\n",
              "    .dataframe thead th {\n",
              "        text-align: right;\n",
              "    }\n",
              "</style>\n",
              "<table border=\"1\" class=\"dataframe\">\n",
              "  <thead>\n",
              "    <tr style=\"text-align: right;\">\n",
              "      <th></th>\n",
              "      <th>polarity</th>\n",
              "      <th>id</th>\n",
              "      <th>text</th>\n",
              "      <th>encoded_list</th>\n",
              "    </tr>\n",
              "  </thead>\n",
              "  <tbody>\n",
              "    <tr>\n",
              "      <th>812727</th>\n",
              "      <td>1</td>\n",
              "      <td>1548585505</td>\n",
              "      <td>@HayyItsRay He played ball with me</td>\n",
              "      <td>[0, 0, 0, 0, 0, 0, 0, 0, 0, 0, 0, 0, 0, 0, 0, ...</td>\n",
              "    </tr>\n",
              "    <tr>\n",
              "      <th>1181014</th>\n",
              "      <td>1</td>\n",
              "      <td>1982017100</td>\n",
              "      <td>Had a great weekend with Laura and Sophie. Fun...</td>\n",
              "      <td>[0, 0, 0, 0, 0, 0, 0, 0, 0, 0, 0, 0, 0, 0, 0, ...</td>\n",
              "    </tr>\n",
              "    <tr>\n",
              "      <th>1056171</th>\n",
              "      <td>1</td>\n",
              "      <td>1962417726</td>\n",
              "      <td>Any shiny and *new* Tweeps need some love? Fir...</td>\n",
              "      <td>[0, 0, 0, 0, 0, 0, 0, 0, 0, 0, 0, 0, 0, 0, 0, ...</td>\n",
              "    </tr>\n",
              "    <tr>\n",
              "      <th>1433316</th>\n",
              "      <td>1</td>\n",
              "      <td>2060420387</td>\n",
              "      <td>@leadHership I'd hand you a tissue, but my box...</td>\n",
              "      <td>[0, 0, 0, 0, 0, 0, 0, 0, 0, 0, 0, 0, 0, 0, 0, ...</td>\n",
              "    </tr>\n",
              "    <tr>\n",
              "      <th>121441</th>\n",
              "      <td>0</td>\n",
              "      <td>1833514260</td>\n",
              "      <td>@KristinaMenzies getting rid of the fish tail ...</td>\n",
              "      <td>[0, 0, 0, 0, 0, 0, 0, 0, 0, 0, 0, 0, 0, 0, 0, ...</td>\n",
              "    </tr>\n",
              "    <tr>\n",
              "      <th>...</th>\n",
              "      <td>...</td>\n",
              "      <td>...</td>\n",
              "      <td>...</td>\n",
              "      <td>...</td>\n",
              "    </tr>\n",
              "    <tr>\n",
              "      <th>416808</th>\n",
              "      <td>0</td>\n",
              "      <td>2061386238</td>\n",
              "      <td>@thisisbree I feel your pain.</td>\n",
              "      <td>[0, 0, 0, 0, 0, 0, 0, 0, 0, 0, 0, 0, 0, 0, 0, ...</td>\n",
              "    </tr>\n",
              "    <tr>\n",
              "      <th>1216020</th>\n",
              "      <td>1</td>\n",
              "      <td>1989600398</td>\n",
              "      <td>@mileycyrus http://twitpic.com/6dvj4 - love yo...</td>\n",
              "      <td>[0, 0, 0, 0, 0, 0, 0, 0, 0, 0, 0, 0, 0, 0, 0, ...</td>\n",
              "    </tr>\n",
              "    <tr>\n",
              "      <th>1574656</th>\n",
              "      <td>1</td>\n",
              "      <td>2189269465</td>\n",
              "      <td>@Milereb Just agreed with my boss that I can l...</td>\n",
              "      <td>[0, 0, 0, 0, 0, 0, 0, 0, 0, 0, 0, 0, 0, 0, 0, ...</td>\n",
              "    </tr>\n",
              "    <tr>\n",
              "      <th>1569435</th>\n",
              "      <td>1</td>\n",
              "      <td>2188398571</td>\n",
              "      <td>@Helloself Hi!I I'm now following your. Lookin...</td>\n",
              "      <td>[0, 0, 0, 0, 0, 0, 0, 0, 0, 0, 0, 0, 0, 0, 0, ...</td>\n",
              "    </tr>\n",
              "    <tr>\n",
              "      <th>1561195</th>\n",
              "      <td>1</td>\n",
              "      <td>2186527161</td>\n",
              "      <td>@ashleytisdale  Wow this is so awesome!!  my c...</td>\n",
              "      <td>[0, 0, 0, 0, 0, 0, 0, 0, 0, 0, 0, 0, 0, 0, 0, ...</td>\n",
              "    </tr>\n",
              "  </tbody>\n",
              "</table>\n",
              "<p>1440000 rows × 4 columns</p>\n",
              "</div>"
            ],
            "text/plain": [
              "         polarity  ...                                       encoded_list\n",
              "812727          1  ...  [0, 0, 0, 0, 0, 0, 0, 0, 0, 0, 0, 0, 0, 0, 0, ...\n",
              "1181014         1  ...  [0, 0, 0, 0, 0, 0, 0, 0, 0, 0, 0, 0, 0, 0, 0, ...\n",
              "1056171         1  ...  [0, 0, 0, 0, 0, 0, 0, 0, 0, 0, 0, 0, 0, 0, 0, ...\n",
              "1433316         1  ...  [0, 0, 0, 0, 0, 0, 0, 0, 0, 0, 0, 0, 0, 0, 0, ...\n",
              "121441          0  ...  [0, 0, 0, 0, 0, 0, 0, 0, 0, 0, 0, 0, 0, 0, 0, ...\n",
              "...           ...  ...                                                ...\n",
              "416808          0  ...  [0, 0, 0, 0, 0, 0, 0, 0, 0, 0, 0, 0, 0, 0, 0, ...\n",
              "1216020         1  ...  [0, 0, 0, 0, 0, 0, 0, 0, 0, 0, 0, 0, 0, 0, 0, ...\n",
              "1574656         1  ...  [0, 0, 0, 0, 0, 0, 0, 0, 0, 0, 0, 0, 0, 0, 0, ...\n",
              "1569435         1  ...  [0, 0, 0, 0, 0, 0, 0, 0, 0, 0, 0, 0, 0, 0, 0, ...\n",
              "1561195         1  ...  [0, 0, 0, 0, 0, 0, 0, 0, 0, 0, 0, 0, 0, 0, 0, ...\n",
              "\n",
              "[1440000 rows x 4 columns]"
            ]
          },
          "metadata": {
            "tags": []
          },
          "execution_count": 33
        }
      ]
    },
    {
      "cell_type": "code",
      "metadata": {
        "colab": {
          "base_uri": "https://localhost:8080/"
        },
        "id": "-ZR2WycvDq0j",
        "outputId": "c4f0894d-784d-40fa-9dc5-297b0a79ab89"
      },
      "source": [
        "# designing the LSTM model\n",
        "model = tf.keras.models.Sequential()\n",
        "model.add(\n",
        "    tf.keras.layers.Embedding(\n",
        "        input_dim = vocab_size, # The size of our vocabulary \n",
        "        output_dim = 32, # Dimensions to which each words shall be mapped\n",
        "        input_length = max_review_len # Length of input sequences\n",
        "    )\n",
        ")\n",
        "\n",
        "model.add(\n",
        "    tf.keras.layers.Dropout(\n",
        "        rate=0.25 # Randomly disable 25% of neurons\n",
        "    )\n",
        ")\n",
        "\n",
        "model.add(\n",
        "    tf.keras.layers.LSTM(\n",
        "        units=32 # 32 LSTM units in this layer\n",
        "    )\n",
        ")\n",
        "\n",
        "model.add(\n",
        "    tf.keras.layers.Dropout(\n",
        "        rate=0.25 # Randomly disable 25% of neurons\n",
        "    )\n",
        ")\n",
        "\n",
        "model.add(\n",
        "    tf.keras.layers.Dense(\n",
        "        units=1, # Single unit\n",
        "        activation='sigmoid' # Sigmoid activation function (output from 0 to 1)\n",
        "    )\n",
        ")\n",
        "\n",
        "model.compile(\n",
        "    loss=tf.keras.losses.binary_crossentropy, # loss function\n",
        "    optimizer=tf.keras.optimizers.Adam(), # optimiser function\n",
        "    metrics=['accuracy'])\n",
        "model.summary()"
      ],
      "execution_count": 34,
      "outputs": [
        {
          "output_type": "stream",
          "text": [
            "Model: \"sequential_1\"\n",
            "_________________________________________________________________\n",
            "Layer (type)                 Output Shape              Param #   \n",
            "=================================================================\n",
            "embedding_1 (Embedding)      (None, 64, 32)            35413888  \n",
            "_________________________________________________________________\n",
            "dropout_2 (Dropout)          (None, 64, 32)            0         \n",
            "_________________________________________________________________\n",
            "lstm_1 (LSTM)                (None, 32)                8320      \n",
            "_________________________________________________________________\n",
            "dropout_3 (Dropout)          (None, 32)                0         \n",
            "_________________________________________________________________\n",
            "dense_1 (Dense)              (None, 1)                 33        \n",
            "=================================================================\n",
            "Total params: 35,422,241\n",
            "Trainable params: 35,422,241\n",
            "Non-trainable params: 0\n",
            "_________________________________________________________________\n"
          ],
          "name": "stdout"
        }
      ]
    },
    {
      "cell_type": "code",
      "metadata": {
        "colab": {
          "base_uri": "https://localhost:8080/",
          "height": 644
        },
        "id": "RcTE_GDBDyh1",
        "outputId": "be5fc9b0-c05c-4966-e0ca-0bf9582255a5"
      },
      "source": [
        "tf.keras.utils.plot_model(model, to_file='model.png', show_shapes=True, show_layer_names=False)"
      ],
      "execution_count": 35,
      "outputs": [
        {
          "output_type": "execute_result",
          "data": {
            "image/png": "[encoded data removed]",
            "text/plain": [
              "<IPython.core.display.Image object>"
            ]
          },
          "metadata": {
            "tags": []
          },
          "execution_count": 35
        }
      ]
    },
    {
      "cell_type": "code",
      "metadata": {
        "colab": {
          "base_uri": "https://localhost:8080/"
        },
        "id": "_IkCFLFYD2Sw",
        "outputId": "3fbe9cc5-86b0-45a9-c926-22282e3a6f69"
      },
      "source": [
        "y=train_a['polarity'].values\n",
        "print(len(y))\n",
        "print(y[:5])"
      ],
      "execution_count": 36,
      "outputs": [
        {
          "output_type": "stream",
          "text": [
            "1440000\n",
            "[1 1 1 1 0]\n"
          ],
          "name": "stdout"
        }
      ]
    },
    {
      "cell_type": "code",
      "metadata": {
        "colab": {
          "base_uri": "https://localhost:8080/"
        },
        "id": "Nt8UITXpD7cN",
        "outputId": "7888c9fa-42f1-409f-f823-0428e9a73d21"
      },
      "source": [
        "history = model.fit(\n",
        "    x=X, y=y,\n",
        "    batch_size=500, \n",
        "    epochs=3, \n",
        "    validation_split=0.2,\n",
        "    verbose=1\n",
        ")"
      ],
      "execution_count": 37,
      "outputs": [
        {
          "output_type": "stream",
          "text": [
            "Epoch 1/3\n",
            "2304/2304 [==============================] - 992s 430ms/step - loss: 0.4903 - accuracy: 0.7589 - val_loss: 0.4064 - val_accuracy: 0.8131\n",
            "Epoch 2/3\n",
            "2304/2304 [==============================] - 991s 430ms/step - loss: 0.3279 - accuracy: 0.8585 - val_loss: 0.4217 - val_accuracy: 0.8073\n",
            "Epoch 3/3\n",
            "2304/2304 [==============================] - 994s 431ms/step - loss: 0.2262 - accuracy: 0.9089 - val_loss: 0.4617 - val_accuracy: 0.8000\n"
          ],
          "name": "stdout"
        }
      ]
    },
    {
      "cell_type": "code",
      "metadata": {
        "colab": {
          "base_uri": "https://localhost:8080/"
        },
        "id": "ufcIzR_nEBRy",
        "outputId": "338c5cec-85cf-43e5-b2c7-26caecac9aff"
      },
      "source": [
        "y_=list(test_a['text'].values)\n",
        "enc_2 = tokenizer.texts_to_sequences(y_)\n",
        "enc_2 = sequence.pad_sequences(enc_2, maxlen=max_review_len)\n",
        "print(enc_2[0])\n",
        "\n",
        "test_a[\"polarity\"].replace({4: 1, 0: 0}, inplace=True)\n",
        "yt=test_a['polarity'].values"
      ],
      "execution_count": 39,
      "outputs": [
        {
          "output_type": "stream",
          "text": [
            "[  0   0   0   0   0   0   0   0   0   0   0   0   0   0   0   0   0   0\n",
            "   0   0   0   0   0   0   0   0   0   0   0   0   0   0   0   0   0   0\n",
            "   0   0   0   0   0   0   8  40   2 179  39 141   4  43  12 300  53  34\n",
            " 236  30   1  80   2  44  61  84  53 129]\n"
          ],
          "name": "stdout"
        },
        {
          "output_type": "stream",
          "text": [
            "/usr/local/lib/python3.7/dist-packages/pandas/core/series.py:4582: SettingWithCopyWarning: \n",
            "A value is trying to be set on a copy of a slice from a DataFrame\n",
            "\n",
            "See the caveats in the documentation: https://pandas.pydata.org/pandas-docs/stable/user_guide/indexing.html#returning-a-view-versus-a-copy\n",
            "  method=method,\n"
          ],
          "name": "stderr"
        }
      ]
    },
    {
      "cell_type": "code",
      "metadata": {
        "colab": {
          "base_uri": "https://localhost:8080/"
        },
        "id": "UVERbBwzEK7A",
        "outputId": "f2b78d3c-9885-4a3f-8fa5-49552eca4aa4"
      },
      "source": [
        "from sklearn.metrics import classification_report\n",
        "class_names = [\"Negative\", \"Positive\"]\n",
        "predicted_classes = model.predict_classes(enc_2)\n",
        "print(classification_report(yt, predicted_classes, target_names=class_names))"
      ],
      "execution_count": 40,
      "outputs": [
        {
          "output_type": "stream",
          "text": [
            "/usr/local/lib/python3.7/dist-packages/tensorflow/python/keras/engine/sequential.py:450: UserWarning: `model.predict_classes()` is deprecated and will be removed after 2021-01-01. Please use instead:* `np.argmax(model.predict(x), axis=-1)`,   if your model does multi-class classification   (e.g. if it uses a `softmax` last-layer activation).* `(model.predict(x) > 0.5).astype(\"int32\")`,   if your model does binary classification   (e.g. if it uses a `sigmoid` last-layer activation).\n",
            "  warnings.warn('`model.predict_classes()` is deprecated and '\n"
          ],
          "name": "stderr"
        },
        {
          "output_type": "stream",
          "text": [
            "              precision    recall  f1-score   support\n",
            "\n",
            "    Negative       0.79      0.83      0.81     80144\n",
            "    Positive       0.82      0.78      0.80     79856\n",
            "\n",
            "    accuracy                           0.80    160000\n",
            "   macro avg       0.80      0.80      0.80    160000\n",
            "weighted avg       0.80      0.80      0.80    160000\n",
            "\n"
          ],
          "name": "stdout"
        }
      ]
    },
    {
      "cell_type": "code",
      "metadata": {
        "colab": {
          "base_uri": "https://localhost:8080/"
        },
        "id": "g9qE7k88H2fu",
        "outputId": "1b8fb212-ac86-47ee-c15a-8268605a15c8"
      },
      "source": [
        "# Storing the metrics for later comparison\n",
        "\n",
        "print('*** Evaluation of LSTM Model 2 ***')\n",
        "precision_lstm2=sklearn.metrics.precision_score(yt,predicted_classes)\n",
        "recall_lstm2=sklearn.metrics.recall_score(yt,predicted_classes)\n",
        "f1_score_lstm2=sklearn.metrics.f1_score(predicted_classes, yt, average='macro')\n",
        "print(precision_lstm2)\n",
        "print(recall_lstm2)\n",
        "print(f1_score_lstm2)\n",
        "print('***')"
      ],
      "execution_count": 41,
      "outputs": [
        {
          "output_type": "stream",
          "text": [
            "*** Evaluation of LSTM Model 2 ***\n",
            "0.8165108665641146\n",
            "0.7776873372069726\n",
            "0.8016894823348382\n",
            "***\n"
          ],
          "name": "stdout"
        }
      ]
    },
    {
      "cell_type": "markdown",
      "metadata": {
        "id": "zEjQstg7NBDi"
      },
      "source": [
        "2. Removing stop words from the documents"
      ]
    },
    {
      "cell_type": "code",
      "metadata": {
        "colab": {
          "base_uri": "https://localhost:8080/"
        },
        "id": "DfL3zxNZNFeH",
        "outputId": "fb172b5e-af8d-421d-b557-7f83083d1867"
      },
      "source": [
        "import nltk\n",
        "nltk.download('stopwords')\n",
        "nltk.download('punkt')\n",
        "from nltk.corpus import stopwords\n",
        "stop_words = stopwords.words('english')\n",
        "print(stop_words)"
      ],
      "execution_count": 45,
      "outputs": [
        {
          "output_type": "stream",
          "text": [
            "[nltk_data] Downloading package stopwords to /root/nltk_data...\n",
            "[nltk_data]   Package stopwords is already up-to-date!\n",
            "[nltk_data] Downloading package punkt to /root/nltk_data...\n",
            "[nltk_data]   Unzipping tokenizers/punkt.zip.\n",
            "['i', 'me', 'my', 'myself', 'we', 'our', 'ours', 'ourselves', 'you', \"you're\", \"you've\", \"you'll\", \"you'd\", 'your', 'yours', 'yourself', 'yourselves', 'he', 'him', 'his', 'himself', 'she', \"she's\", 'her', 'hers', 'herself', 'it', \"it's\", 'its', 'itself', 'they', 'them', 'their', 'theirs', 'themselves', 'what', 'which', 'who', 'whom', 'this', 'that', \"that'll\", 'these', 'those', 'am', 'is', 'are', 'was', 'were', 'be', 'been', 'being', 'have', 'has', 'had', 'having', 'do', 'does', 'did', 'doing', 'a', 'an', 'the', 'and', 'but', 'if', 'or', 'because', 'as', 'until', 'while', 'of', 'at', 'by', 'for', 'with', 'about', 'against', 'between', 'into', 'through', 'during', 'before', 'after', 'above', 'below', 'to', 'from', 'up', 'down', 'in', 'out', 'on', 'off', 'over', 'under', 'again', 'further', 'then', 'once', 'here', 'there', 'when', 'where', 'why', 'how', 'all', 'any', 'both', 'each', 'few', 'more', 'most', 'other', 'some', 'such', 'no', 'nor', 'not', 'only', 'own', 'same', 'so', 'than', 'too', 'very', 's', 't', 'can', 'will', 'just', 'don', \"don't\", 'should', \"should've\", 'now', 'd', 'll', 'm', 'o', 're', 've', 'y', 'ain', 'aren', \"aren't\", 'couldn', \"couldn't\", 'didn', \"didn't\", 'doesn', \"doesn't\", 'hadn', \"hadn't\", 'hasn', \"hasn't\", 'haven', \"haven't\", 'isn', \"isn't\", 'ma', 'mightn', \"mightn't\", 'mustn', \"mustn't\", 'needn', \"needn't\", 'shan', \"shan't\", 'shouldn', \"shouldn't\", 'wasn', \"wasn't\", 'weren', \"weren't\", 'won', \"won't\", 'wouldn', \"wouldn't\"]\n"
          ],
          "name": "stdout"
        }
      ]
    },
    {
      "cell_type": "code",
      "metadata": {
        "id": "1zompQBJOjtb"
      },
      "source": [
        "# function to remove stop words\n",
        "def remove_sw(l1,stop):\n",
        "  return [w for w in l1 if not w in stop]"
      ],
      "execution_count": 42,
      "outputs": []
    },
    {
      "cell_type": "code",
      "metadata": {
        "colab": {
          "base_uri": "https://localhost:8080/"
        },
        "id": "_EpUYx8UPCgP",
        "outputId": "91fff75e-6fe0-4c20-cfba-4f95c6204006"
      },
      "source": [
        "training_2=training_set.loc[(training_set['polarity']==0) | (training_set['polarity']==4)]\n",
        "training_2=training_2.drop(['date','query','user'], axis=1)\n",
        "train_a, test_a = train_test_split(training_2, test_size=0.20, random_state=2361)\n",
        "train_a.shape"
      ],
      "execution_count": 43,
      "outputs": [
        {
          "output_type": "execute_result",
          "data": {
            "text/plain": [
              "(1280000, 3)"
            ]
          },
          "metadata": {
            "tags": []
          },
          "execution_count": 43
        }
      ]
    },
    {
      "cell_type": "code",
      "metadata": {
        "colab": {
          "base_uri": "https://localhost:8080/"
        },
        "id": "pedFPtOTPCgW",
        "outputId": "55c60f2b-6fa0-4a92-b2e0-f2e4192e9d8f"
      },
      "source": [
        "X=list(train_a['text'].values)\n",
        "print(X[0])\n",
        "# removing stopwords from the list X\n",
        "X_s=[]\n",
        "for i in X:\n",
        "  x=nltk.word_tokenize(i)\n",
        "  x=remove_sw(x,stop_words)\n",
        "  sentence = \" \".join(x)\n",
        "  X_s.append(sentence)\n",
        "\n",
        "print(X_s[0])\n",
        "\n",
        "allreviews = np.concatenate((train_a['text'], test_a['text']), axis=0)\n",
        "allreviews=allreviews.tolist()\n",
        "# print(allreviews[:3])"
      ],
      "execution_count": 46,
      "outputs": [
        {
          "output_type": "stream",
          "text": [
            "@scarlettstvitus It helps me to put a bag of ice on top of my head to relieve bad headaches! It helps!   I hope you feel better soon, Scar\n",
            "@ scarlettstvitus It helps put bag ice top head relieve bad headaches ! It helps ! I hope feel better soon , Scar\n"
          ],
          "name": "stdout"
        }
      ]
    },
    {
      "cell_type": "code",
      "metadata": {
        "id": "SYJGYr4uPCgX"
      },
      "source": [
        "enc=[]\n",
        "tokenizer=Tokenizer(filters='')\n",
        "tokenizer.fit_on_texts(X_s)\n",
        "\n",
        "enc=tokenizer.texts_to_sequences(X_s)"
      ],
      "execution_count": 47,
      "outputs": []
    },
    {
      "cell_type": "code",
      "metadata": {
        "id": "baMO-moaPCgY"
      },
      "source": [
        "X= sequence.pad_sequences(enc, maxlen=max_review_len)"
      ],
      "execution_count": 50,
      "outputs": []
    },
    {
      "cell_type": "code",
      "metadata": {
        "colab": {
          "base_uri": "https://localhost:8080/",
          "height": 279
        },
        "id": "fiJ0ygNdPCgY",
        "outputId": "7c1ab9f0-1fa1-438d-c5da-74a070bc1b7b"
      },
      "source": [
        "train_a.insert(3,\"encoded_list\", X.tolist())\n",
        "train_a[\"polarity\"].replace({4: 1}, inplace=True)\n",
        "train_a.head()"
      ],
      "execution_count": 51,
      "outputs": [
        {
          "output_type": "stream",
          "text": [
            "/usr/local/lib/python3.7/dist-packages/pandas/core/series.py:4582: SettingWithCopyWarning: \n",
            "A value is trying to be set on a copy of a slice from a DataFrame\n",
            "\n",
            "See the caveats in the documentation: https://pandas.pydata.org/pandas-docs/stable/user_guide/indexing.html#returning-a-view-versus-a-copy\n",
            "  method=method,\n"
          ],
          "name": "stderr"
        },
        {
          "output_type": "execute_result",
          "data": {
            "text/html": [
              "<div>\n",
              "<style scoped>\n",
              "    .dataframe tbody tr th:only-of-type {\n",
              "        vertical-align: middle;\n",
              "    }\n",
              "\n",
              "    .dataframe tbody tr th {\n",
              "        vertical-align: top;\n",
              "    }\n",
              "\n",
              "    .dataframe thead th {\n",
              "        text-align: right;\n",
              "    }\n",
              "</style>\n",
              "<table border=\"1\" class=\"dataframe\">\n",
              "  <thead>\n",
              "    <tr style=\"text-align: right;\">\n",
              "      <th></th>\n",
              "      <th>polarity</th>\n",
              "      <th>id</th>\n",
              "      <th>text</th>\n",
              "      <th>encoded_list</th>\n",
              "    </tr>\n",
              "  </thead>\n",
              "  <tbody>\n",
              "    <tr>\n",
              "      <th>1474686</th>\n",
              "      <td>1</td>\n",
              "      <td>2065768709</td>\n",
              "      <td>@scarlettstvitus It helps me to put a bag of i...</td>\n",
              "      <td>[0, 0, 0, 0, 0, 0, 0, 0, 0, 0, 0, 0, 0, 0, 0, ...</td>\n",
              "    </tr>\n",
              "    <tr>\n",
              "      <th>867725</th>\n",
              "      <td>1</td>\n",
              "      <td>1677825607</td>\n",
              "      <td>@tommcfly it's actually law of humans' life......</td>\n",
              "      <td>[0, 0, 0, 0, 0, 0, 0, 0, 0, 0, 0, 0, 0, 0, 0, ...</td>\n",
              "    </tr>\n",
              "    <tr>\n",
              "      <th>191053</th>\n",
              "      <td>0</td>\n",
              "      <td>1969494477</td>\n",
              "      <td>@ryanseacrest Son of a crap!  I thought Adam L...</td>\n",
              "      <td>[0, 0, 0, 0, 0, 0, 0, 0, 0, 0, 0, 0, 0, 0, 0, ...</td>\n",
              "    </tr>\n",
              "    <tr>\n",
              "      <th>266955</th>\n",
              "      <td>0</td>\n",
              "      <td>1989094495</td>\n",
              "      <td>Alright folks I think I'm going to go try and ...</td>\n",
              "      <td>[0, 0, 0, 0, 0, 0, 0, 0, 0, 0, 0, 0, 0, 0, 0, ...</td>\n",
              "    </tr>\n",
              "    <tr>\n",
              "      <th>1472945</th>\n",
              "      <td>1</td>\n",
              "      <td>2065462631</td>\n",
              "      <td>loves that there's so much Federer love going ...</td>\n",
              "      <td>[0, 0, 0, 0, 0, 0, 0, 0, 0, 0, 0, 0, 0, 0, 0, ...</td>\n",
              "    </tr>\n",
              "  </tbody>\n",
              "</table>\n",
              "</div>"
            ],
            "text/plain": [
              "         polarity  ...                                       encoded_list\n",
              "1474686         1  ...  [0, 0, 0, 0, 0, 0, 0, 0, 0, 0, 0, 0, 0, 0, 0, ...\n",
              "867725          1  ...  [0, 0, 0, 0, 0, 0, 0, 0, 0, 0, 0, 0, 0, 0, 0, ...\n",
              "191053          0  ...  [0, 0, 0, 0, 0, 0, 0, 0, 0, 0, 0, 0, 0, 0, 0, ...\n",
              "266955          0  ...  [0, 0, 0, 0, 0, 0, 0, 0, 0, 0, 0, 0, 0, 0, 0, ...\n",
              "1472945         1  ...  [0, 0, 0, 0, 0, 0, 0, 0, 0, 0, 0, 0, 0, 0, 0, ...\n",
              "\n",
              "[5 rows x 4 columns]"
            ]
          },
          "metadata": {
            "tags": []
          },
          "execution_count": 51
        }
      ]
    },
    {
      "cell_type": "code",
      "metadata": {
        "colab": {
          "base_uri": "https://localhost:8080/"
        },
        "id": "f1VHyOlLPCgZ",
        "outputId": "b80f5542-488a-4e7d-a2fd-6bddeaf080ab"
      },
      "source": [
        "# designing the LSTM model\n",
        "model = tf.keras.models.Sequential()\n",
        "model.add(\n",
        "    tf.keras.layers.Embedding(\n",
        "        input_dim = vocab_size, # The size of our vocabulary \n",
        "        output_dim = 32, # Dimensions to which each words shall be mapped\n",
        "        input_length = max_review_len # Length of input sequences\n",
        "    )\n",
        ")\n",
        "\n",
        "model.add(\n",
        "    tf.keras.layers.Dropout(\n",
        "        rate=0.25 # Randomly disable 25% of neurons\n",
        "    )\n",
        ")\n",
        "\n",
        "model.add(\n",
        "    tf.keras.layers.LSTM(\n",
        "        units=32 # 32 LSTM units in this layer\n",
        "    )\n",
        ")\n",
        "\n",
        "model.add(\n",
        "    tf.keras.layers.Dropout(\n",
        "        rate=0.25 # Randomly disable 25% of neurons\n",
        "    )\n",
        ")\n",
        "\n",
        "model.add(\n",
        "    tf.keras.layers.Dense(\n",
        "        units=1, # Single unit\n",
        "        activation='sigmoid' # Sigmoid activation function (output from 0 to 1)\n",
        "    )\n",
        ")\n",
        "\n",
        "model.compile(\n",
        "    loss=tf.keras.losses.binary_crossentropy, # loss function\n",
        "    optimizer=tf.keras.optimizers.Adam(), # optimiser function\n",
        "    metrics=['accuracy'])\n",
        "model.summary()"
      ],
      "execution_count": 52,
      "outputs": [
        {
          "output_type": "stream",
          "text": [
            "Model: \"sequential_2\"\n",
            "_________________________________________________________________\n",
            "Layer (type)                 Output Shape              Param #   \n",
            "=================================================================\n",
            "embedding_2 (Embedding)      (None, 229, 32)           22132576  \n",
            "_________________________________________________________________\n",
            "dropout_4 (Dropout)          (None, 229, 32)           0         \n",
            "_________________________________________________________________\n",
            "lstm_2 (LSTM)                (None, 32)                8320      \n",
            "_________________________________________________________________\n",
            "dropout_5 (Dropout)          (None, 32)                0         \n",
            "_________________________________________________________________\n",
            "dense_2 (Dense)              (None, 1)                 33        \n",
            "=================================================================\n",
            "Total params: 22,140,929\n",
            "Trainable params: 22,140,929\n",
            "Non-trainable params: 0\n",
            "_________________________________________________________________\n"
          ],
          "name": "stdout"
        }
      ]
    },
    {
      "cell_type": "code",
      "metadata": {
        "colab": {
          "base_uri": "https://localhost:8080/",
          "height": 644
        },
        "id": "50zLxPHvPCgZ",
        "outputId": "281fc1c7-bdfb-45db-adfa-1567f53e9c75"
      },
      "source": [
        "tf.keras.utils.plot_model(model, to_file='model.png', show_shapes=True, show_layer_names=False)"
      ],
      "execution_count": 53,
      "outputs": [
        {
          "output_type": "execute_result",
          "data": {
            "image/png": "[encoded data removed]",
            "text/plain": [
              "<IPython.core.display.Image object>"
            ]
          },
          "metadata": {
            "tags": []
          },
          "execution_count": 53
        }
      ]
    },
    {
      "cell_type": "code",
      "metadata": {
        "colab": {
          "base_uri": "https://localhost:8080/"
        },
        "id": "s1TBx2R8PCga",
        "outputId": "fb9ac976-42d1-42ac-e549-87a6f868c35c"
      },
      "source": [
        "y=train_a['polarity'].values\n",
        "print(len(y))\n",
        "print(y[:5])"
      ],
      "execution_count": 54,
      "outputs": [
        {
          "output_type": "stream",
          "text": [
            "1280000\n",
            "[1 1 0 0 1]\n"
          ],
          "name": "stdout"
        }
      ]
    },
    {
      "cell_type": "code",
      "metadata": {
        "colab": {
          "base_uri": "https://localhost:8080/"
        },
        "id": "wDzVlHzkVxLl",
        "outputId": "3dcc8bae-7102-4313-eccc-144dcb7226dc"
      },
      "source": [
        "history = model.fit(\n",
        "    x=X, y=y,\n",
        "    batch_size=500, \n",
        "    epochs=3, \n",
        "    validation_split=0.2,\n",
        "    verbose=1\n",
        ")"
      ],
      "execution_count": 55,
      "outputs": [
        {
          "output_type": "stream",
          "text": [
            "Epoch 1/3\n",
            "2048/2048 [==============================] - 1174s 572ms/step - loss: 0.5079 - accuracy: 0.7489 - val_loss: 0.4277 - val_accuracy: 0.8013\n",
            "Epoch 2/3\n",
            "2048/2048 [==============================] - 1160s 567ms/step - loss: 0.3669 - accuracy: 0.8383 - val_loss: 0.4504 - val_accuracy: 0.7953\n",
            "Epoch 3/3\n",
            "2048/2048 [==============================] - 1162s 567ms/step - loss: 0.2708 - accuracy: 0.8867 - val_loss: 0.4902 - val_accuracy: 0.7864\n"
          ],
          "name": "stdout"
        }
      ]
    },
    {
      "cell_type": "code",
      "metadata": {
        "colab": {
          "base_uri": "https://localhost:8080/"
        },
        "id": "adHRK2nqVxL9",
        "outputId": "d0d4712d-07e3-49a9-8090-e940752b911b"
      },
      "source": [
        "y_=list(test_a['text'].values)\n",
        "enc_2 = tokenizer.texts_to_sequences(y_)\n",
        "enc_2 = sequence.pad_sequences(enc_2, maxlen=max_review_len)\n",
        "print(enc_2[0])\n",
        "\n",
        "test_a[\"polarity\"].replace({4: 1, 0: 0}, inplace=True)\n",
        "yt=test_a['polarity'].values"
      ],
      "execution_count": 56,
      "outputs": [
        {
          "output_type": "stream",
          "text": [
            "[   0    0    0    0    0    0    0    0    0    0    0    0    0    0\n",
            "    0    0    0    0    0    0    0    0    0    0    0    0    0    0\n",
            "    0    0    0    0    0    0    0    0    0    0    0    0    0    0\n",
            "    0    0    0    0    0    0    0    0    0    0    0    0    0    0\n",
            "    0    0    0    0    0    0    0    0    0    0    0    0    0    0\n",
            "    0    0    0    0    0    0    0    0    0    0    0    0    0    0\n",
            "    0    0    0    0    0    0    0    0    0    0    0    0    0    0\n",
            "    0    0    0    0    0    0    0    0    0    0    0    0    0    0\n",
            "    0    0    0    0    0    0    0    0    0    0    0    0    0    0\n",
            "    0    0    0    0    0    0    0    0    0    0    0    0    0    0\n",
            "    0    0    0    0    0    0    0    0    0    0    0    0    0    0\n",
            "    0    0    0    0    0    0    0    0    0    0    0    0    0    0\n",
            "    0    0    0    0    0    0    0    0    0    0    0    0    0    0\n",
            "    0    0    0    0    0    0    0    0    0    0    0    0    0    0\n",
            "    0    0    0    0    0    0    0    0    0    0    0  147   24  314\n",
            "   96  189 1094  195   15  676  238   26   22  215   17    4   56  314\n",
            "  220 1009  906   26   62]\n"
          ],
          "name": "stdout"
        },
        {
          "output_type": "stream",
          "text": [
            "/usr/local/lib/python3.7/dist-packages/pandas/core/series.py:4582: SettingWithCopyWarning: \n",
            "A value is trying to be set on a copy of a slice from a DataFrame\n",
            "\n",
            "See the caveats in the documentation: https://pandas.pydata.org/pandas-docs/stable/user_guide/indexing.html#returning-a-view-versus-a-copy\n",
            "  method=method,\n"
          ],
          "name": "stderr"
        }
      ]
    },
    {
      "cell_type": "code",
      "metadata": {
        "colab": {
          "base_uri": "https://localhost:8080/"
        },
        "id": "IDrAzZeKVxL-",
        "outputId": "bfe8276b-667c-448a-8a80-a3f02ffec7f2"
      },
      "source": [
        "from sklearn.metrics import classification_report\n",
        "class_names = [\"Negative\", \"Positive\"]\n",
        "predicted_classes = model.predict_classes(enc_2)\n",
        "print(classification_report(yt, predicted_classes, target_names=class_names))"
      ],
      "execution_count": 57,
      "outputs": [
        {
          "output_type": "stream",
          "text": [
            "/usr/local/lib/python3.7/dist-packages/tensorflow/python/keras/engine/sequential.py:450: UserWarning: `model.predict_classes()` is deprecated and will be removed after 2021-01-01. Please use instead:* `np.argmax(model.predict(x), axis=-1)`,   if your model does multi-class classification   (e.g. if it uses a `softmax` last-layer activation).* `(model.predict(x) > 0.5).astype(\"int32\")`,   if your model does binary classification   (e.g. if it uses a `sigmoid` last-layer activation).\n",
            "  warnings.warn('`model.predict_classes()` is deprecated and '\n"
          ],
          "name": "stderr"
        },
        {
          "output_type": "stream",
          "text": [
            "              precision    recall  f1-score   support\n",
            "\n",
            "    Negative       0.76      0.77      0.77    159998\n",
            "    Positive       0.77      0.75      0.76    160002\n",
            "\n",
            "    accuracy                           0.76    320000\n",
            "   macro avg       0.76      0.76      0.76    320000\n",
            "weighted avg       0.76      0.76      0.76    320000\n",
            "\n"
          ],
          "name": "stdout"
        }
      ]
    },
    {
      "cell_type": "code",
      "metadata": {
        "colab": {
          "base_uri": "https://localhost:8080/"
        },
        "id": "ZKaSkagiVxL_",
        "outputId": "cbf79a5c-ffbf-4b6c-d9e8-41760fe9d784"
      },
      "source": [
        "# Storing the metrics for later comparison\n",
        "\n",
        "print('*** Evaluation of LSTM Model 3 ***')\n",
        "precision_lstm3=sklearn.metrics.precision_score(yt,predicted_classes)\n",
        "recall_lstm3=sklearn.metrics.recall_score(yt,predicted_classes)\n",
        "f1_score_lstm3=sklearn.metrics.f1_score(predicted_classes, yt, average='macro')\n",
        "print(precision_lstm3)\n",
        "print(recall_lstm3)\n",
        "print(f1_score_lstm3)\n",
        "print('***')"
      ],
      "execution_count": 58,
      "outputs": [
        {
          "output_type": "stream",
          "text": [
            "*** Evaluation of LSTM Model 3 ***\n",
            "0.7692577365586257\n",
            "0.7542718216022299\n",
            "0.7639870395792925\n",
            "***\n"
          ],
          "name": "stdout"
        }
      ]
    },
    {
      "cell_type": "markdown",
      "metadata": {
        "id": "h2jSKBI7kFYv"
      },
      "source": [
        "3. Removing user mentions from the tweets"
      ]
    },
    {
      "cell_type": "code",
      "metadata": {
        "id": "2jUpL2lCkNC9"
      },
      "source": [
        "import re"
      ],
      "execution_count": 59,
      "outputs": []
    },
    {
      "cell_type": "code",
      "metadata": {
        "id": "EdDEy866km4r"
      },
      "source": [
        "term = re.compile(\"r'@\\w\\b'\")"
      ],
      "execution_count": null,
      "outputs": []
    },
    {
      "cell_type": "code",
      "metadata": {
        "colab": {
          "base_uri": "https://localhost:8080/"
        },
        "id": "-oD2yVCDlwMN",
        "outputId": "56d5b78c-10a6-4e60-ac7e-afc92bbc4f82"
      },
      "source": [
        "training_2=training_set.loc[(training_set['polarity']==0) | (training_set['polarity']==4)]\n",
        "training_2=training_2.drop(['date','query','user'], axis=1)\n",
        "train_a, test_a = train_test_split(training_2, test_size=0.20, random_state=2361)\n",
        "train_a.shape"
      ],
      "execution_count": 61,
      "outputs": [
        {
          "output_type": "execute_result",
          "data": {
            "text/plain": [
              "(1280000, 3)"
            ]
          },
          "metadata": {
            "tags": []
          },
          "execution_count": 61
        }
      ]
    },
    {
      "cell_type": "code",
      "metadata": {
        "colab": {
          "base_uri": "https://localhost:8080/"
        },
        "id": "IFpFn2eylwMV",
        "outputId": "de60c25d-4ef4-451e-bb51-b208786e1801"
      },
      "source": [
        "X=list(train_a['text'].values)\n",
        "print(X[0])\n",
        "\n",
        "m=re.findall(r'\\@\\w+',X[50])\n",
        "# print(m)\n",
        "\n",
        "X_u=[]\n",
        "for i in X:\n",
        "  m=re.findall(r'\\@\\w+',i)\n",
        "  # x=nltk.word_tokenize(i)\n",
        "  x=i.split()\n",
        "  x=remove_sw(x,m)\n",
        "  X_u.append(x)\n",
        "\n",
        "print(X_u[0])\n",
        "\n",
        "allreviews = np.concatenate((train_a['text'], test_a['text']), axis=0)\n",
        "allreviews=allreviews.tolist()\n",
        "# print(allreviews[:3])"
      ],
      "execution_count": 103,
      "outputs": [
        {
          "output_type": "stream",
          "text": [
            "@scarlettstvitus It helps me to put a bag of ice on top of my head to relieve bad headaches! It helps!   I hope you feel better soon, Scar\n",
            "['It', 'helps', 'me', 'to', 'put', 'a', 'bag', 'of', 'ice', 'on', 'top', 'of', 'my', 'head', 'to', 'relieve', 'bad', 'headaches!', 'It', 'helps!', 'I', 'hope', 'you', 'feel', 'better', 'soon,', 'Scar']\n"
          ],
          "name": "stdout"
        }
      ]
    },
    {
      "cell_type": "code",
      "metadata": {
        "id": "Aomi5iYIlwMW"
      },
      "source": [
        "enc=[]\n",
        "tokenizer=Tokenizer(filters='')\n",
        "tokenizer.fit_on_texts(X_u)\n",
        "enc=tokenizer.texts_to_sequences(X_u)"
      ],
      "execution_count": 104,
      "outputs": []
    },
    {
      "cell_type": "code",
      "metadata": {
        "colab": {
          "base_uri": "https://localhost:8080/"
        },
        "id": "aNOVxE-VlwMX",
        "outputId": "95f427c7-3b61-445a-f44a-df85a90df276"
      },
      "source": [
        "vocab_size = len(tokenizer.word_index) + 1\n",
        "print(\"vocab size {}\".format(vocab_size))\n",
        "\n",
        "max_review_len = len(max((enc), key=len))\n",
        "\n",
        "print(\"Maximum review length: {}\".format(len(max((enc), key=len))))\n",
        "print(\"Minimum review length: {}\".format(len(min((enc), key=len))))\n",
        "result = [len(x) for x in enc]\n",
        "print(\"Mean review length: {}\".format(np.mean(result)))"
      ],
      "execution_count": 105,
      "outputs": [
        {
          "output_type": "stream",
          "text": [
            "vocab size 729161\n",
            "Maximum review length: 57\n",
            "Minimum review length: 0\n",
            "Mean review length: 12.69794453125\n"
          ],
          "name": "stdout"
        }
      ]
    },
    {
      "cell_type": "code",
      "metadata": {
        "id": "esDPWDLvlwMX"
      },
      "source": [
        "X= sequence.pad_sequences(enc, maxlen=max_review_len)"
      ],
      "execution_count": 106,
      "outputs": []
    },
    {
      "cell_type": "code",
      "metadata": {
        "colab": {
          "base_uri": "https://localhost:8080/",
          "height": 279
        },
        "id": "uIB8fdV9lwMY",
        "outputId": "c6202992-ae89-4525-c34c-95e604a4dfc6"
      },
      "source": [
        "train_a.insert(3,\"encoded_list\", X.tolist())\n",
        "train_a[\"polarity\"].replace({4: 1}, inplace=True)\n",
        "train_a.head()"
      ],
      "execution_count": 107,
      "outputs": [
        {
          "output_type": "stream",
          "text": [
            "/usr/local/lib/python3.7/dist-packages/pandas/core/series.py:4582: SettingWithCopyWarning: \n",
            "A value is trying to be set on a copy of a slice from a DataFrame\n",
            "\n",
            "See the caveats in the documentation: https://pandas.pydata.org/pandas-docs/stable/user_guide/indexing.html#returning-a-view-versus-a-copy\n",
            "  method=method,\n"
          ],
          "name": "stderr"
        },
        {
          "output_type": "execute_result",
          "data": {
            "text/html": [
              "<div>\n",
              "<style scoped>\n",
              "    .dataframe tbody tr th:only-of-type {\n",
              "        vertical-align: middle;\n",
              "    }\n",
              "\n",
              "    .dataframe tbody tr th {\n",
              "        vertical-align: top;\n",
              "    }\n",
              "\n",
              "    .dataframe thead th {\n",
              "        text-align: right;\n",
              "    }\n",
              "</style>\n",
              "<table border=\"1\" class=\"dataframe\">\n",
              "  <thead>\n",
              "    <tr style=\"text-align: right;\">\n",
              "      <th></th>\n",
              "      <th>polarity</th>\n",
              "      <th>id</th>\n",
              "      <th>text</th>\n",
              "      <th>encoded_list</th>\n",
              "    </tr>\n",
              "  </thead>\n",
              "  <tbody>\n",
              "    <tr>\n",
              "      <th>1474686</th>\n",
              "      <td>1</td>\n",
              "      <td>2065768709</td>\n",
              "      <td>@scarlettstvitus It helps me to put a bag of i...</td>\n",
              "      <td>[0, 0, 0, 0, 0, 0, 0, 0, 0, 0, 0, 0, 0, 0, 0, ...</td>\n",
              "    </tr>\n",
              "    <tr>\n",
              "      <th>867725</th>\n",
              "      <td>1</td>\n",
              "      <td>1677825607</td>\n",
              "      <td>@tommcfly it's actually law of humans' life......</td>\n",
              "      <td>[0, 0, 0, 0, 0, 0, 0, 0, 0, 0, 0, 0, 0, 0, 0, ...</td>\n",
              "    </tr>\n",
              "    <tr>\n",
              "      <th>191053</th>\n",
              "      <td>0</td>\n",
              "      <td>1969494477</td>\n",
              "      <td>@ryanseacrest Son of a crap!  I thought Adam L...</td>\n",
              "      <td>[0, 0, 0, 0, 0, 0, 0, 0, 0, 0, 0, 0, 0, 0, 0, ...</td>\n",
              "    </tr>\n",
              "    <tr>\n",
              "      <th>266955</th>\n",
              "      <td>0</td>\n",
              "      <td>1989094495</td>\n",
              "      <td>Alright folks I think I'm going to go try and ...</td>\n",
              "      <td>[0, 0, 0, 0, 0, 0, 0, 0, 0, 0, 0, 0, 0, 0, 0, ...</td>\n",
              "    </tr>\n",
              "    <tr>\n",
              "      <th>1472945</th>\n",
              "      <td>1</td>\n",
              "      <td>2065462631</td>\n",
              "      <td>loves that there's so much Federer love going ...</td>\n",
              "      <td>[0, 0, 0, 0, 0, 0, 0, 0, 0, 0, 0, 0, 0, 0, 0, ...</td>\n",
              "    </tr>\n",
              "  </tbody>\n",
              "</table>\n",
              "</div>"
            ],
            "text/plain": [
              "         polarity  ...                                       encoded_list\n",
              "1474686         1  ...  [0, 0, 0, 0, 0, 0, 0, 0, 0, 0, 0, 0, 0, 0, 0, ...\n",
              "867725          1  ...  [0, 0, 0, 0, 0, 0, 0, 0, 0, 0, 0, 0, 0, 0, 0, ...\n",
              "191053          0  ...  [0, 0, 0, 0, 0, 0, 0, 0, 0, 0, 0, 0, 0, 0, 0, ...\n",
              "266955          0  ...  [0, 0, 0, 0, 0, 0, 0, 0, 0, 0, 0, 0, 0, 0, 0, ...\n",
              "1472945         1  ...  [0, 0, 0, 0, 0, 0, 0, 0, 0, 0, 0, 0, 0, 0, 0, ...\n",
              "\n",
              "[5 rows x 4 columns]"
            ]
          },
          "metadata": {
            "tags": []
          },
          "execution_count": 107
        }
      ]
    },
    {
      "cell_type": "code",
      "metadata": {
        "colab": {
          "base_uri": "https://localhost:8080/"
        },
        "id": "3zbzK4lslwMZ",
        "outputId": "01486200-6a70-43e3-c7ba-52f4f089eb50"
      },
      "source": [
        "# designing the LSTM model\n",
        "model = tf.keras.models.Sequential()\n",
        "model.add(\n",
        "    tf.keras.layers.Embedding(\n",
        "        input_dim = vocab_size, # The size of our vocabulary \n",
        "        output_dim = 32, # Dimensions to which each words shall be mapped\n",
        "        input_length = max_review_len # Length of input sequences\n",
        "    )\n",
        ")\n",
        "\n",
        "model.add(\n",
        "    tf.keras.layers.Dropout(\n",
        "        rate=0.25 # Randomly disable 25% of neurons\n",
        "    )\n",
        ")\n",
        "\n",
        "model.add(\n",
        "    tf.keras.layers.LSTM(\n",
        "        units=32 # 32 LSTM units in this layer\n",
        "    )\n",
        ")\n",
        "\n",
        "model.add(\n",
        "    tf.keras.layers.Dropout(\n",
        "        rate=0.25 # Randomly disable 25% of neurons\n",
        "    )\n",
        ")\n",
        "\n",
        "model.add(\n",
        "    tf.keras.layers.Dense(\n",
        "        units=1, # Single unit\n",
        "        activation='sigmoid' # Sigmoid activation function (output from 0 to 1)\n",
        "    )\n",
        ")\n",
        "\n",
        "model.compile(\n",
        "    loss=tf.keras.losses.binary_crossentropy, # loss function\n",
        "    optimizer=tf.keras.optimizers.Adam(), # optimiser function\n",
        "    metrics=['accuracy'])\n",
        "model.summary()"
      ],
      "execution_count": 108,
      "outputs": [
        {
          "output_type": "stream",
          "text": [
            "Model: \"sequential_3\"\n",
            "_________________________________________________________________\n",
            "Layer (type)                 Output Shape              Param #   \n",
            "=================================================================\n",
            "embedding_3 (Embedding)      (None, 57, 32)            23333152  \n",
            "_________________________________________________________________\n",
            "dropout_6 (Dropout)          (None, 57, 32)            0         \n",
            "_________________________________________________________________\n",
            "lstm_3 (LSTM)                (None, 32)                8320      \n",
            "_________________________________________________________________\n",
            "dropout_7 (Dropout)          (None, 32)                0         \n",
            "_________________________________________________________________\n",
            "dense_3 (Dense)              (None, 1)                 33        \n",
            "=================================================================\n",
            "Total params: 23,341,505\n",
            "Trainable params: 23,341,505\n",
            "Non-trainable params: 0\n",
            "_________________________________________________________________\n"
          ],
          "name": "stdout"
        }
      ]
    },
    {
      "cell_type": "code",
      "metadata": {
        "colab": {
          "base_uri": "https://localhost:8080/",
          "height": 644
        },
        "id": "CpNbc_oblwMZ",
        "outputId": "4c4ba4cd-fc78-44b3-c362-5eacc0ad6922"
      },
      "source": [
        "tf.keras.utils.plot_model(model, to_file='model.png', show_shapes=True, show_layer_names=False)"
      ],
      "execution_count": 109,
      "outputs": [
        {
          "output_type": "execute_result",
          "data": {
            "image/png": "[encoded data removed]",
            "text/plain": [
              "<IPython.core.display.Image object>"
            ]
          },
          "metadata": {
            "tags": []
          },
          "execution_count": 109
        }
      ]
    },
    {
      "cell_type": "code",
      "metadata": {
        "colab": {
          "base_uri": "https://localhost:8080/"
        },
        "id": "R7POrvfNlwMa",
        "outputId": "e94cebf6-de87-4f06-ef63-d08763fc0fdf"
      },
      "source": [
        "y=train_a['polarity'].values\n",
        "print(len(y))\n",
        "print(y[:5])"
      ],
      "execution_count": 110,
      "outputs": [
        {
          "output_type": "stream",
          "text": [
            "1280000\n",
            "[1 1 0 0 1]\n"
          ],
          "name": "stdout"
        }
      ]
    },
    {
      "cell_type": "code",
      "metadata": {
        "colab": {
          "base_uri": "https://localhost:8080/"
        },
        "id": "PvQyjiGolwMb",
        "outputId": "d92e0dc7-d601-49b8-dd5b-1aca264edb24"
      },
      "source": [
        "history = model.fit(\n",
        "    x=X, y=y,\n",
        "    batch_size=500, \n",
        "    epochs=3, \n",
        "    validation_split=0.2,\n",
        "    verbose=1\n",
        ")"
      ],
      "execution_count": 111,
      "outputs": [
        {
          "output_type": "stream",
          "text": [
            "Epoch 1/3\n",
            "2048/2048 [==============================] - 651s 317ms/step - loss: 0.4966 - accuracy: 0.7539 - val_loss: 0.4142 - val_accuracy: 0.8094\n",
            "Epoch 2/3\n",
            "2048/2048 [==============================] - 638s 311ms/step - loss: 0.3606 - accuracy: 0.8405 - val_loss: 0.4167 - val_accuracy: 0.8114\n",
            "Epoch 3/3\n",
            "2048/2048 [==============================] - 633s 309ms/step - loss: 0.2900 - accuracy: 0.8772 - val_loss: 0.4402 - val_accuracy: 0.8053\n"
          ],
          "name": "stdout"
        }
      ]
    },
    {
      "cell_type": "code",
      "metadata": {
        "colab": {
          "base_uri": "https://localhost:8080/"
        },
        "id": "bQKtl0G6lwMb",
        "outputId": "e71364e4-5c41-458c-eeb9-689ab1965893"
      },
      "source": [
        "y_=list(test_a['text'].values)\n",
        "enc_2 = tokenizer.texts_to_sequences(y_)\n",
        "enc_2 = sequence.pad_sequences(enc_2, maxlen=max_review_len)\n",
        "print(enc_2[0])\n",
        "\n",
        "test_a[\"polarity\"].replace({4: 1, 0: 0}, inplace=True)\n",
        "yt=test_a['polarity'].values"
      ],
      "execution_count": 112,
      "outputs": [
        {
          "output_type": "stream",
          "text": [
            "[  0   0   0   0   0   0   0   0   0   0   0   0   0   0   0   0   0   0\n",
            "   0   0   0   0   0   0   0   0   0   0   0   0   0   0   0   0   0   8\n",
            "  40   2 179  39 141   4  43  12 300  53  34 236  30   1  80   2  44  61\n",
            "  84  53 129]\n"
          ],
          "name": "stdout"
        },
        {
          "output_type": "stream",
          "text": [
            "/usr/local/lib/python3.7/dist-packages/pandas/core/series.py:4582: SettingWithCopyWarning: \n",
            "A value is trying to be set on a copy of a slice from a DataFrame\n",
            "\n",
            "See the caveats in the documentation: https://pandas.pydata.org/pandas-docs/stable/user_guide/indexing.html#returning-a-view-versus-a-copy\n",
            "  method=method,\n"
          ],
          "name": "stderr"
        }
      ]
    },
    {
      "cell_type": "code",
      "metadata": {
        "colab": {
          "base_uri": "https://localhost:8080/"
        },
        "id": "iqhvQpU4lwMc",
        "outputId": "0d3dcca2-3b91-493a-a64c-4abed401c14f"
      },
      "source": [
        "from sklearn.metrics import classification_report\n",
        "class_names = [\"Negative\", \"Positive\"]\n",
        "predicted_classes = model.predict_classes(enc_2)\n",
        "print(classification_report(yt, predicted_classes, target_names=class_names))"
      ],
      "execution_count": 113,
      "outputs": [
        {
          "output_type": "stream",
          "text": [
            "/usr/local/lib/python3.7/dist-packages/tensorflow/python/keras/engine/sequential.py:450: UserWarning: `model.predict_classes()` is deprecated and will be removed after 2021-01-01. Please use instead:* `np.argmax(model.predict(x), axis=-1)`,   if your model does multi-class classification   (e.g. if it uses a `softmax` last-layer activation).* `(model.predict(x) > 0.5).astype(\"int32\")`,   if your model does binary classification   (e.g. if it uses a `sigmoid` last-layer activation).\n",
            "  warnings.warn('`model.predict_classes()` is deprecated and '\n"
          ],
          "name": "stderr"
        },
        {
          "output_type": "stream",
          "text": [
            "              precision    recall  f1-score   support\n",
            "\n",
            "    Negative       0.80      0.82      0.81    159998\n",
            "    Positive       0.81      0.79      0.80    160002\n",
            "\n",
            "    accuracy                           0.81    320000\n",
            "   macro avg       0.81      0.81      0.81    320000\n",
            "weighted avg       0.81      0.81      0.81    320000\n",
            "\n"
          ],
          "name": "stdout"
        }
      ]
    },
    {
      "cell_type": "code",
      "metadata": {
        "colab": {
          "base_uri": "https://localhost:8080/"
        },
        "id": "9vixF6cilwMc",
        "outputId": "1a063063-bc07-4ca3-ff41-d08ada3c83d8"
      },
      "source": [
        "# Storing the metrics for later comparison\n",
        "\n",
        "print('*** Evaluation of LSTM Model 4 ***')\n",
        "precision_lstm4=sklearn.metrics.precision_score(yt,predicted_classes)\n",
        "recall_lstm4=sklearn.metrics.recall_score(yt,predicted_classes)\n",
        "f1_score_lstm4=sklearn.metrics.f1_score(predicted_classes, yt, average='macro')\n",
        "print(precision_lstm4)\n",
        "print(recall_lstm4)\n",
        "print(f1_score_lstm4)\n",
        "print('***')"
      ],
      "execution_count": 114,
      "outputs": [
        {
          "output_type": "stream",
          "text": [
            "*** Evaluation of LSTM Model 4 ***\n",
            "0.8128049833398354\n",
            "0.7943088211397358\n",
            "0.8056592705637082\n",
            "***\n"
          ],
          "name": "stdout"
        }
      ]
    },
    {
      "cell_type": "markdown",
      "metadata": {
        "id": "LzXbcLVfcF68"
      },
      "source": [
        "Observation:\n",
        "\n",
        "Comparing the four implementations of LSTMs in this notebook with metrics in the order (precision, recall, F1):\n",
        "1. 80% training data (0.8209127594287364, 0.764121698478769, 0.7984684144190074)\n",
        "2. 90% training data (0.8165108665641146, 0.7776873372069726, 0.8016894823348382)\n",
        "3. Removal of all stop words (0.7692577365586257, 0.7542718216022299, 0.7639870395792925)\n",
        "4. Removal of specific words such as user mentions (0.8128049833398354, 0.7943088211397358, 0.8056592705637082),\n",
        "\n",
        "The first model does a fine job in achieveing ~82% precision, ~76% recall along with ~79% F1 score. The second model also achieves a nearly similar score with a performance difference of <= 1 to 2%. This is to suggest that a 10% increase in the training data does not necessarily imply improvement in performance. It in fact saw a dip of 1% on each metric whoch could be due to quality of the data itself.\n",
        "\n",
        "The third model sees a sharp dip of ~ 1% to 4% on each metric. This is operating on the default split of 80% training data. So this implies that removal of stop words may have in fact caused loss of context resulting in the drop in scores.\n",
        "\n",
        "The last model indicates that removal of specific strings strings such as user mentions may aid the model better in comparison to removal of huge subset of words like stop words. In this case removal of user mentions helps reduce the noise in data without hampering the context of the reviews."
      ]
    }
  ]
}