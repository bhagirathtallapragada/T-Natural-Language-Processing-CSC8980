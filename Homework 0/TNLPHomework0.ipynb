{
  "nbformat": 4,
  "nbformat_minor": 0,
  "metadata": {
    "colab": {
      "name": "TNLPHomework0.ipynb",
      "provenance": [],
      "collapsed_sections": []
    },
    "kernelspec": {
      "name": "python3",
      "display_name": "Python 3"
    }
  },
  "cells": [
    {
      "cell_type": "markdown",
      "metadata": {
        "id": "DbTfphs9_jqb"
      },
      "source": [
        "Bhagirath Tallapragada\r\n",
        "Student ID: 002575358\r\n",
        "email: btallapragada1@student.gsu.edu"
      ]
    },
    {
      "cell_type": "markdown",
      "metadata": {
        "id": "GSgLrwoeA_VM"
      },
      "source": [
        "1. Write a function that finds the factorial of a number. Test the function finding the factorial of the number 10"
      ]
    },
    {
      "cell_type": "code",
      "metadata": {
        "id": "Vvqr6yyaBC1q"
      },
      "source": [
        "def fact(x):\r\n",
        "  if(x==0 or x==1):\r\n",
        "    return 1\r\n",
        "  else:\r\n",
        "    return x*fact(x-1)"
      ],
      "execution_count": 63,
      "outputs": []
    },
    {
      "cell_type": "code",
      "metadata": {
        "colab": {
          "base_uri": "https://localhost:8080/"
        },
        "id": "JVkbnPOxBmuz",
        "outputId": "f5cd546b-45ca-4bee-93ac-fd4f18e78650"
      },
      "source": [
        "print(fact(10))"
      ],
      "execution_count": 64,
      "outputs": [
        {
          "output_type": "stream",
          "text": [
            "3628800\n"
          ],
          "name": "stdout"
        }
      ]
    },
    {
      "cell_type": "markdown",
      "metadata": {
        "id": "ON-5-nBsCrlH"
      },
      "source": [
        "2. Write a function that determines if a number is a prime number. Test the function with\r\n",
        "the following numbers: 3 and 1251.\r\n"
      ]
    },
    {
      "cell_type": "code",
      "metadata": {
        "id": "1Mn5DdaECuMY"
      },
      "source": [
        "def isprime(x):\r\n",
        "  if(x<=1):\r\n",
        "    return False\r\n",
        "  i=2\r\n",
        "  while(i<x):\r\n",
        "    if(x%i==0):\r\n",
        "      return False\r\n",
        "    i+=1\r\n",
        "  return True"
      ],
      "execution_count": 65,
      "outputs": []
    },
    {
      "cell_type": "code",
      "metadata": {
        "colab": {
          "base_uri": "https://localhost:8080/"
        },
        "id": "xd1RwNS1F9_v",
        "outputId": "e5bb4757-39f9-46a6-a851-1595cb7736c6"
      },
      "source": [
        "print(isprime(3))"
      ],
      "execution_count": 66,
      "outputs": [
        {
          "output_type": "stream",
          "text": [
            "True\n"
          ],
          "name": "stdout"
        }
      ]
    },
    {
      "cell_type": "code",
      "metadata": {
        "colab": {
          "base_uri": "https://localhost:8080/"
        },
        "id": "Oxo8Wk6Dv_0-",
        "outputId": "fbee1f5b-0736-4b6e-e678-c20efeb15056"
      },
      "source": [
        "print(isprime(1251))"
      ],
      "execution_count": 67,
      "outputs": [
        {
          "output_type": "stream",
          "text": [
            "False\n"
          ],
          "name": "stdout"
        }
      ]
    },
    {
      "cell_type": "markdown",
      "metadata": {
        "id": "Hg5L201FwZcR"
      },
      "source": [
        "3. Write a function that transposes a matrix. Test with a 3 x 3 identity matrix"
      ]
    },
    {
      "cell_type": "code",
      "metadata": {
        "id": "04ymcRXdwsyi"
      },
      "source": [
        "def transp(x):\r\n",
        "  y=[[x[j][i] for j in range(len(x))] for i in range(len(x[0]))]\r\n",
        "  return y"
      ],
      "execution_count": 68,
      "outputs": []
    },
    {
      "cell_type": "code",
      "metadata": {
        "colab": {
          "base_uri": "https://localhost:8080/"
        },
        "id": "dLhUB9DJwbZs",
        "outputId": "228c4383-1d2b-48c6-c4be-1d0602265de6"
      },
      "source": [
        "a=[[1,0,0],[0,1,0],[0,0,1]]\r\n",
        "b=transp(a)\r\n",
        "for i in b:\r\n",
        "  print(i)"
      ],
      "execution_count": 69,
      "outputs": [
        {
          "output_type": "stream",
          "text": [
            "[1, 0, 0]\n",
            "[0, 1, 0]\n",
            "[0, 0, 1]\n"
          ],
          "name": "stdout"
        }
      ]
    },
    {
      "cell_type": "markdown",
      "metadata": {
        "id": "T3dQxg1NM6kf"
      },
      "source": [
        "4. Using Pandas and Numpy, write a piece of code to combine two series into one. Test\r\n",
        "your code with:\r\n",
        "np.random.seed(0)\r\n",
        "series1 = pd.Series(np.arange(10))\r\n",
        "series2 = pd.Series(np.arange(26))\r\n",
        "Do not forget to set the seed, or your answer won’t be reproducible.\r\n"
      ]
    },
    {
      "cell_type": "code",
      "metadata": {
        "colab": {
          "base_uri": "https://localhost:8080/"
        },
        "id": "5q7-PaGuM7o7",
        "outputId": "43884b2a-6440-49a2-b634-282308ee265f"
      },
      "source": [
        "import numpy as np\r\n",
        "import pandas as pd\r\n",
        "\r\n",
        "np.random.seed(0)\r\n",
        "series1 = pd.Series(np.arange(10))\r\n",
        "series2 = pd.Series(np.arange(26))\r\n",
        "\r\n",
        "print(series1)\r\n",
        "print(series2)\r\n",
        "\r\n",
        "mergedseries=series1.append(series2)\r\n",
        "print('printing combined series')\r\n",
        "print(mergedseries)"
      ],
      "execution_count": 70,
      "outputs": [
        {
          "output_type": "stream",
          "text": [
            "0    0\n",
            "1    1\n",
            "2    2\n",
            "3    3\n",
            "4    4\n",
            "5    5\n",
            "6    6\n",
            "7    7\n",
            "8    8\n",
            "9    9\n",
            "dtype: int64\n",
            "0      0\n",
            "1      1\n",
            "2      2\n",
            "3      3\n",
            "4      4\n",
            "5      5\n",
            "6      6\n",
            "7      7\n",
            "8      8\n",
            "9      9\n",
            "10    10\n",
            "11    11\n",
            "12    12\n",
            "13    13\n",
            "14    14\n",
            "15    15\n",
            "16    16\n",
            "17    17\n",
            "18    18\n",
            "19    19\n",
            "20    20\n",
            "21    21\n",
            "22    22\n",
            "23    23\n",
            "24    24\n",
            "25    25\n",
            "dtype: int64\n",
            "printing combined series\n",
            "0      0\n",
            "1      1\n",
            "2      2\n",
            "3      3\n",
            "4      4\n",
            "5      5\n",
            "6      6\n",
            "7      7\n",
            "8      8\n",
            "9      9\n",
            "0      0\n",
            "1      1\n",
            "2      2\n",
            "3      3\n",
            "4      4\n",
            "5      5\n",
            "6      6\n",
            "7      7\n",
            "8      8\n",
            "9      9\n",
            "10    10\n",
            "11    11\n",
            "12    12\n",
            "13    13\n",
            "14    14\n",
            "15    15\n",
            "16    16\n",
            "17    17\n",
            "18    18\n",
            "19    19\n",
            "20    20\n",
            "21    21\n",
            "22    22\n",
            "23    23\n",
            "24    24\n",
            "25    25\n",
            "dtype: int64\n"
          ],
          "name": "stdout"
        }
      ]
    },
    {
      "cell_type": "markdown",
      "metadata": {
        "id": "x8o7wmKLRl_X"
      },
      "source": [
        "5. Using pandas, write a piece of code to convert the first character of each element in a\r\n",
        "series to uppercase. Test your code with:\r\n",
        "series = pd.Series(['nlp', 'will', 'be', 'easy?'])"
      ]
    },
    {
      "cell_type": "code",
      "metadata": {
        "id": "gFFqRCnNRp8G"
      },
      "source": [
        "series = pd.Series(['nlp', 'will', 'be', 'easy?'])\r\n",
        "\r\n",
        "def supper(series):\r\n",
        "  updated=[]\r\n",
        "  for i,v in series.iteritems():\r\n",
        "    #print(v)\r\n",
        "    ele=str(v[0]).upper()\r\n",
        "    ele=ele+v[1:len(x)+1]\r\n",
        "    #print(x[1:len(x)])\r\n",
        "    #print(ele)\r\n",
        "    updated+=[ele]\r\n",
        "  return pd.Series(updated)\r\n"
      ],
      "execution_count": 71,
      "outputs": []
    },
    {
      "cell_type": "code",
      "metadata": {
        "colab": {
          "base_uri": "https://localhost:8080/"
        },
        "id": "3FOP_-Xjkapd",
        "outputId": "95154bf9-7bb2-4396-808b-5bd390bf3a23"
      },
      "source": [
        "x=supper(series)\r\n",
        "print(x)"
      ],
      "execution_count": 72,
      "outputs": [
        {
          "output_type": "stream",
          "text": [
            "0      Nlp\n",
            "1     Will\n",
            "2       Be\n",
            "3    Easy?\n",
            "dtype: object\n"
          ],
          "name": "stdout"
        }
      ]
    },
    {
      "cell_type": "markdown",
      "metadata": {
        "id": "j-Xc3EATxhvb"
      },
      "source": [
        "Bonus: Using pandas, write a piece of code to get the frequency of unique values in the\r\n",
        "entire dataframe (not using built in functions). Test your code with:\r\n",
        "dataFrame = pd.DataFrame(np.random.randint(5, 10, 20).reshape(-1, 4), columns = list('abcd'))"
      ]
    },
    {
      "cell_type": "code",
      "metadata": {
        "colab": {
          "base_uri": "https://localhost:8080/"
        },
        "id": "pFZg-YFtxjrb",
        "outputId": "a3492a4c-b2de-4843-888f-ba357d299481"
      },
      "source": [
        "dataFrame = pd.DataFrame(np.random.randint(5, 10, 20).reshape(-1, 4), columns = list('abcd'))\r\n",
        "print(dataFrame)"
      ],
      "execution_count": 73,
      "outputs": [
        {
          "output_type": "stream",
          "text": [
            "   a  b  c  d\n",
            "0  9  5  8  8\n",
            "1  8  6  8  7\n",
            "2  9  5  5  9\n",
            "3  7  6  5  6\n",
            "4  6  5  6  9\n"
          ],
          "name": "stdout"
        }
      ]
    },
    {
      "cell_type": "code",
      "metadata": {
        "id": "SdSciUYRD9pt"
      },
      "source": [
        "def df_unique(df):\r\n",
        "  keyval={}\r\n",
        "  dlist=list(df.values.flatten())\r\n",
        "  for i in dlist:\r\n",
        "    if i in keyval.keys():\r\n",
        "      keyval[i]+=1\r\n",
        "    else:\r\n",
        "      keyval[i]=1\r\n",
        "\r\n",
        "  return len(list(keyval.keys()))\r\n",
        "# the function also stores the number of occurences of each key in the corresponding value"
      ],
      "execution_count": 74,
      "outputs": []
    },
    {
      "cell_type": "code",
      "metadata": {
        "colab": {
          "base_uri": "https://localhost:8080/"
        },
        "id": "fXVlJcZoEre3",
        "outputId": "fb7113cc-c388-4a3a-f353-346cfc0b0d6c"
      },
      "source": [
        "unique=df_unique(dataFrame)\r\n",
        "print(unique)"
      ],
      "execution_count": 75,
      "outputs": [
        {
          "output_type": "stream",
          "text": [
            "5\n"
          ],
          "name": "stdout"
        }
      ]
    }
  ]
}